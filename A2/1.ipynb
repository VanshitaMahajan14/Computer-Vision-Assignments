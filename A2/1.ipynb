{
 "cells": [
  {
   "cell_type": "code",
   "execution_count": 1,
   "metadata": {
    "execution": {
     "iopub.execute_input": "2025-02-09T21:34:24.902311Z",
     "iopub.status.busy": "2025-02-09T21:34:24.902122Z",
     "iopub.status.idle": "2025-02-09T21:34:30.895052Z",
     "shell.execute_reply": "2025-02-09T21:34:30.894342Z",
     "shell.execute_reply.started": "2025-02-09T21:34:24.902292Z"
    },
    "trusted": true
   },
   "outputs": [],
   "source": [
    "import torch\n",
    "from torch.utils.data import Dataset, DataLoader\n",
    "import torchvision.transforms as transforms\n",
    "import torchvision.models as models\n",
    "import torch.nn as nn\n",
    "import torch.optim as optim\n",
    "from sklearn.model_selection import train_test_split"
   ]
  },
  {
   "cell_type": "code",
   "execution_count": 2,
   "metadata": {
    "execution": {
     "iopub.execute_input": "2025-02-09T21:34:36.736723Z",
     "iopub.status.busy": "2025-02-09T21:34:36.736338Z",
     "iopub.status.idle": "2025-02-09T21:34:44.784957Z",
     "shell.execute_reply": "2025-02-09T21:34:44.784225Z",
     "shell.execute_reply.started": "2025-02-09T21:34:36.736691Z"
    },
    "trusted": true
   },
   "outputs": [
    {
     "name": "stderr",
     "output_type": "stream",
     "text": [
      "\u001b[34m\u001b[1mwandb\u001b[0m: Using wandb-core as the SDK backend.  Please refer to https://wandb.me/wandb-core for more information.\n",
      "\u001b[34m\u001b[1mwandb\u001b[0m: Currently logged in as: \u001b[33mvanshitamahajan1401\u001b[0m (\u001b[33msolo_yolo\u001b[0m). Use \u001b[1m`wandb login --relogin`\u001b[0m to force relogin\n",
      "\u001b[34m\u001b[1mwandb\u001b[0m: \u001b[33mWARNING\u001b[0m If you're specifying your api key in code, ensure this code is not shared publicly.\n",
      "\u001b[34m\u001b[1mwandb\u001b[0m: \u001b[33mWARNING\u001b[0m Consider setting the WANDB_API_KEY environment variable, or running `wandb login` from the command line.\n",
      "\u001b[34m\u001b[1mwandb\u001b[0m: Appending key for api.wandb.ai to your netrc file: /root/.netrc\n"
     ]
    },
    {
     "data": {
      "text/plain": [
       "True"
      ]
     },
     "execution_count": 2,
     "metadata": {},
     "output_type": "execute_result"
    }
   ],
   "source": [
    "import wandb\n",
    "wandb.login(key=\"21cc29b0dd7a42c84bee84eb732730a65e762855\")"
   ]
  },
  {
   "cell_type": "code",
   "execution_count": 24,
   "metadata": {
    "execution": {
     "iopub.execute_input": "2025-02-09T21:56:39.563812Z",
     "iopub.status.busy": "2025-02-09T21:56:39.563459Z",
     "iopub.status.idle": "2025-02-09T21:56:39.568774Z",
     "shell.execute_reply": "2025-02-09T21:56:39.567983Z",
     "shell.execute_reply.started": "2025-02-09T21:56:39.563784Z"
    },
    "trusted": true
   },
   "outputs": [],
   "source": [
    "def finish_run():\n",
    "    if wandb.run is not None:\n",
    "        wandb.finish()"
   ]
  },
  {
   "cell_type": "code",
   "execution_count": 4,
   "metadata": {
    "execution": {
     "iopub.execute_input": "2025-02-09T21:34:51.710845Z",
     "iopub.status.busy": "2025-02-09T21:34:51.710401Z",
     "iopub.status.idle": "2025-02-09T21:34:53.790606Z",
     "shell.execute_reply": "2025-02-09T21:34:53.789416Z",
     "shell.execute_reply.started": "2025-02-09T21:34:51.710814Z"
    },
    "trusted": true
   },
   "outputs": [
    {
     "name": "stdout",
     "output_type": "stream",
     "text": [
      "Train Data Shape: torch.Size([50000, 3, 36, 36])\n",
      "Train Labels Shape: torch.Size([50000])\n",
      "Test Data Shape: torch.Size([10000, 3, 36, 36])\n",
      "Test Labels Shape: torch.Size([10000])\n"
     ]
    }
   ],
   "source": [
    "import warnings\n",
    "warnings.filterwarnings(\"ignore\")\n",
    "\n",
    "base_path = \"/kaggle/input/cv-a2-dataset/datasets/CV Assignment 2/Q1\"\n",
    "train_data = torch.load(base_path +\"/train_data.pt\")\n",
    "train_labels = torch.load(base_path  + \"/train_labels.pt\")\n",
    "test_data = torch.load(base_path +  \"/test_data.pt\")\n",
    "test_labels = torch.load(base_path +  \"/test_labels.pt\")\n",
    "\n",
    "print(f\"Train Data Shape: {train_data.shape}\") \n",
    "print(f\"Train Labels Shape: {train_labels.shape}\") \n",
    "print(f\"Test Data Shape: {test_data.shape}\")\n",
    "print(f\"Test Labels Shape: {test_labels.shape}\")"
   ]
  },
  {
   "cell_type": "code",
   "execution_count": 2,
   "metadata": {
    "execution": {
     "iopub.execute_input": "2025-02-09T21:35:12.099010Z",
     "iopub.status.busy": "2025-02-09T21:35:12.098698Z",
     "iopub.status.idle": "2025-02-09T21:35:12.103994Z",
     "shell.execute_reply": "2025-02-09T21:35:12.102973Z",
     "shell.execute_reply.started": "2025-02-09T21:35:12.098984Z"
    },
    "trusted": true
   },
   "outputs": [],
   "source": [
    "def get_resnet18(num_classes, pretrained=False):\n",
    "    model = models.resnet18(weights=models.ResNet18_Weights.IMAGENET1K_V1 if pretrained else None)\n",
    "    model.fc = nn.Linear(512, num_classes)  # Modify FC layer\n",
    "    return model"
   ]
  },
  {
   "cell_type": "code",
   "execution_count": null,
   "metadata": {},
   "outputs": [
    {
     "name": "stdout",
     "output_type": "stream",
     "text": [
      "conv1: torch.Size([1, 64, 18, 18])\n",
      "bn1: torch.Size([1, 64, 18, 18])\n",
      "relu: torch.Size([1, 64, 18, 18])\n",
      "maxpool: torch.Size([1, 64, 9, 9])\n",
      "layer1: torch.Size([1, 64, 9, 9])\n",
      "layer2: torch.Size([1, 128, 5, 5])\n",
      "layer3: torch.Size([1, 256, 3, 3])\n",
      "layer4: torch.Size([1, 512, 2, 2])\n",
      "avgpool: torch.Size([1, 512, 1, 1])\n",
      "fc: torch.Size([1, 512, 1, 1])\n"
     ]
    }
   ],
   "source": [
    "model_details = get_resnet18(num_classes=10, pretrained=False)\n",
    "x = torch. rand (1, 3, 36, 36)\n",
    "for name, layer in model_details. named_children():\n",
    "    x = layer(x) if 'fc' not in name else x\n",
    "    print(f\"{name}: {x.shape}\")"
   ]
  },
  {
   "cell_type": "code",
   "execution_count": 6,
   "metadata": {
    "execution": {
     "iopub.execute_input": "2025-02-09T21:35:15.340315Z",
     "iopub.status.busy": "2025-02-09T21:35:15.340041Z",
     "iopub.status.idle": "2025-02-09T21:35:15.353315Z",
     "shell.execute_reply": "2025-02-09T21:35:15.352450Z",
     "shell.execute_reply.started": "2025-02-09T21:35:15.340293Z"
    },
    "trusted": true
   },
   "outputs": [],
   "source": [
    "class CustomDataset(Dataset):\n",
    "    def __init__(self, data, labels, image_size, transform=None):\n",
    "        self.data = data\n",
    "        self.labels = labels\n",
    "        self.image_size = image_size\n",
    "\n",
    "        # Default transform if none is provided\n",
    "        self.transform = transform if transform else transforms.Compose([\n",
    "            transforms.Resize((self.image_size, self.image_size)),  # Resize dynamically\n",
    "            transforms.Normalize(mean=[0.5, 0.5, 0.5], std=[0.5, 0.5, 0.5])\n",
    "        ])\n",
    "\n",
    "    def __len__(self):\n",
    "        return len(self.data)\n",
    "\n",
    "    def __getitem__(self, idx):\n",
    "        img, label = self.data[idx], self.labels[idx]\n",
    "        img = img.float() / 255.0  # Normalize to [0,1] range\n",
    "\n",
    "        # Apply transformation\n",
    "        img = self.transform(img)\n",
    "\n",
    "        return img, label\n",
    "\n",
    "# Function to get data loaders for train, validation, and test\n",
    "def get_dataloaders(batch_size=64, val_split=0.2, image_size = 36):\n",
    "    # Split the dataset into training and validation sets (80% train, 20% validation)\n",
    "    train, val, train_labels_1, val_labels_1 = train_test_split(train_data, train_labels, test_size=val_split, random_state=42)\n",
    "\n",
    "    # Create dataset instances for train, validation, and test\n",
    "    train_dataset = CustomDataset(train, train_labels_1, image_size)\n",
    "    val_dataset = CustomDataset(val, val_labels_1, image_size)\n",
    "    test_dataset = CustomDataset(test_data, test_labels, image_size)\n",
    "    \n",
    "    # Create data loaders for train, validation, and test\n",
    "    train_loader = DataLoader(train_dataset, batch_size=batch_size, shuffle=True)\n",
    "    val_loader = DataLoader(val_dataset, batch_size=batch_size, shuffle=False)\n",
    "    test_loader = DataLoader(test_dataset, batch_size=batch_size, shuffle=False)\n",
    "    \n",
    "    return train_loader, val_loader, test_loader\n",
    "\n",
    "# Training Function with Early Stopping\n",
    "def train_model(model, train_loader, val_loader, test_loader, epochs=10, lr=0.001, patience=3, model_name = \"Scratch Resnet18\", image_size = 36):\n",
    "    device = torch.device(\"cuda\" if torch.cuda.is_available() else \"cpu\")\n",
    "    model.to(device)\n",
    "    criterion = nn.CrossEntropyLoss()\n",
    "    optimizer = optim.Adam(model.parameters(), lr=lr)\n",
    "\n",
    "    train_losses, val_losses = [], []\n",
    "    \n",
    "    best_val_loss = float('inf')\n",
    "    epochs_without_improvement = 0\n",
    "    best_model_wts = None\n",
    "    \n",
    "    for epoch in range(epochs):\n",
    "        model.train()\n",
    "        total_loss, correct, total = 0, 0, 0\n",
    "        \n",
    "        # Training loop\n",
    "        for images, labels in train_loader:\n",
    "            images, labels = images.to(device), labels.to(device)\n",
    "            optimizer.zero_grad()\n",
    "            outputs = model(images)\n",
    "            loss = criterion(outputs, labels)\n",
    "            loss.backward()\n",
    "            optimizer.step()\n",
    "            total_loss += loss.item()\n",
    "            correct += (outputs.argmax(1) == labels).sum().item()\n",
    "            total += labels.size(0)\n",
    "        \n",
    "        train_acc = correct / total\n",
    "        \n",
    "        # Validation loop\n",
    "        model.eval()\n",
    "        val_loss, val_correct, val_total = 0, 0, 0\n",
    "        with torch.no_grad():\n",
    "            for images, labels in val_loader:\n",
    "                images, labels = images.to(device), labels.to(device)\n",
    "                outputs = model(images)\n",
    "                loss = criterion(outputs, labels)\n",
    "                val_loss += loss.item()\n",
    "                val_correct += (outputs.argmax(1) == labels).sum().item()\n",
    "                val_total += labels.size(0)\n",
    "        \n",
    "        val_acc = val_correct / val_total\n",
    "        avg_val_loss = val_loss / len(val_loader)\n",
    "        avg_train_loss = total_loss / len(train_loader)\n",
    "\n",
    "        train_losses.append(avg_train_loss)\n",
    "        val_losses.append(avg_val_loss)\n",
    "        \n",
    "        print(f\"Epoch {epoch+1}: Train Loss = {avg_train_loss:.4f}, Train Accuracy = {train_acc:.4f}, Validation Loss = {avg_val_loss:.4f}, Validation Accuracy = {val_acc:.4f}\")\n",
    "        \n",
    "        # Early stopping logic\n",
    "        if avg_val_loss < best_val_loss:\n",
    "            best_val_loss = avg_val_loss\n",
    "            best_model_wts = model.state_dict()\n",
    "            epochs_without_improvement = 0\n",
    "        else:\n",
    "            epochs_without_improvement += 1\n",
    "        \n",
    "        if epochs_without_improvement >= patience:\n",
    "            print(f\"Early stopping at epoch {epoch+1} due to no improvement in validation loss.\")\n",
    "            break\n",
    "    \n",
    "    # Load the best model weights after early stopping\n",
    "    if best_model_wts is not None:\n",
    "        model.load_state_dict(best_model_wts)\n",
    "     \n",
    "    run_name = f\"Model: {model_name}, Image size: {image_size}\"\n",
    "    wandb.init(project=\"CV A2 Resnet\", name=run_name, reinit=True)\n",
    "\n",
    "    for epoch, (train_loss, val_loss) in enumerate(zip(train_losses, val_losses), start=1):\n",
    "        wandb.log({\"epoch\": epoch, \"train_loss\": train_loss, \"val_loss\": val_loss})\n",
    "\n",
    "    return train_losses, val_losses"
   ]
  },
  {
   "cell_type": "code",
   "execution_count": 68,
   "metadata": {
    "execution": {
     "iopub.execute_input": "2025-02-09T22:50:19.842447Z",
     "iopub.status.busy": "2025-02-09T22:50:19.842138Z",
     "iopub.status.idle": "2025-02-09T22:50:19.849784Z",
     "shell.execute_reply": "2025-02-09T22:50:19.848799Z",
     "shell.execute_reply.started": "2025-02-09T22:50:19.842403Z"
    },
    "trusted": true
   },
   "outputs": [],
   "source": [
    "from sklearn.metrics import f1_score, confusion_matrix\n",
    "\n",
    "def evaluate_model(model, test_loader):\n",
    "    device = torch.device(\"cuda\" if torch.cuda.is_available() else \"cpu\")\n",
    "    model.to(device)\n",
    "    model.eval()  # Set model to evaluation mode\n",
    "\n",
    "    correct, total = 0, 0\n",
    "    all_preds, all_labels = [], []  # Store predictions and labels for F1-score & confusion matrix\n",
    "\n",
    "    with torch.no_grad():  # Disable gradient computation\n",
    "        for images, labels in test_loader:\n",
    "            images, labels = images.to(device), labels.to(device)\n",
    "            outputs = model(images)\n",
    "            predictions = outputs.argmax(dim=1)  # Get class with highest probability\n",
    "            \n",
    "            correct += (predictions == labels).sum().item()\n",
    "            total += labels.size(0)\n",
    "            \n",
    "            all_preds.extend(predictions.cpu().numpy())  # Move to CPU for sklearn\n",
    "            all_labels.extend(labels.cpu().numpy())\n",
    "\n",
    "    accuracy = correct / total\n",
    "    f1 = f1_score(all_labels, all_preds, average=\"weighted\")  # Weighted F1-score\n",
    "    conf_matrix = confusion_matrix(all_labels, all_preds)  # Renamed variable\n",
    "\n",
    "    return accuracy, f1, conf_matrix"
   ]
  },
  {
   "cell_type": "code",
   "execution_count": 7,
   "metadata": {
    "execution": {
     "iopub.execute_input": "2025-02-09T21:35:18.016036Z",
     "iopub.status.busy": "2025-02-09T21:35:18.015701Z",
     "iopub.status.idle": "2025-02-09T21:35:18.404140Z",
     "shell.execute_reply": "2025-02-09T21:35:18.403142Z",
     "shell.execute_reply.started": "2025-02-09T21:35:18.016010Z"
    },
    "trusted": true
   },
   "outputs": [],
   "source": [
    "num_classes = len(torch.unique(train_labels)) \n",
    "num_classes\n",
    "train_loader_1, val_loader_1, test_loader_1 = get_dataloaders(image_size = 36)\n",
    "train_loader_2, val_loader_2, test_loader_2 = get_dataloaders(batch_size = 32, image_size = 224)"
   ]
  },
  {
   "cell_type": "markdown",
   "metadata": {},
   "source": [
    "## 1.1 Baseline"
   ]
  },
  {
   "cell_type": "markdown",
   "metadata": {},
   "source": [
    "### ResNet from scratch"
   ]
  },
  {
   "cell_type": "code",
   "execution_count": 8,
   "metadata": {
    "execution": {
     "iopub.execute_input": "2025-02-09T21:35:21.487106Z",
     "iopub.status.busy": "2025-02-09T21:35:21.486784Z",
     "iopub.status.idle": "2025-02-09T21:38:44.116735Z",
     "shell.execute_reply": "2025-02-09T21:38:44.115899Z",
     "shell.execute_reply.started": "2025-02-09T21:35:21.487080Z"
    },
    "trusted": true
   },
   "outputs": [
    {
     "name": "stdout",
     "output_type": "stream",
     "text": [
      "Epoch 1: Train Loss = 1.3604, Train Accuracy = 0.5110, Validation Loss = 1.0987, Validation Accuracy = 0.6081\n",
      "Epoch 2: Train Loss = 0.9648, Train Accuracy = 0.6597, Validation Loss = 0.9106, Validation Accuracy = 0.6756\n",
      "Epoch 3: Train Loss = 0.7869, Train Accuracy = 0.7251, Validation Loss = 0.8799, Validation Accuracy = 0.6948\n",
      "Epoch 4: Train Loss = 0.6511, Train Accuracy = 0.7738, Validation Loss = 0.7773, Validation Accuracy = 0.7357\n",
      "Epoch 5: Train Loss = 0.5349, Train Accuracy = 0.8128, Validation Loss = 0.7616, Validation Accuracy = 0.7467\n",
      "Epoch 6: Train Loss = 0.4276, Train Accuracy = 0.8501, Validation Loss = 0.7363, Validation Accuracy = 0.7662\n",
      "Epoch 7: Train Loss = 0.3225, Train Accuracy = 0.8877, Validation Loss = 0.8419, Validation Accuracy = 0.7486\n",
      "Epoch 8: Train Loss = 0.2435, Train Accuracy = 0.9144, Validation Loss = 0.9004, Validation Accuracy = 0.7526\n",
      "Epoch 9: Train Loss = 0.1879, Train Accuracy = 0.9334, Validation Loss = 0.9725, Validation Accuracy = 0.7449\n",
      "Early stopping at epoch 9 due to no improvement in validation loss.\n"
     ]
    },
    {
     "data": {
      "text/html": [
       "Tracking run with wandb version 0.19.1"
      ],
      "text/plain": [
       "<IPython.core.display.HTML object>"
      ]
     },
     "metadata": {},
     "output_type": "display_data"
    },
    {
     "data": {
      "text/html": [
       "Run data is saved locally in <code>/kaggle/working/wandb/run-20250209_213837-eztec0ka</code>"
      ],
      "text/plain": [
       "<IPython.core.display.HTML object>"
      ]
     },
     "metadata": {},
     "output_type": "display_data"
    },
    {
     "data": {
      "text/html": [
       "Syncing run <strong><a href='https://wandb.ai/solo_yolo/CV%20A2%20Resnet/runs/eztec0ka' target=\"_blank\">Model: Scratch Resnet18, Image size: 36</a></strong> to <a href='https://wandb.ai/solo_yolo/CV%20A2%20Resnet' target=\"_blank\">Weights & Biases</a> (<a href='https://wandb.me/developer-guide' target=\"_blank\">docs</a>)<br>"
      ],
      "text/plain": [
       "<IPython.core.display.HTML object>"
      ]
     },
     "metadata": {},
     "output_type": "display_data"
    },
    {
     "data": {
      "text/html": [
       " View project at <a href='https://wandb.ai/solo_yolo/CV%20A2%20Resnet' target=\"_blank\">https://wandb.ai/solo_yolo/CV%20A2%20Resnet</a>"
      ],
      "text/plain": [
       "<IPython.core.display.HTML object>"
      ]
     },
     "metadata": {},
     "output_type": "display_data"
    },
    {
     "data": {
      "text/html": [
       " View run at <a href='https://wandb.ai/solo_yolo/CV%20A2%20Resnet/runs/eztec0ka' target=\"_blank\">https://wandb.ai/solo_yolo/CV%20A2%20Resnet/runs/eztec0ka</a>"
      ],
      "text/plain": [
       "<IPython.core.display.HTML object>"
      ]
     },
     "metadata": {},
     "output_type": "display_data"
    },
    {
     "data": {
      "text/plain": [
       "([1.3604263772964478,\n",
       "  0.9648204377174378,\n",
       "  0.7869316023826599,\n",
       "  0.6510714854717254,\n",
       "  0.5349326236486435,\n",
       "  0.42756436805725095,\n",
       "  0.3225167368412018,\n",
       "  0.24351552265286447,\n",
       "  0.18787686287164687],\n",
       " [1.0987286692971636,\n",
       "  0.9105733631143145,\n",
       "  0.8799411515901043,\n",
       "  0.7772657554240743,\n",
       "  0.7615754985885256,\n",
       "  0.7362740119551398,\n",
       "  0.8418579595104144,\n",
       "  0.9003843824574902,\n",
       "  0.9725105084811047])"
      ]
     },
     "execution_count": 8,
     "metadata": {},
     "output_type": "execute_result"
    }
   ],
   "source": [
    "model_scratch_1 =  get_resnet18(num_classes, pretrained=False)\n",
    "train_model(model_scratch_1, train_loader_1, val_loader_1, test_loader_1, epochs=20, lr=0.001, patience=3, model_name = \"Scratch Resnet18\", image_size = 36)"
   ]
  },
  {
   "cell_type": "code",
   "execution_count": 11,
   "metadata": {
    "execution": {
     "iopub.execute_input": "2025-02-09T21:38:53.605996Z",
     "iopub.status.busy": "2025-02-09T21:38:53.605721Z",
     "iopub.status.idle": "2025-02-09T21:38:55.680224Z",
     "shell.execute_reply": "2025-02-09T21:38:55.679272Z",
     "shell.execute_reply.started": "2025-02-09T21:38:53.605976Z"
    },
    "trusted": true
   },
   "outputs": [
    {
     "name": "stdout",
     "output_type": "stream",
     "text": [
      "Accuracy: 0.74, f1: 0.7369257932876512\n"
     ]
    }
   ],
   "source": [
    "accuracy, f1, confusion_matrix = evaluate_model(model_scratch_1, test_loader_1)\n",
    "print(f\"Accuracy: {accuracy}, f1: {f1}\")"
   ]
  },
  {
   "cell_type": "code",
   "execution_count": 14,
   "metadata": {
    "execution": {
     "iopub.execute_input": "2025-02-09T21:47:57.560514Z",
     "iopub.status.busy": "2025-02-09T21:47:57.560106Z",
     "iopub.status.idle": "2025-02-09T21:47:57.566898Z",
     "shell.execute_reply": "2025-02-09T21:47:57.566092Z",
     "shell.execute_reply.started": "2025-02-09T21:47:57.560482Z"
    },
    "trusted": true
   },
   "outputs": [
    {
     "data": {
      "text/plain": [
       "array([[793,  32,  28,   8,  18,   4,   8,  16,  31,  62],\n",
       "       [ 14, 876,   5,   4,   8,   3,   3,   3,   6,  78],\n",
       "       [ 55,  11, 668,  50,  75,  45,  45,  24,  12,  15],\n",
       "       [ 30,  22,  62, 490,  82, 159,  67,  52,  12,  24],\n",
       "       [ 15,   7,  57,  38, 724,  35,  36,  73,   7,   8],\n",
       "       [ 18,  10,  49, 143,  57, 608,  17,  83,   5,  10],\n",
       "       [  4,  19,  40,  41,  47,  27, 794,  15,   4,   9],\n",
       "       [ 15,   6,  22,  19,  53,  19,   5, 845,   2,  14],\n",
       "       [ 92,  60,   8,   8,   4,   4,   3,   7, 747,  67],\n",
       "       [ 27,  74,   5,   4,   8,   3,   2,  13,   9, 855]])"
      ]
     },
     "execution_count": 14,
     "metadata": {},
     "output_type": "execute_result"
    }
   ],
   "source": [
    "confusion_matrix"
   ]
  },
  {
   "cell_type": "markdown",
   "metadata": {},
   "source": [
    "### Pre trained Resnet on ImageNet"
   ]
  },
  {
   "cell_type": "code",
   "execution_count": 17,
   "metadata": {
    "execution": {
     "iopub.execute_input": "2025-02-09T21:51:30.117364Z",
     "iopub.status.busy": "2025-02-09T21:51:30.116966Z",
     "iopub.status.idle": "2025-02-09T21:54:54.477550Z",
     "shell.execute_reply": "2025-02-09T21:54:54.476863Z",
     "shell.execute_reply.started": "2025-02-09T21:51:30.117264Z"
    },
    "trusted": true
   },
   "outputs": [
    {
     "name": "stdout",
     "output_type": "stream",
     "text": [
      "Epoch 1: Train Loss = 0.8930, Train Accuracy = 0.6997, Validation Loss = 0.7280, Validation Accuracy = 0.7565\n",
      "Epoch 2: Train Loss = 0.6007, Train Accuracy = 0.7976, Validation Loss = 0.9266, Validation Accuracy = 0.6956\n",
      "Epoch 3: Train Loss = 0.4961, Train Accuracy = 0.8354, Validation Loss = 0.6822, Validation Accuracy = 0.7761\n",
      "Epoch 4: Train Loss = 0.3823, Train Accuracy = 0.8701, Validation Loss = 0.6365, Validation Accuracy = 0.7993\n",
      "Epoch 5: Train Loss = 0.2761, Train Accuracy = 0.9058, Validation Loss = 0.6115, Validation Accuracy = 0.8104\n",
      "Epoch 6: Train Loss = 0.2252, Train Accuracy = 0.9239, Validation Loss = 0.5833, Validation Accuracy = 0.8202\n",
      "Epoch 7: Train Loss = 0.1904, Train Accuracy = 0.9347, Validation Loss = 0.6706, Validation Accuracy = 0.8130\n",
      "Epoch 8: Train Loss = 0.1542, Train Accuracy = 0.9469, Validation Loss = 0.7479, Validation Accuracy = 0.7944\n",
      "Epoch 9: Train Loss = 0.1372, Train Accuracy = 0.9545, Validation Loss = 0.6834, Validation Accuracy = 0.8035\n",
      "Early stopping at epoch 9 due to no improvement in validation loss.\n"
     ]
    },
    {
     "data": {
      "text/html": [
       "Tracking run with wandb version 0.19.1"
      ],
      "text/plain": [
       "<IPython.core.display.HTML object>"
      ]
     },
     "metadata": {},
     "output_type": "display_data"
    },
    {
     "data": {
      "text/html": [
       "Run data is saved locally in <code>/kaggle/working/wandb/run-20250209_215448-6d21rtef</code>"
      ],
      "text/plain": [
       "<IPython.core.display.HTML object>"
      ]
     },
     "metadata": {},
     "output_type": "display_data"
    },
    {
     "data": {
      "text/html": [
       "Syncing run <strong><a href='https://wandb.ai/solo_yolo/CV%20A2%20Resnet/runs/6d21rtef' target=\"_blank\">Model: Pretrained Resnet18, Image size: 36</a></strong> to <a href='https://wandb.ai/solo_yolo/CV%20A2%20Resnet' target=\"_blank\">Weights & Biases</a> (<a href='https://wandb.me/developer-guide' target=\"_blank\">docs</a>)<br>"
      ],
      "text/plain": [
       "<IPython.core.display.HTML object>"
      ]
     },
     "metadata": {},
     "output_type": "display_data"
    },
    {
     "data": {
      "text/html": [
       " View project at <a href='https://wandb.ai/solo_yolo/CV%20A2%20Resnet' target=\"_blank\">https://wandb.ai/solo_yolo/CV%20A2%20Resnet</a>"
      ],
      "text/plain": [
       "<IPython.core.display.HTML object>"
      ]
     },
     "metadata": {},
     "output_type": "display_data"
    },
    {
     "data": {
      "text/html": [
       " View run at <a href='https://wandb.ai/solo_yolo/CV%20A2%20Resnet/runs/6d21rtef' target=\"_blank\">https://wandb.ai/solo_yolo/CV%20A2%20Resnet/runs/6d21rtef</a>"
      ],
      "text/plain": [
       "<IPython.core.display.HTML object>"
      ]
     },
     "metadata": {},
     "output_type": "display_data"
    },
    {
     "data": {
      "text/plain": [
       "([0.8929656528949738,\n",
       "  0.6006718823909759,\n",
       "  0.4960545566082001,\n",
       "  0.3823473824739456,\n",
       "  0.2760554719746113,\n",
       "  0.22518192130327225,\n",
       "  0.19035413164794446,\n",
       "  0.15420716393887995,\n",
       "  0.1371852827847004],\n",
       " [0.7280047198010099,\n",
       "  0.9266072583805983,\n",
       "  0.6821850641707706,\n",
       "  0.6364684030888187,\n",
       "  0.6115278063496207,\n",
       "  0.5832732796289359,\n",
       "  0.6706070731020277,\n",
       "  0.7478745361422278,\n",
       "  0.6834482523096594])"
      ]
     },
     "execution_count": 17,
     "metadata": {},
     "output_type": "execute_result"
    }
   ],
   "source": [
    "model_pretrained_1 = get_resnet18(num_classes, pretrained=True)\n",
    "train_model(model_pretrained_1, train_loader_1, val_loader_1, test_loader_1, epochs=20, lr=0.001, patience=3, model_name = \"Pretrained Resnet18\", image_size = 36)"
   ]
  },
  {
   "cell_type": "code",
   "execution_count": 22,
   "metadata": {
    "execution": {
     "iopub.execute_input": "2025-02-09T21:56:24.127692Z",
     "iopub.status.busy": "2025-02-09T21:56:24.127337Z",
     "iopub.status.idle": "2025-02-09T21:56:26.177415Z",
     "shell.execute_reply": "2025-02-09T21:56:26.176295Z",
     "shell.execute_reply.started": "2025-02-09T21:56:24.127664Z"
    },
    "trusted": true
   },
   "outputs": [
    {
     "ename": "TypeError",
     "evalue": "'numpy.ndarray' object is not callable",
     "output_type": "error",
     "traceback": [
      "\u001b[0;31m---------------------------------------------------------------------------\u001b[0m",
      "\u001b[0;31mTypeError\u001b[0m                                 Traceback (most recent call last)",
      "\u001b[0;32m<ipython-input-22-d98c353582a4>\u001b[0m in \u001b[0;36m<cell line: 1>\u001b[0;34m()\u001b[0m\n\u001b[0;32m----> 1\u001b[0;31m \u001b[0maccuracy\u001b[0m\u001b[0;34m,\u001b[0m \u001b[0mf1\u001b[0m\u001b[0;34m,\u001b[0m \u001b[0mconfusion_matrix\u001b[0m \u001b[0;34m=\u001b[0m \u001b[0mevaluate_model\u001b[0m\u001b[0;34m(\u001b[0m\u001b[0mmodel_pretrained_1\u001b[0m\u001b[0;34m,\u001b[0m \u001b[0mtest_loader_1\u001b[0m\u001b[0;34m)\u001b[0m\u001b[0;34m\u001b[0m\u001b[0;34m\u001b[0m\u001b[0m\n\u001b[0m\u001b[1;32m      2\u001b[0m \u001b[0mprint\u001b[0m\u001b[0;34m(\u001b[0m\u001b[0;34mf\"Accuracy: {accuracy}, f1: {f1}\"\u001b[0m\u001b[0;34m)\u001b[0m\u001b[0;34m\u001b[0m\u001b[0;34m\u001b[0m\u001b[0m\n",
      "\u001b[0;32m<ipython-input-10-9d9e4d41c5f9>\u001b[0m in \u001b[0;36mevaluate_model\u001b[0;34m(model, test_loader)\u001b[0m\n\u001b[1;32m     23\u001b[0m     \u001b[0maccuracy\u001b[0m \u001b[0;34m=\u001b[0m \u001b[0mcorrect\u001b[0m \u001b[0;34m/\u001b[0m \u001b[0mtotal\u001b[0m\u001b[0;34m\u001b[0m\u001b[0;34m\u001b[0m\u001b[0m\n\u001b[1;32m     24\u001b[0m     \u001b[0mf1\u001b[0m \u001b[0;34m=\u001b[0m \u001b[0mf1_score\u001b[0m\u001b[0;34m(\u001b[0m\u001b[0mall_labels\u001b[0m\u001b[0;34m,\u001b[0m \u001b[0mall_preds\u001b[0m\u001b[0;34m,\u001b[0m \u001b[0maverage\u001b[0m\u001b[0;34m=\u001b[0m\u001b[0;34m\"weighted\"\u001b[0m\u001b[0;34m)\u001b[0m  \u001b[0;31m# Weighted F1-score\u001b[0m\u001b[0;34m\u001b[0m\u001b[0;34m\u001b[0m\u001b[0m\n\u001b[0;32m---> 25\u001b[0;31m     \u001b[0mconf_matrix_result\u001b[0m \u001b[0;34m=\u001b[0m \u001b[0mconfusion_matrix\u001b[0m\u001b[0;34m(\u001b[0m\u001b[0mall_labels\u001b[0m\u001b[0;34m,\u001b[0m \u001b[0mall_preds\u001b[0m\u001b[0;34m)\u001b[0m  \u001b[0;31m# Renamed variable\u001b[0m\u001b[0;34m\u001b[0m\u001b[0;34m\u001b[0m\u001b[0m\n\u001b[0m\u001b[1;32m     26\u001b[0m \u001b[0;34m\u001b[0m\u001b[0m\n\u001b[1;32m     27\u001b[0m     \u001b[0;32mreturn\u001b[0m \u001b[0maccuracy\u001b[0m\u001b[0;34m,\u001b[0m \u001b[0mf1\u001b[0m\u001b[0;34m,\u001b[0m \u001b[0mconf_matrix_result\u001b[0m  \u001b[0;31m# Return renamed variable\u001b[0m\u001b[0;34m\u001b[0m\u001b[0;34m\u001b[0m\u001b[0m\n",
      "\u001b[0;31mTypeError\u001b[0m: 'numpy.ndarray' object is not callable"
     ]
    }
   ],
   "source": [
    "accuracy, f1, confusion_matrix = evaluate_model(model_pretrained_1, test_loader_1)\n",
    "print(f\"Accuracy: {accuracy}, f1: {f1}\")"
   ]
  },
  {
   "cell_type": "code",
   "execution_count": 21,
   "metadata": {
    "execution": {
     "iopub.execute_input": "2025-02-09T21:56:19.143823Z",
     "iopub.status.busy": "2025-02-09T21:56:19.143378Z",
     "iopub.status.idle": "2025-02-09T21:56:19.150363Z",
     "shell.execute_reply": "2025-02-09T21:56:19.149330Z",
     "shell.execute_reply.started": "2025-02-09T21:56:19.143793Z"
    },
    "trusted": true
   },
   "outputs": [
    {
     "data": {
      "text/plain": [
       "array([[793,  32,  28,   8,  18,   4,   8,  16,  31,  62],\n",
       "       [ 14, 876,   5,   4,   8,   3,   3,   3,   6,  78],\n",
       "       [ 55,  11, 668,  50,  75,  45,  45,  24,  12,  15],\n",
       "       [ 30,  22,  62, 490,  82, 159,  67,  52,  12,  24],\n",
       "       [ 15,   7,  57,  38, 724,  35,  36,  73,   7,   8],\n",
       "       [ 18,  10,  49, 143,  57, 608,  17,  83,   5,  10],\n",
       "       [  4,  19,  40,  41,  47,  27, 794,  15,   4,   9],\n",
       "       [ 15,   6,  22,  19,  53,  19,   5, 845,   2,  14],\n",
       "       [ 92,  60,   8,   8,   4,   4,   3,   7, 747,  67],\n",
       "       [ 27,  74,   5,   4,   8,   3,   2,  13,   9, 855]])"
      ]
     },
     "execution_count": 21,
     "metadata": {},
     "output_type": "execute_result"
    }
   ],
   "source": [
    "confusion_matrix"
   ]
  },
  {
   "cell_type": "code",
   "execution_count": 25,
   "metadata": {
    "execution": {
     "iopub.execute_input": "2025-02-09T21:56:45.003602Z",
     "iopub.status.busy": "2025-02-09T21:56:45.003227Z",
     "iopub.status.idle": "2025-02-09T21:56:46.330766Z",
     "shell.execute_reply": "2025-02-09T21:56:46.330128Z",
     "shell.execute_reply.started": "2025-02-09T21:56:45.003576Z"
    },
    "trusted": true
   },
   "outputs": [
    {
     "data": {
      "text/html": [],
      "text/plain": [
       "<IPython.core.display.HTML object>"
      ]
     },
     "metadata": {},
     "output_type": "display_data"
    },
    {
     "data": {
      "text/html": [
       "<br>    <style><br>        .wandb-row {<br>            display: flex;<br>            flex-direction: row;<br>            flex-wrap: wrap;<br>            justify-content: flex-start;<br>            width: 100%;<br>        }<br>        .wandb-col {<br>            display: flex;<br>            flex-direction: column;<br>            flex-basis: 100%;<br>            flex: 1;<br>            padding: 10px;<br>        }<br>    </style><br><div class=\"wandb-row\"><div class=\"wandb-col\"><h3>Run history:</h3><br/><table class=\"wandb\"><tr><td>epoch</td><td>▁▂▃▄▅▅▆▇█</td></tr><tr><td>train_loss</td><td>█▅▄▃▂▂▁▁▁</td></tr><tr><td>val_loss</td><td>▄█▃▂▂▁▃▄▃</td></tr></table><br/></div><div class=\"wandb-col\"><h3>Run summary:</h3><br/><table class=\"wandb\"><tr><td>epoch</td><td>9</td></tr><tr><td>train_loss</td><td>0.13719</td></tr><tr><td>val_loss</td><td>0.68345</td></tr></table><br/></div></div>"
      ],
      "text/plain": [
       "<IPython.core.display.HTML object>"
      ]
     },
     "metadata": {},
     "output_type": "display_data"
    },
    {
     "data": {
      "text/html": [
       " View run <strong style=\"color:#cdcd00\">Model: Pretrained Resnet18, Image size: 36</strong> at: <a href='https://wandb.ai/solo_yolo/CV%20A2%20Resnet/runs/6d21rtef' target=\"_blank\">https://wandb.ai/solo_yolo/CV%20A2%20Resnet/runs/6d21rtef</a><br> View project at: <a href='https://wandb.ai/solo_yolo/CV%20A2%20Resnet' target=\"_blank\">https://wandb.ai/solo_yolo/CV%20A2%20Resnet</a><br>Synced 5 W&B file(s), 0 media file(s), 0 artifact file(s) and 0 other file(s)"
      ],
      "text/plain": [
       "<IPython.core.display.HTML object>"
      ]
     },
     "metadata": {},
     "output_type": "display_data"
    },
    {
     "data": {
      "text/html": [
       "Find logs at: <code>./wandb/run-20250209_215448-6d21rtef/logs</code>"
      ],
      "text/plain": [
       "<IPython.core.display.HTML object>"
      ]
     },
     "metadata": {},
     "output_type": "display_data"
    }
   ],
   "source": [
    "finish_run()"
   ]
  },
  {
   "cell_type": "markdown",
   "metadata": {},
   "source": [
    "# 1.2 Resized images"
   ]
  },
  {
   "cell_type": "markdown",
   "metadata": {},
   "source": [
    "### Resnet from scratch"
   ]
  },
  {
   "cell_type": "code",
   "execution_count": 12,
   "metadata": {
    "execution": {
     "iopub.execute_input": "2025-02-04T07:33:24.481692Z",
     "iopub.status.busy": "2025-02-04T07:33:24.481413Z",
     "iopub.status.idle": "2025-02-04T08:03:03.514815Z",
     "shell.execute_reply": "2025-02-04T08:03:03.514151Z",
     "shell.execute_reply.started": "2025-02-04T07:33:24.481669Z"
    },
    "trusted": true
   },
   "outputs": [
    {
     "name": "stdout",
     "output_type": "stream",
     "text": [
      "Epoch 1: Train Loss = 1.4950, Train Accuracy = 0.4551, Validation Loss = 1.3145, Validation Accuracy = 0.5361\n",
      "Epoch 2: Train Loss = 0.9378, Train Accuracy = 0.6669, Validation Loss = 0.8914, Validation Accuracy = 0.6853\n",
      "Epoch 3: Train Loss = 0.7121, Train Accuracy = 0.7518, Validation Loss = 0.7191, Validation Accuracy = 0.7538\n",
      "Epoch 4: Train Loss = 0.5722, Train Accuracy = 0.8012, Validation Loss = 0.6134, Validation Accuracy = 0.7897\n",
      "Epoch 5: Train Loss = 0.4605, Train Accuracy = 0.8404, Validation Loss = 0.5933, Validation Accuracy = 0.8005\n",
      "Epoch 6: Train Loss = 0.3608, Train Accuracy = 0.8734, Validation Loss = 0.6274, Validation Accuracy = 0.7934\n",
      "Epoch 7: Train Loss = 0.2698, Train Accuracy = 0.9045, Validation Loss = 0.6284, Validation Accuracy = 0.8123\n",
      "Epoch 8: Train Loss = 0.1964, Train Accuracy = 0.9310, Validation Loss = 0.5868, Validation Accuracy = 0.8246\n",
      "Epoch 9: Train Loss = 0.1391, Train Accuracy = 0.9509, Validation Loss = 0.7615, Validation Accuracy = 0.8072\n",
      "Epoch 10: Train Loss = 0.1142, Train Accuracy = 0.9588, Validation Loss = 0.6743, Validation Accuracy = 0.8257\n",
      "Epoch 11: Train Loss = 0.0837, Train Accuracy = 0.9699, Validation Loss = 0.7401, Validation Accuracy = 0.8269\n",
      "Early stopping at epoch 11 due to no improvement in validation loss.\n"
     ]
    },
    {
     "data": {
      "text/html": [
       "Tracking run with wandb version 0.19.1"
      ],
      "text/plain": [
       "<IPython.core.display.HTML object>"
      ]
     },
     "metadata": {},
     "output_type": "display_data"
    },
    {
     "data": {
      "text/html": [
       "Run data is saved locally in <code>/kaggle/working/wandb/run-20250204_080256-o9n4exbs</code>"
      ],
      "text/plain": [
       "<IPython.core.display.HTML object>"
      ]
     },
     "metadata": {},
     "output_type": "display_data"
    },
    {
     "data": {
      "text/html": [
       "Syncing run <strong><a href='https://wandb.ai/solo_yolo/CV%20A2%20Resnet/runs/o9n4exbs' target=\"_blank\">Model: Scratch Resnet18, Image size: 224</a></strong> to <a href='https://wandb.ai/solo_yolo/CV%20A2%20Resnet' target=\"_blank\">Weights & Biases</a> (<a href='https://wandb.me/developer-guide' target=\"_blank\">docs</a>)<br>"
      ],
      "text/plain": [
       "<IPython.core.display.HTML object>"
      ]
     },
     "metadata": {},
     "output_type": "display_data"
    },
    {
     "data": {
      "text/html": [
       " View project at <a href='https://wandb.ai/solo_yolo/CV%20A2%20Resnet' target=\"_blank\">https://wandb.ai/solo_yolo/CV%20A2%20Resnet</a>"
      ],
      "text/plain": [
       "<IPython.core.display.HTML object>"
      ]
     },
     "metadata": {},
     "output_type": "display_data"
    },
    {
     "data": {
      "text/html": [
       " View run at <a href='https://wandb.ai/solo_yolo/CV%20A2%20Resnet/runs/o9n4exbs' target=\"_blank\">https://wandb.ai/solo_yolo/CV%20A2%20Resnet/runs/o9n4exbs</a>"
      ],
      "text/plain": [
       "<IPython.core.display.HTML object>"
      ]
     },
     "metadata": {},
     "output_type": "display_data"
    }
   ],
   "source": [
    "model_scratch_2 = get_resnet18(num_classes=num_classes, pretrained=False)\n",
    "train_losses, val_losses = train_model(model_scratch_2, train_loader_2, val_loader_2, test_loader_2, epochs=20, lr=0.001, patience=3, model_name = \"Scratch Resnet18\", image_size = 224)"
   ]
  },
  {
   "cell_type": "code",
   "execution_count": 15,
   "metadata": {
    "execution": {
     "iopub.execute_input": "2025-02-04T08:05:19.757662Z",
     "iopub.status.busy": "2025-02-04T08:05:19.757396Z",
     "iopub.status.idle": "2025-02-04T08:05:34.343706Z",
     "shell.execute_reply": "2025-02-04T08:05:34.342970Z",
     "shell.execute_reply.started": "2025-02-04T08:05:19.757642Z"
    },
    "trusted": true
   },
   "outputs": [
    {
     "name": "stdout",
     "output_type": "stream",
     "text": [
      "Accuracy: 0.825, f1: 0.8233035370627926\n"
     ]
    }
   ],
   "source": [
    "accuracy, f1, confusion_matrix = evaluate_model(model_scratch_2, test_loader_2)\n",
    "print(f\"Accuracy: {accuracy}, f1: {f1}\")"
   ]
  },
  {
   "cell_type": "code",
   "execution_count": 16,
   "metadata": {
    "execution": {
     "iopub.execute_input": "2025-02-04T08:05:34.345212Z",
     "iopub.status.busy": "2025-02-04T08:05:34.344885Z",
     "iopub.status.idle": "2025-02-04T08:05:34.350735Z",
     "shell.execute_reply": "2025-02-04T08:05:34.350112Z",
     "shell.execute_reply.started": "2025-02-04T08:05:34.345176Z"
    },
    "trusted": true
   },
   "outputs": [
    {
     "data": {
      "text/plain": [
       "array([[852,  11,  27,   5,   9,   2,   4,  11,  63,  16],\n",
       "       [ 10, 942,   1,   3,   2,   2,   1,   0,  16,  23],\n",
       "       [ 60,   4, 737,  31,  47,  29,  47,  35,   8,   2],\n",
       "       [ 29,  11,  38, 667,  40, 101,  55,  44,  11,   4],\n",
       "       [  5,   3,  44,  34, 846,  11,  26,  28,   3,   0],\n",
       "       [  9,   0,  36, 150,  43, 682,  25,  48,   4,   3],\n",
       "       [  7,   3,  39,  22,  25,  10, 882,   8,   3,   1],\n",
       "       [  7,   2,  11,  22,  46,  16,   1, 894,   1,   0],\n",
       "       [ 30,  13,   4,   7,   4,   2,   3,   4, 923,  10],\n",
       "       [ 18,  97,   1,   7,   3,   2,   4,  14,  29, 825]])"
      ]
     },
     "execution_count": 16,
     "metadata": {},
     "output_type": "execute_result"
    }
   ],
   "source": [
    "confusion_matrix"
   ]
  },
  {
   "cell_type": "markdown",
   "metadata": {},
   "source": [
    "### Pre trained resnet"
   ]
  },
  {
   "cell_type": "code",
   "execution_count": 13,
   "metadata": {
    "execution": {
     "iopub.execute_input": "2025-02-04T12:44:49.786619Z",
     "iopub.status.busy": "2025-02-04T12:44:49.786314Z",
     "iopub.status.idle": "2025-02-04T13:03:45.257793Z",
     "shell.execute_reply": "2025-02-04T13:03:45.257064Z",
     "shell.execute_reply.started": "2025-02-04T12:44:49.786597Z"
    },
    "trusted": true
   },
   "outputs": [
    {
     "name": "stdout",
     "output_type": "stream",
     "text": [
      "Epoch 1: Train Loss = 0.7481, Train Accuracy = 0.7459, Validation Loss = 0.6435, Validation Accuracy = 0.7783\n",
      "Epoch 2: Train Loss = 0.4436, Train Accuracy = 0.8490, Validation Loss = 0.5349, Validation Accuracy = 0.8181\n",
      "Epoch 3: Train Loss = 0.3322, Train Accuracy = 0.8847, Validation Loss = 0.3911, Validation Accuracy = 0.8716\n",
      "Epoch 4: Train Loss = 0.2457, Train Accuracy = 0.9151, Validation Loss = 0.3677, Validation Accuracy = 0.8793\n",
      "Epoch 5: Train Loss = 0.1816, Train Accuracy = 0.9375, Validation Loss = 0.4107, Validation Accuracy = 0.8746\n",
      "Epoch 6: Train Loss = 0.1334, Train Accuracy = 0.9547, Validation Loss = 0.4230, Validation Accuracy = 0.8742\n",
      "Epoch 7: Train Loss = 0.1103, Train Accuracy = 0.9622, Validation Loss = 0.4657, Validation Accuracy = 0.8728\n",
      "Early stopping at epoch 7 due to no improvement in validation loss.\n"
     ]
    },
    {
     "data": {
      "text/html": [
       "Tracking run with wandb version 0.19.1"
      ],
      "text/plain": [
       "<IPython.core.display.HTML object>"
      ]
     },
     "metadata": {},
     "output_type": "display_data"
    },
    {
     "data": {
      "text/html": [
       "Run data is saved locally in <code>/kaggle/working/wandb/run-20250204_130338-v11ob95u</code>"
      ],
      "text/plain": [
       "<IPython.core.display.HTML object>"
      ]
     },
     "metadata": {},
     "output_type": "display_data"
    },
    {
     "data": {
      "text/html": [
       "Syncing run <strong><a href='https://wandb.ai/solo_yolo/CV%20A2%20Resnet/runs/v11ob95u' target=\"_blank\">Model: Pretrained Resnet18, Image size: 224</a></strong> to <a href='https://wandb.ai/solo_yolo/CV%20A2%20Resnet' target=\"_blank\">Weights & Biases</a> (<a href='https://wandb.me/developer-guide' target=\"_blank\">docs</a>)<br>"
      ],
      "text/plain": [
       "<IPython.core.display.HTML object>"
      ]
     },
     "metadata": {},
     "output_type": "display_data"
    },
    {
     "data": {
      "text/html": [
       " View project at <a href='https://wandb.ai/solo_yolo/CV%20A2%20Resnet' target=\"_blank\">https://wandb.ai/solo_yolo/CV%20A2%20Resnet</a>"
      ],
      "text/plain": [
       "<IPython.core.display.HTML object>"
      ]
     },
     "metadata": {},
     "output_type": "display_data"
    },
    {
     "data": {
      "text/html": [
       " View run at <a href='https://wandb.ai/solo_yolo/CV%20A2%20Resnet/runs/v11ob95u' target=\"_blank\">https://wandb.ai/solo_yolo/CV%20A2%20Resnet/runs/v11ob95u</a>"
      ],
      "text/plain": [
       "<IPython.core.display.HTML object>"
      ]
     },
     "metadata": {},
     "output_type": "display_data"
    },
    {
     "data": {
      "text/plain": [
       "([0.7481457582950592,\n",
       "  0.4436212016582489,\n",
       "  0.3321911883711815,\n",
       "  0.2456640499457717,\n",
       "  0.18159257866963743,\n",
       "  0.13338503484800457,\n",
       "  0.11027054528999142],\n",
       " [0.6435292354597452,\n",
       "  0.5348895857223688,\n",
       "  0.39114145239511616,\n",
       "  0.36769532583677733,\n",
       "  0.4107146911180248,\n",
       "  0.42295592366316065,\n",
       "  0.4657470988103757])"
      ]
     },
     "execution_count": 13,
     "metadata": {},
     "output_type": "execute_result"
    }
   ],
   "source": [
    "model_pretrained_2 = get_resnet18(num_classes=num_classes, pretrained=True)\n",
    "\n",
    "train_model(model_pretrained_2, train_loader_2, val_loader_2, test_loader_2, epochs=10, lr=0.001, patience=3, model_name = \"Pretrained Resnet18\", image_size = 224)"
   ]
  },
  {
   "cell_type": "code",
   "execution_count": 15,
   "metadata": {
    "execution": {
     "iopub.execute_input": "2025-02-04T13:30:31.052482Z",
     "iopub.status.busy": "2025-02-04T13:30:31.052154Z",
     "iopub.status.idle": "2025-02-04T13:30:45.371663Z",
     "shell.execute_reply": "2025-02-04T13:30:45.370420Z",
     "shell.execute_reply.started": "2025-02-04T13:30:31.052457Z"
    },
    "trusted": true
   },
   "outputs": [
    {
     "name": "stdout",
     "output_type": "stream",
     "text": [
      "Accuracy: 0.8727, f1: 0.8721663722870442\n"
     ]
    }
   ],
   "source": [
    "accuracy, f1, confusion_matrix = evaluate_model(model_pretrained_2, test_loader_2)\n",
    "print(f\"Accuracy: {accuracy}, f1: {f1}\")"
   ]
  },
  {
   "cell_type": "code",
   "execution_count": 16,
   "metadata": {
    "execution": {
     "iopub.execute_input": "2025-02-04T13:30:48.904431Z",
     "iopub.status.busy": "2025-02-04T13:30:48.904149Z",
     "iopub.status.idle": "2025-02-04T13:30:48.910182Z",
     "shell.execute_reply": "2025-02-04T13:30:48.909517Z",
     "shell.execute_reply.started": "2025-02-04T13:30:48.904411Z"
    },
    "trusted": true
   },
   "outputs": [
    {
     "data": {
      "text/plain": [
       "array([[878,  10,  28,  11,   5,   2,   4,  10,  40,  12],\n",
       "       [  0, 986,   0,   0,   0,   0,   0,   1,   7,   6],\n",
       "       [ 42,   7, 803,  32,  23,  25,  29,  33,   5,   1],\n",
       "       [ 13,  22,  27, 807,  15,  45,  32,  21,   9,   9],\n",
       "       [  8,   6,  29,  39, 825,  18,  30,  44,   0,   1],\n",
       "       [  8,  13,  15, 141,  10, 767,   8,  28,   6,   4],\n",
       "       [  5,   4,  29,  18,   5,   4, 926,   3,   2,   4],\n",
       "       [  5,   7,   2,  19,  11,  19,   1, 935,   0,   1],\n",
       "       [ 29,  12,   7,   1,   0,   0,   2,   3, 934,  12],\n",
       "       [ 10, 109,   2,   0,   0,   0,   0,   3,  10, 866]])"
      ]
     },
     "execution_count": 16,
     "metadata": {},
     "output_type": "execute_result"
    }
   ],
   "source": [
    "confusion_matrix"
   ]
  },
  {
   "cell_type": "markdown",
   "metadata": {},
   "source": [
    "## 1.3 Modifying architecture"
   ]
  },
  {
   "cell_type": "code",
   "execution_count": 27,
   "metadata": {
    "execution": {
     "iopub.execute_input": "2025-02-09T21:57:37.176014Z",
     "iopub.status.busy": "2025-02-09T21:57:37.175725Z",
     "iopub.status.idle": "2025-02-09T21:57:37.182101Z",
     "shell.execute_reply": "2025-02-09T21:57:37.181169Z",
     "shell.execute_reply.started": "2025-02-09T21:57:37.175992Z"
    },
    "trusted": true
   },
   "outputs": [],
   "source": [
    "def get_resnet18(num_classes, pretrained=False, variant=1):\n",
    "    model = models.resnet18(weights=models.ResNet18_Weights.IMAGENET1K_V1 if pretrained else None)\n",
    "\n",
    "    if variant == 1:\n",
    "        # Reduce kernel size & remove maxpool\n",
    "        model.conv1 = nn.Conv2d(3, 64, kernel_size=3, stride=1, padding=1, bias=False)\n",
    "        model.maxpool = nn.Identity()\n",
    "\n",
    "    elif variant == 2:\n",
    "        # Reduce kernel size without removing maxpool\n",
    "        model.conv1 = nn.Conv2d(3, 64, kernel_size=3, stride=1, padding=1, bias=False)\n",
    "        # model.maxpool = nn.Identity()\n",
    "\n",
    "    elif variant == 3:\n",
    "        # Reduce kernel size & increase stride, remove maxpool\n",
    "        model.conv1 = nn.Conv2d(3, 64, kernel_size=3, stride=2, padding=1, bias=False)\n",
    "        model.maxpool = nn.Identity()\n",
    "\n",
    "    # elif variant == 4:\n",
    "    #     # make kernel size 7\n",
    "    #     model.conv1 = nn.Conv2d(3, 128, kernel_size=3, stride=1, padding=1, bias=False)\n",
    "    #     # model.maxpool = nn.Identity()\n",
    "    \n",
    "    # Modify the final fully connected layer\n",
    "    model.fc = nn.Linear(512, num_classes)\n",
    "\n",
    "    return model"
   ]
  },
  {
   "cell_type": "code",
   "execution_count": 28,
   "metadata": {
    "execution": {
     "iopub.execute_input": "2025-02-09T21:58:14.435088Z",
     "iopub.status.busy": "2025-02-09T21:58:14.434815Z",
     "iopub.status.idle": "2025-02-09T21:58:15.935999Z",
     "shell.execute_reply": "2025-02-09T21:58:15.935302Z",
     "shell.execute_reply.started": "2025-02-09T21:58:14.435067Z"
    },
    "trusted": true
   },
   "outputs": [],
   "source": [
    "# models trained from scratch\n",
    "scratch_variant_1 = get_resnet18(num_classes, pretrained=False, variant=1)\n",
    "scratch_variant_2 = get_resnet18(num_classes, pretrained=False, variant=2)\n",
    "scratch_variant_3 = get_resnet18(num_classes, pretrained=False, variant=3)\n",
    "scratch_variant_4 = get_resnet18(num_classes, pretrained=False, variant=4)\n",
    "# pretrained models\n",
    "pretrained_variant_1 = get_resnet18(num_classes, pretrained=True, variant=1)\n",
    "pretrained_variant_2 = get_resnet18(num_classes, pretrained=True, variant=2)\n",
    "pretrained_variant_3 = get_resnet18(num_classes, pretrained=True, variant=3)\n",
    "pretrained_variant_4 = get_resnet18(num_classes, pretrained=True, variant=4)"
   ]
  },
  {
   "cell_type": "markdown",
   "metadata": {},
   "source": [
    "### Variant 1: no maxpool, kernel size = 3, stride = 1"
   ]
  },
  {
   "cell_type": "code",
   "execution_count": 29,
   "metadata": {
    "execution": {
     "iopub.execute_input": "2025-02-09T21:58:24.233886Z",
     "iopub.status.busy": "2025-02-09T21:58:24.233578Z",
     "iopub.status.idle": "2025-02-09T22:06:16.343502Z",
     "shell.execute_reply": "2025-02-09T22:06:16.342732Z",
     "shell.execute_reply.started": "2025-02-09T21:58:24.233862Z"
    },
    "trusted": true
   },
   "outputs": [
    {
     "name": "stdout",
     "output_type": "stream",
     "text": [
      "Epoch 1: Train Loss = 1.3189, Train Accuracy = 0.5201, Validation Loss = 1.0268, Validation Accuracy = 0.6281\n",
      "Epoch 2: Train Loss = 0.8350, Train Accuracy = 0.7037, Validation Loss = 0.7682, Validation Accuracy = 0.7261\n",
      "Epoch 3: Train Loss = 0.6327, Train Accuracy = 0.7780, Validation Loss = 0.7200, Validation Accuracy = 0.7504\n",
      "Epoch 4: Train Loss = 0.5022, Train Accuracy = 0.8257, Validation Loss = 0.6051, Validation Accuracy = 0.7962\n",
      "Epoch 5: Train Loss = 0.3871, Train Accuracy = 0.8631, Validation Loss = 0.7468, Validation Accuracy = 0.7717\n",
      "Epoch 6: Train Loss = 0.2989, Train Accuracy = 0.8947, Validation Loss = 0.6623, Validation Accuracy = 0.8008\n",
      "Epoch 7: Train Loss = 0.2121, Train Accuracy = 0.9255, Validation Loss = 0.6495, Validation Accuracy = 0.8075\n",
      "Early stopping at epoch 7 due to no improvement in validation loss.\n"
     ]
    },
    {
     "data": {
      "text/html": [
       "Tracking run with wandb version 0.19.1"
      ],
      "text/plain": [
       "<IPython.core.display.HTML object>"
      ]
     },
     "metadata": {},
     "output_type": "display_data"
    },
    {
     "data": {
      "text/html": [
       "Run data is saved locally in <code>/kaggle/working/wandb/run-20250209_220610-i5ohzxup</code>"
      ],
      "text/plain": [
       "<IPython.core.display.HTML object>"
      ]
     },
     "metadata": {},
     "output_type": "display_data"
    },
    {
     "data": {
      "text/html": [
       "Syncing run <strong><a href='https://wandb.ai/solo_yolo/CV%20A2%20Resnet/runs/i5ohzxup' target=\"_blank\">Model: Scratch variant 1, Image size: 36</a></strong> to <a href='https://wandb.ai/solo_yolo/CV%20A2%20Resnet' target=\"_blank\">Weights & Biases</a> (<a href='https://wandb.me/developer-guide' target=\"_blank\">docs</a>)<br>"
      ],
      "text/plain": [
       "<IPython.core.display.HTML object>"
      ]
     },
     "metadata": {},
     "output_type": "display_data"
    },
    {
     "data": {
      "text/html": [
       " View project at <a href='https://wandb.ai/solo_yolo/CV%20A2%20Resnet' target=\"_blank\">https://wandb.ai/solo_yolo/CV%20A2%20Resnet</a>"
      ],
      "text/plain": [
       "<IPython.core.display.HTML object>"
      ]
     },
     "metadata": {},
     "output_type": "display_data"
    },
    {
     "data": {
      "text/html": [
       " View run at <a href='https://wandb.ai/solo_yolo/CV%20A2%20Resnet/runs/i5ohzxup' target=\"_blank\">https://wandb.ai/solo_yolo/CV%20A2%20Resnet/runs/i5ohzxup</a>"
      ],
      "text/plain": [
       "<IPython.core.display.HTML object>"
      ]
     },
     "metadata": {},
     "output_type": "display_data"
    }
   ],
   "source": [
    "train_losses, val_losses = train_model(scratch_variant_1, train_loader_1, val_loader_1, test_loader_1, epochs=20, lr=0.001, patience=3, model_name = \"Scratch variant 1\", image_size = 36)"
   ]
  },
  {
   "cell_type": "code",
   "execution_count": 34,
   "metadata": {
    "execution": {
     "iopub.execute_input": "2025-02-09T22:08:29.429621Z",
     "iopub.status.busy": "2025-02-09T22:08:29.429288Z",
     "iopub.status.idle": "2025-02-09T22:08:34.357160Z",
     "shell.execute_reply": "2025-02-09T22:08:34.355894Z",
     "shell.execute_reply.started": "2025-02-09T22:08:29.429593Z"
    },
    "trusted": true
   },
   "outputs": [
    {
     "name": "stdout",
     "output_type": "stream",
     "text": [
      "Accuracy: 0.8065, f1: 0.8078684140857917\n"
     ]
    }
   ],
   "source": [
    "accuracy, f1, confusion_matrix = evaluate_model(scratch_variant_1, test_loader_1)\n",
    "print(f\"Accuracy: {accuracy}, f1: {f1}\")"
   ]
  },
  {
   "cell_type": "code",
   "execution_count": 35,
   "metadata": {
    "execution": {
     "iopub.execute_input": "2025-02-09T22:08:39.964641Z",
     "iopub.status.busy": "2025-02-09T22:08:39.964293Z",
     "iopub.status.idle": "2025-02-09T22:08:39.971545Z",
     "shell.execute_reply": "2025-02-09T22:08:39.970526Z",
     "shell.execute_reply.started": "2025-02-09T22:08:39.964614Z"
    },
    "trusted": true
   },
   "outputs": [
    {
     "data": {
      "text/plain": [
       "array([[858,  11,  68,   9,   4,   3,   5,   6,  24,  12],\n",
       "       [ 22, 922,   5,   1,   1,   3,   9,   1,  16,  20],\n",
       "       [ 27,   1, 844,  43,  24,  14,  34,  11,   1,   1],\n",
       "       [ 23,   5, 104, 696,  13,  92,  40,  19,   4,   4],\n",
       "       [ 13,   3, 150,  62, 644,  27,  67,  29,   5,   0],\n",
       "       [  7,   0,  91, 161,  13, 672,  10,  43,   3,   0],\n",
       "       [  7,   2,  57,  38,   4,  14, 872,   2,   4,   0],\n",
       "       [ 11,   2,  57,  32,  22,  26,  12, 831,   2,   5],\n",
       "       [ 49,  17,  16,   7,   1,   1,   3,   1, 894,  11],\n",
       "       [ 32,  70,  14,   3,   0,   9,   8,  15,  17, 832]])"
      ]
     },
     "execution_count": 35,
     "metadata": {},
     "output_type": "execute_result"
    }
   ],
   "source": [
    "confusion_matrix"
   ]
  },
  {
   "cell_type": "code",
   "execution_count": 36,
   "metadata": {
    "execution": {
     "iopub.execute_input": "2025-02-09T22:08:43.520099Z",
     "iopub.status.busy": "2025-02-09T22:08:43.519825Z",
     "iopub.status.idle": "2025-02-09T22:08:44.807947Z",
     "shell.execute_reply": "2025-02-09T22:08:44.807174Z",
     "shell.execute_reply.started": "2025-02-09T22:08:43.520078Z"
    },
    "trusted": true
   },
   "outputs": [
    {
     "data": {
      "text/html": [],
      "text/plain": [
       "<IPython.core.display.HTML object>"
      ]
     },
     "metadata": {},
     "output_type": "display_data"
    },
    {
     "data": {
      "text/html": [
       "<br>    <style><br>        .wandb-row {<br>            display: flex;<br>            flex-direction: row;<br>            flex-wrap: wrap;<br>            justify-content: flex-start;<br>            width: 100%;<br>        }<br>        .wandb-col {<br>            display: flex;<br>            flex-direction: column;<br>            flex-basis: 100%;<br>            flex: 1;<br>            padding: 10px;<br>        }<br>    </style><br><div class=\"wandb-row\"><div class=\"wandb-col\"><h3>Run history:</h3><br/><table class=\"wandb\"><tr><td>epoch</td><td>▁▂▃▅▆▇█</td></tr><tr><td>train_loss</td><td>█▅▄▃▂▂▁</td></tr><tr><td>val_loss</td><td>█▄▃▁▃▂▂</td></tr></table><br/></div><div class=\"wandb-col\"><h3>Run summary:</h3><br/><table class=\"wandb\"><tr><td>epoch</td><td>7</td></tr><tr><td>train_loss</td><td>0.21214</td></tr><tr><td>val_loss</td><td>0.64951</td></tr></table><br/></div></div>"
      ],
      "text/plain": [
       "<IPython.core.display.HTML object>"
      ]
     },
     "metadata": {},
     "output_type": "display_data"
    },
    {
     "data": {
      "text/html": [
       " View run <strong style=\"color:#cdcd00\">Model: Scratch variant 1, Image size: 36</strong> at: <a href='https://wandb.ai/solo_yolo/CV%20A2%20Resnet/runs/i5ohzxup' target=\"_blank\">https://wandb.ai/solo_yolo/CV%20A2%20Resnet/runs/i5ohzxup</a><br> View project at: <a href='https://wandb.ai/solo_yolo/CV%20A2%20Resnet' target=\"_blank\">https://wandb.ai/solo_yolo/CV%20A2%20Resnet</a><br>Synced 5 W&B file(s), 0 media file(s), 0 artifact file(s) and 0 other file(s)"
      ],
      "text/plain": [
       "<IPython.core.display.HTML object>"
      ]
     },
     "metadata": {},
     "output_type": "display_data"
    },
    {
     "data": {
      "text/html": [
       "Find logs at: <code>./wandb/run-20250209_220610-i5ohzxup/logs</code>"
      ],
      "text/plain": [
       "<IPython.core.display.HTML object>"
      ]
     },
     "metadata": {},
     "output_type": "display_data"
    }
   ],
   "source": [
    "finish_run()"
   ]
  },
  {
   "cell_type": "code",
   "execution_count": 37,
   "metadata": {
    "execution": {
     "iopub.execute_input": "2025-02-09T22:08:59.250185Z",
     "iopub.status.busy": "2025-02-09T22:08:59.249870Z",
     "iopub.status.idle": "2025-02-09T22:15:40.565987Z",
     "shell.execute_reply": "2025-02-09T22:15:40.565370Z",
     "shell.execute_reply.started": "2025-02-09T22:08:59.250159Z"
    },
    "trusted": true
   },
   "outputs": [
    {
     "name": "stdout",
     "output_type": "stream",
     "text": [
      "Epoch 1: Train Loss = 0.8593, Train Accuracy = 0.7000, Validation Loss = 0.6376, Validation Accuracy = 0.7846\n",
      "Epoch 2: Train Loss = 0.4875, Train Accuracy = 0.8327, Validation Loss = 0.5163, Validation Accuracy = 0.8230\n",
      "Epoch 3: Train Loss = 0.3389, Train Accuracy = 0.8824, Validation Loss = 0.4469, Validation Accuracy = 0.8538\n",
      "Epoch 4: Train Loss = 0.2349, Train Accuracy = 0.9197, Validation Loss = 0.4675, Validation Accuracy = 0.8476\n",
      "Epoch 5: Train Loss = 0.1705, Train Accuracy = 0.9409, Validation Loss = 0.4814, Validation Accuracy = 0.8494\n",
      "Epoch 6: Train Loss = 0.1220, Train Accuracy = 0.9571, Validation Loss = 0.6545, Validation Accuracy = 0.8351\n",
      "Early stopping at epoch 6 due to no improvement in validation loss.\n"
     ]
    },
    {
     "data": {
      "text/html": [
       "Tracking run with wandb version 0.19.1"
      ],
      "text/plain": [
       "<IPython.core.display.HTML object>"
      ]
     },
     "metadata": {},
     "output_type": "display_data"
    },
    {
     "data": {
      "text/html": [
       "Run data is saved locally in <code>/kaggle/working/wandb/run-20250209_221534-i4ovw93k</code>"
      ],
      "text/plain": [
       "<IPython.core.display.HTML object>"
      ]
     },
     "metadata": {},
     "output_type": "display_data"
    },
    {
     "data": {
      "text/html": [
       "Syncing run <strong><a href='https://wandb.ai/solo_yolo/CV%20A2%20Resnet/runs/i4ovw93k' target=\"_blank\">Model: Pretrained variant 1, Image size: 36</a></strong> to <a href='https://wandb.ai/solo_yolo/CV%20A2%20Resnet' target=\"_blank\">Weights & Biases</a> (<a href='https://wandb.me/developer-guide' target=\"_blank\">docs</a>)<br>"
      ],
      "text/plain": [
       "<IPython.core.display.HTML object>"
      ]
     },
     "metadata": {},
     "output_type": "display_data"
    },
    {
     "data": {
      "text/html": [
       " View project at <a href='https://wandb.ai/solo_yolo/CV%20A2%20Resnet' target=\"_blank\">https://wandb.ai/solo_yolo/CV%20A2%20Resnet</a>"
      ],
      "text/plain": [
       "<IPython.core.display.HTML object>"
      ]
     },
     "metadata": {},
     "output_type": "display_data"
    },
    {
     "data": {
      "text/html": [
       " View run at <a href='https://wandb.ai/solo_yolo/CV%20A2%20Resnet/runs/i4ovw93k' target=\"_blank\">https://wandb.ai/solo_yolo/CV%20A2%20Resnet/runs/i4ovw93k</a>"
      ],
      "text/plain": [
       "<IPython.core.display.HTML object>"
      ]
     },
     "metadata": {},
     "output_type": "display_data"
    }
   ],
   "source": [
    "train_losses, val_losses = train_model(pretrained_variant_1, train_loader_1, val_loader_1, test_loader_1, epochs=20, lr=0.001, patience=3, model_name = \"Pretrained variant 1\", image_size = 36)"
   ]
  },
  {
   "cell_type": "code",
   "execution_count": 41,
   "metadata": {
    "execution": {
     "iopub.execute_input": "2025-02-09T22:17:54.814522Z",
     "iopub.status.busy": "2025-02-09T22:17:54.814150Z",
     "iopub.status.idle": "2025-02-09T22:17:59.716797Z",
     "shell.execute_reply": "2025-02-09T22:17:59.715939Z",
     "shell.execute_reply.started": "2025-02-09T22:17:54.814488Z"
    },
    "trusted": true
   },
   "outputs": [
    {
     "name": "stdout",
     "output_type": "stream",
     "text": [
      "Accuracy: 0.8391, f1: 0.835976417834876\n"
     ]
    }
   ],
   "source": [
    "accuracy, f1, conf_matrix = evaluate_model(pretrained_variant_1, test_loader_1)\n",
    "print(f\"Accuracy: {accuracy}, f1: {f1}\")"
   ]
  },
  {
   "cell_type": "code",
   "execution_count": 43,
   "metadata": {
    "execution": {
     "iopub.execute_input": "2025-02-09T22:18:09.345408Z",
     "iopub.status.busy": "2025-02-09T22:18:09.345081Z",
     "iopub.status.idle": "2025-02-09T22:18:09.352263Z",
     "shell.execute_reply": "2025-02-09T22:18:09.351242Z",
     "shell.execute_reply.started": "2025-02-09T22:18:09.345380Z"
    },
    "trusted": true
   },
   "outputs": [
    {
     "data": {
      "text/plain": [
       "array([[888,   4,  15,   4,  17,   8,   0,   6,  29,  29],\n",
       "       [ 10, 915,   1,   1,   1,   1,   1,   0,  11,  59],\n",
       "       [ 64,   2, 724,  22,  63,  77,  19,  16,   8,   5],\n",
       "       [ 21,   4,  36, 486,  83, 293,  31,  28,  11,   7],\n",
       "       [ 17,   2,  30,  13, 888,  26,  13,   7,   3,   1],\n",
       "       [  3,   1,  18,  30,  27, 899,   4,  14,   2,   2],\n",
       "       [ 13,   0,  26,  11,  24,  33, 870,   6,   9,   8],\n",
       "       [  7,   0,   8,   5,  80,  36,   1, 859,   3,   1],\n",
       "       [ 38,   9,   6,   1,   2,   5,   3,   2, 917,  17],\n",
       "       [ 10,  24,   0,   2,   2,   5,   0,   3,   9, 945]])"
      ]
     },
     "execution_count": 43,
     "metadata": {},
     "output_type": "execute_result"
    }
   ],
   "source": [
    "conf_matrix"
   ]
  },
  {
   "cell_type": "code",
   "execution_count": 44,
   "metadata": {
    "execution": {
     "iopub.execute_input": "2025-02-09T22:18:11.450543Z",
     "iopub.status.busy": "2025-02-09T22:18:11.450186Z",
     "iopub.status.idle": "2025-02-09T22:18:12.734440Z",
     "shell.execute_reply": "2025-02-09T22:18:12.733808Z",
     "shell.execute_reply.started": "2025-02-09T22:18:11.450515Z"
    },
    "trusted": true
   },
   "outputs": [
    {
     "data": {
      "text/html": [],
      "text/plain": [
       "<IPython.core.display.HTML object>"
      ]
     },
     "metadata": {},
     "output_type": "display_data"
    },
    {
     "data": {
      "text/html": [
       "<br>    <style><br>        .wandb-row {<br>            display: flex;<br>            flex-direction: row;<br>            flex-wrap: wrap;<br>            justify-content: flex-start;<br>            width: 100%;<br>        }<br>        .wandb-col {<br>            display: flex;<br>            flex-direction: column;<br>            flex-basis: 100%;<br>            flex: 1;<br>            padding: 10px;<br>        }<br>    </style><br><div class=\"wandb-row\"><div class=\"wandb-col\"><h3>Run history:</h3><br/><table class=\"wandb\"><tr><td>epoch</td><td>▁▂▄▅▇█</td></tr><tr><td>train_loss</td><td>█▄▃▂▁▁</td></tr><tr><td>val_loss</td><td>▇▃▁▂▂█</td></tr></table><br/></div><div class=\"wandb-col\"><h3>Run summary:</h3><br/><table class=\"wandb\"><tr><td>epoch</td><td>6</td></tr><tr><td>train_loss</td><td>0.12204</td></tr><tr><td>val_loss</td><td>0.65449</td></tr></table><br/></div></div>"
      ],
      "text/plain": [
       "<IPython.core.display.HTML object>"
      ]
     },
     "metadata": {},
     "output_type": "display_data"
    },
    {
     "data": {
      "text/html": [
       " View run <strong style=\"color:#cdcd00\">Model: Pretrained variant 1, Image size: 36</strong> at: <a href='https://wandb.ai/solo_yolo/CV%20A2%20Resnet/runs/i4ovw93k' target=\"_blank\">https://wandb.ai/solo_yolo/CV%20A2%20Resnet/runs/i4ovw93k</a><br> View project at: <a href='https://wandb.ai/solo_yolo/CV%20A2%20Resnet' target=\"_blank\">https://wandb.ai/solo_yolo/CV%20A2%20Resnet</a><br>Synced 5 W&B file(s), 0 media file(s), 0 artifact file(s) and 0 other file(s)"
      ],
      "text/plain": [
       "<IPython.core.display.HTML object>"
      ]
     },
     "metadata": {},
     "output_type": "display_data"
    },
    {
     "data": {
      "text/html": [
       "Find logs at: <code>./wandb/run-20250209_221534-i4ovw93k/logs</code>"
      ],
      "text/plain": [
       "<IPython.core.display.HTML object>"
      ]
     },
     "metadata": {},
     "output_type": "display_data"
    }
   ],
   "source": [
    "finish_run()"
   ]
  },
  {
   "cell_type": "markdown",
   "metadata": {},
   "source": [
    "### Variant 2: maxpool, kernel size = 3, stride = 1"
   ]
  },
  {
   "cell_type": "code",
   "execution_count": 45,
   "metadata": {
    "execution": {
     "iopub.execute_input": "2025-02-09T22:18:37.812165Z",
     "iopub.status.busy": "2025-02-09T22:18:37.811889Z",
     "iopub.status.idle": "2025-02-09T22:22:57.333757Z",
     "shell.execute_reply": "2025-02-09T22:22:57.333028Z",
     "shell.execute_reply.started": "2025-02-09T22:18:37.812143Z"
    },
    "trusted": true
   },
   "outputs": [
    {
     "name": "stdout",
     "output_type": "stream",
     "text": [
      "Epoch 1: Train Loss = 1.2665, Train Accuracy = 0.5427, Validation Loss = 0.9964, Validation Accuracy = 0.6467\n",
      "Epoch 2: Train Loss = 0.8493, Train Accuracy = 0.7023, Validation Loss = 0.8229, Validation Accuracy = 0.7205\n",
      "Epoch 3: Train Loss = 0.6616, Train Accuracy = 0.7705, Validation Loss = 0.7603, Validation Accuracy = 0.7424\n",
      "Epoch 4: Train Loss = 0.5331, Train Accuracy = 0.8121, Validation Loss = 0.6643, Validation Accuracy = 0.7728\n",
      "Epoch 5: Train Loss = 0.4084, Train Accuracy = 0.8584, Validation Loss = 0.6388, Validation Accuracy = 0.7906\n",
      "Epoch 6: Train Loss = 0.3078, Train Accuracy = 0.8925, Validation Loss = 0.6489, Validation Accuracy = 0.7924\n",
      "Epoch 7: Train Loss = 0.2237, Train Accuracy = 0.9217, Validation Loss = 0.7297, Validation Accuracy = 0.7915\n",
      "Epoch 8: Train Loss = 0.1676, Train Accuracy = 0.9406, Validation Loss = 0.7812, Validation Accuracy = 0.7855\n",
      "Early stopping at epoch 8 due to no improvement in validation loss.\n"
     ]
    },
    {
     "data": {
      "text/html": [
       "Tracking run with wandb version 0.19.1"
      ],
      "text/plain": [
       "<IPython.core.display.HTML object>"
      ]
     },
     "metadata": {},
     "output_type": "display_data"
    },
    {
     "data": {
      "text/html": [
       "Run data is saved locally in <code>/kaggle/working/wandb/run-20250209_222251-ps6g2jbc</code>"
      ],
      "text/plain": [
       "<IPython.core.display.HTML object>"
      ]
     },
     "metadata": {},
     "output_type": "display_data"
    },
    {
     "data": {
      "text/html": [
       "Syncing run <strong><a href='https://wandb.ai/solo_yolo/CV%20A2%20Resnet/runs/ps6g2jbc' target=\"_blank\">Model: Scratch variant 2, Image size: 36</a></strong> to <a href='https://wandb.ai/solo_yolo/CV%20A2%20Resnet' target=\"_blank\">Weights & Biases</a> (<a href='https://wandb.me/developer-guide' target=\"_blank\">docs</a>)<br>"
      ],
      "text/plain": [
       "<IPython.core.display.HTML object>"
      ]
     },
     "metadata": {},
     "output_type": "display_data"
    },
    {
     "data": {
      "text/html": [
       " View project at <a href='https://wandb.ai/solo_yolo/CV%20A2%20Resnet' target=\"_blank\">https://wandb.ai/solo_yolo/CV%20A2%20Resnet</a>"
      ],
      "text/plain": [
       "<IPython.core.display.HTML object>"
      ]
     },
     "metadata": {},
     "output_type": "display_data"
    },
    {
     "data": {
      "text/html": [
       " View run at <a href='https://wandb.ai/solo_yolo/CV%20A2%20Resnet/runs/ps6g2jbc' target=\"_blank\">https://wandb.ai/solo_yolo/CV%20A2%20Resnet/runs/ps6g2jbc</a>"
      ],
      "text/plain": [
       "<IPython.core.display.HTML object>"
      ]
     },
     "metadata": {},
     "output_type": "display_data"
    }
   ],
   "source": [
    "train_losses, val_losses = train_model(scratch_variant_2, train_loader_1, val_loader_1, test_loader_1, epochs=20, lr=0.001, patience=3, model_name = \"Scratch variant 2\", image_size = 36)"
   ]
  },
  {
   "cell_type": "code",
   "execution_count": 57,
   "metadata": {
    "execution": {
     "iopub.execute_input": "2025-02-09T22:31:29.809800Z",
     "iopub.status.busy": "2025-02-09T22:31:29.809520Z",
     "iopub.status.idle": "2025-02-09T22:31:32.406336Z",
     "shell.execute_reply": "2025-02-09T22:31:32.405508Z",
     "shell.execute_reply.started": "2025-02-09T22:31:29.809779Z"
    },
    "trusted": true
   },
   "outputs": [
    {
     "name": "stdout",
     "output_type": "stream",
     "text": [
      "Accuracy: 0.7866, f1: 0.7851912744939368\n"
     ]
    }
   ],
   "source": [
    "accuracy, f1, confusion_matrix = evaluate_model(scratch_variant_2, test_loader_1)\n",
    "print(f\"Accuracy: {accuracy}, f1: {f1}\")"
   ]
  },
  {
   "cell_type": "code",
   "execution_count": 47,
   "metadata": {
    "execution": {
     "iopub.execute_input": "2025-02-09T22:23:11.690684Z",
     "iopub.status.busy": "2025-02-09T22:23:11.690333Z",
     "iopub.status.idle": "2025-02-09T22:23:11.697843Z",
     "shell.execute_reply": "2025-02-09T22:23:11.697022Z",
     "shell.execute_reply.started": "2025-02-09T22:23:11.690658Z"
    },
    "trusted": true
   },
   "outputs": [
    {
     "data": {
      "text/plain": [
       "array([[799,  19,  62,  18,  18,   3,   5,   5,  51,  20],\n",
       "       [  5, 923,   5,   5,   2,   1,   7,   2,  18,  32],\n",
       "       [ 43,   1, 815,  26,  48,  17,  31,  10,   7,   2],\n",
       "       [ 11,   2, 119, 661,  80,  36,  60,  17,   8,   6],\n",
       "       [ 18,   3,  91,  31, 794,   4,  25,  29,   5,   0],\n",
       "       [  6,   2, 130, 249,  48, 480,  35,  37,  11,   2],\n",
       "       [  6,   4,  40,  42,  30,   1, 865,   3,   6,   3],\n",
       "       [  7,   3,  56,  38,  40,  10,   5, 829,   2,  10],\n",
       "       [ 31,  27,  17,   9,   5,   2,   3,   0, 893,  13],\n",
       "       [ 24,  95,  21,   6,   2,   1,   9,  14,  21, 807]])"
      ]
     },
     "execution_count": 47,
     "metadata": {},
     "output_type": "execute_result"
    }
   ],
   "source": [
    "confusion_matrix"
   ]
  },
  {
   "cell_type": "code",
   "execution_count": 48,
   "metadata": {
    "execution": {
     "iopub.execute_input": "2025-02-09T22:23:13.853937Z",
     "iopub.status.busy": "2025-02-09T22:23:13.853666Z",
     "iopub.status.idle": "2025-02-09T22:23:15.082415Z",
     "shell.execute_reply": "2025-02-09T22:23:15.081734Z",
     "shell.execute_reply.started": "2025-02-09T22:23:13.853916Z"
    },
    "trusted": true
   },
   "outputs": [
    {
     "data": {
      "text/html": [],
      "text/plain": [
       "<IPython.core.display.HTML object>"
      ]
     },
     "metadata": {},
     "output_type": "display_data"
    },
    {
     "data": {
      "text/html": [
       "<br>    <style><br>        .wandb-row {<br>            display: flex;<br>            flex-direction: row;<br>            flex-wrap: wrap;<br>            justify-content: flex-start;<br>            width: 100%;<br>        }<br>        .wandb-col {<br>            display: flex;<br>            flex-direction: column;<br>            flex-basis: 100%;<br>            flex: 1;<br>            padding: 10px;<br>        }<br>    </style><br><div class=\"wandb-row\"><div class=\"wandb-col\"><h3>Run history:</h3><br/><table class=\"wandb\"><tr><td>epoch</td><td>▁▂▃▄▅▆▇█</td></tr><tr><td>train_loss</td><td>█▅▄▃▃▂▁▁</td></tr><tr><td>val_loss</td><td>█▅▃▁▁▁▃▄</td></tr></table><br/></div><div class=\"wandb-col\"><h3>Run summary:</h3><br/><table class=\"wandb\"><tr><td>epoch</td><td>8</td></tr><tr><td>train_loss</td><td>0.1676</td></tr><tr><td>val_loss</td><td>0.7812</td></tr></table><br/></div></div>"
      ],
      "text/plain": [
       "<IPython.core.display.HTML object>"
      ]
     },
     "metadata": {},
     "output_type": "display_data"
    },
    {
     "data": {
      "text/html": [
       " View run <strong style=\"color:#cdcd00\">Model: Scratch variant 2, Image size: 36</strong> at: <a href='https://wandb.ai/solo_yolo/CV%20A2%20Resnet/runs/ps6g2jbc' target=\"_blank\">https://wandb.ai/solo_yolo/CV%20A2%20Resnet/runs/ps6g2jbc</a><br> View project at: <a href='https://wandb.ai/solo_yolo/CV%20A2%20Resnet' target=\"_blank\">https://wandb.ai/solo_yolo/CV%20A2%20Resnet</a><br>Synced 5 W&B file(s), 0 media file(s), 0 artifact file(s) and 0 other file(s)"
      ],
      "text/plain": [
       "<IPython.core.display.HTML object>"
      ]
     },
     "metadata": {},
     "output_type": "display_data"
    },
    {
     "data": {
      "text/html": [
       "Find logs at: <code>./wandb/run-20250209_222251-ps6g2jbc/logs</code>"
      ],
      "text/plain": [
       "<IPython.core.display.HTML object>"
      ]
     },
     "metadata": {},
     "output_type": "display_data"
    }
   ],
   "source": [
    "finish_run()"
   ]
  },
  {
   "cell_type": "code",
   "execution_count": 49,
   "metadata": {
    "execution": {
     "iopub.execute_input": "2025-02-09T22:23:31.031523Z",
     "iopub.status.busy": "2025-02-09T22:23:31.031170Z",
     "iopub.status.idle": "2025-02-09T22:27:49.124291Z",
     "shell.execute_reply": "2025-02-09T22:27:49.123677Z",
     "shell.execute_reply.started": "2025-02-09T22:23:31.031483Z"
    },
    "trusted": true
   },
   "outputs": [
    {
     "name": "stdout",
     "output_type": "stream",
     "text": [
      "Epoch 1: Train Loss = 1.0640, Train Accuracy = 0.6298, Validation Loss = 0.7979, Validation Accuracy = 0.7286\n",
      "Epoch 2: Train Loss = 0.6395, Train Accuracy = 0.7804, Validation Loss = 0.6554, Validation Accuracy = 0.7794\n",
      "Epoch 3: Train Loss = 0.4658, Train Accuracy = 0.8410, Validation Loss = 0.6239, Validation Accuracy = 0.7991\n",
      "Epoch 4: Train Loss = 0.3421, Train Accuracy = 0.8820, Validation Loss = 0.6186, Validation Accuracy = 0.8025\n",
      "Epoch 5: Train Loss = 0.2549, Train Accuracy = 0.9115, Validation Loss = 0.6172, Validation Accuracy = 0.8150\n",
      "Epoch 6: Train Loss = 0.1839, Train Accuracy = 0.9375, Validation Loss = 0.7341, Validation Accuracy = 0.8057\n",
      "Epoch 7: Train Loss = 0.1436, Train Accuracy = 0.9519, Validation Loss = 0.7120, Validation Accuracy = 0.8118\n",
      "Epoch 8: Train Loss = 0.1195, Train Accuracy = 0.9596, Validation Loss = 0.7535, Validation Accuracy = 0.8107\n",
      "Early stopping at epoch 8 due to no improvement in validation loss.\n"
     ]
    },
    {
     "data": {
      "text/html": [
       "Tracking run with wandb version 0.19.1"
      ],
      "text/plain": [
       "<IPython.core.display.HTML object>"
      ]
     },
     "metadata": {},
     "output_type": "display_data"
    },
    {
     "data": {
      "text/html": [
       "Run data is saved locally in <code>/kaggle/working/wandb/run-20250209_222743-v0d4xh1l</code>"
      ],
      "text/plain": [
       "<IPython.core.display.HTML object>"
      ]
     },
     "metadata": {},
     "output_type": "display_data"
    },
    {
     "data": {
      "text/html": [
       "Syncing run <strong><a href='https://wandb.ai/solo_yolo/CV%20A2%20Resnet/runs/v0d4xh1l' target=\"_blank\">Model: Pretrained variant 2, Image size: 36</a></strong> to <a href='https://wandb.ai/solo_yolo/CV%20A2%20Resnet' target=\"_blank\">Weights & Biases</a> (<a href='https://wandb.me/developer-guide' target=\"_blank\">docs</a>)<br>"
      ],
      "text/plain": [
       "<IPython.core.display.HTML object>"
      ]
     },
     "metadata": {},
     "output_type": "display_data"
    },
    {
     "data": {
      "text/html": [
       " View project at <a href='https://wandb.ai/solo_yolo/CV%20A2%20Resnet' target=\"_blank\">https://wandb.ai/solo_yolo/CV%20A2%20Resnet</a>"
      ],
      "text/plain": [
       "<IPython.core.display.HTML object>"
      ]
     },
     "metadata": {},
     "output_type": "display_data"
    },
    {
     "data": {
      "text/html": [
       " View run at <a href='https://wandb.ai/solo_yolo/CV%20A2%20Resnet/runs/v0d4xh1l' target=\"_blank\">https://wandb.ai/solo_yolo/CV%20A2%20Resnet/runs/v0d4xh1l</a>"
      ],
      "text/plain": [
       "<IPython.core.display.HTML object>"
      ]
     },
     "metadata": {},
     "output_type": "display_data"
    }
   ],
   "source": [
    "train_losses, val_losses = train_model(pretrained_variant_2, train_loader_1, val_loader_1, test_loader_1, epochs=20, lr=0.001, patience=3, model_name = \"Pretrained variant 2\", image_size = 36)"
   ]
  },
  {
   "cell_type": "code",
   "execution_count": 52,
   "metadata": {
    "execution": {
     "iopub.execute_input": "2025-02-09T22:30:49.704019Z",
     "iopub.status.busy": "2025-02-09T22:30:49.703712Z",
     "iopub.status.idle": "2025-02-09T22:30:52.291888Z",
     "shell.execute_reply": "2025-02-09T22:30:52.290820Z",
     "shell.execute_reply.started": "2025-02-09T22:30:49.703997Z"
    },
    "trusted": true
   },
   "outputs": [
    {
     "name": "stdout",
     "output_type": "stream",
     "text": [
      "Accuracy: 0.8108, f1: 0.8098750816949611\n"
     ]
    }
   ],
   "source": [
    "accuracy, f1, confusion_matrix = evaluate_model(pretrained_variant_2, test_loader_1)\n",
    "print(f\"Accuracy: {accuracy}, f1: {f1}\")"
   ]
  },
  {
   "cell_type": "code",
   "execution_count": 53,
   "metadata": {
    "execution": {
     "iopub.execute_input": "2025-02-09T22:30:53.260028Z",
     "iopub.status.busy": "2025-02-09T22:30:53.259754Z",
     "iopub.status.idle": "2025-02-09T22:30:53.266857Z",
     "shell.execute_reply": "2025-02-09T22:30:53.265969Z",
     "shell.execute_reply.started": "2025-02-09T22:30:53.260006Z"
    },
    "trusted": true
   },
   "outputs": [
    {
     "data": {
      "text/plain": [
       "array([[869,   8,  48,   4,  12,   1,   5,  11,  31,  11],\n",
       "       [ 12, 918,  11,   0,   0,   1,   5,   3,  30,  20],\n",
       "       [ 42,   2, 821,  25,  34,  24,  27,  20,   2,   3],\n",
       "       [ 22,   5, 108, 612,  62,  90,  42,  41,  11,   7],\n",
       "       [  9,   2,  63,  33, 786,  11,  19,  74,   2,   1],\n",
       "       [ 17,   2,  80, 139,  38, 647,  21,  51,   1,   4],\n",
       "       [ 12,   3,  61,  22,  19,  11, 844,  16,   6,   6],\n",
       "       [ 12,   0,  37,  13,  22,   9,   1, 901,   1,   4],\n",
       "       [ 43,   9,  25,   4,  14,   8,   7,   3, 882,   5],\n",
       "       [ 27,  86,   8,   8,   1,   6,   3,   6,  27, 828]])"
      ]
     },
     "execution_count": 53,
     "metadata": {},
     "output_type": "execute_result"
    }
   ],
   "source": [
    "confusion_matrix"
   ]
  },
  {
   "cell_type": "code",
   "execution_count": 54,
   "metadata": {
    "execution": {
     "iopub.execute_input": "2025-02-09T22:30:55.222287Z",
     "iopub.status.busy": "2025-02-09T22:30:55.221988Z",
     "iopub.status.idle": "2025-02-09T22:30:56.503992Z",
     "shell.execute_reply": "2025-02-09T22:30:56.503322Z",
     "shell.execute_reply.started": "2025-02-09T22:30:55.222264Z"
    },
    "trusted": true
   },
   "outputs": [
    {
     "data": {
      "text/html": [],
      "text/plain": [
       "<IPython.core.display.HTML object>"
      ]
     },
     "metadata": {},
     "output_type": "display_data"
    },
    {
     "data": {
      "text/html": [
       "<br>    <style><br>        .wandb-row {<br>            display: flex;<br>            flex-direction: row;<br>            flex-wrap: wrap;<br>            justify-content: flex-start;<br>            width: 100%;<br>        }<br>        .wandb-col {<br>            display: flex;<br>            flex-direction: column;<br>            flex-basis: 100%;<br>            flex: 1;<br>            padding: 10px;<br>        }<br>    </style><br><div class=\"wandb-row\"><div class=\"wandb-col\"><h3>Run history:</h3><br/><table class=\"wandb\"><tr><td>epoch</td><td>▁▂▃▄▅▆▇█</td></tr><tr><td>train_loss</td><td>█▅▄▃▂▁▁▁</td></tr><tr><td>val_loss</td><td>█▂▁▁▁▆▅▆</td></tr></table><br/></div><div class=\"wandb-col\"><h3>Run summary:</h3><br/><table class=\"wandb\"><tr><td>epoch</td><td>8</td></tr><tr><td>train_loss</td><td>0.11952</td></tr><tr><td>val_loss</td><td>0.75353</td></tr></table><br/></div></div>"
      ],
      "text/plain": [
       "<IPython.core.display.HTML object>"
      ]
     },
     "metadata": {},
     "output_type": "display_data"
    },
    {
     "data": {
      "text/html": [
       " View run <strong style=\"color:#cdcd00\">Model: Pretrained variant 2, Image size: 36</strong> at: <a href='https://wandb.ai/solo_yolo/CV%20A2%20Resnet/runs/v0d4xh1l' target=\"_blank\">https://wandb.ai/solo_yolo/CV%20A2%20Resnet/runs/v0d4xh1l</a><br> View project at: <a href='https://wandb.ai/solo_yolo/CV%20A2%20Resnet' target=\"_blank\">https://wandb.ai/solo_yolo/CV%20A2%20Resnet</a><br>Synced 5 W&B file(s), 0 media file(s), 0 artifact file(s) and 0 other file(s)"
      ],
      "text/plain": [
       "<IPython.core.display.HTML object>"
      ]
     },
     "metadata": {},
     "output_type": "display_data"
    },
    {
     "data": {
      "text/html": [
       "Find logs at: <code>./wandb/run-20250209_222743-v0d4xh1l/logs</code>"
      ],
      "text/plain": [
       "<IPython.core.display.HTML object>"
      ]
     },
     "metadata": {},
     "output_type": "display_data"
    }
   ],
   "source": [
    "finish_run()"
   ]
  },
  {
   "cell_type": "code",
   "execution_count": 64,
   "metadata": {
    "execution": {
     "iopub.execute_input": "2025-02-09T22:42:03.033448Z",
     "iopub.status.busy": "2025-02-09T22:42:03.033045Z",
     "iopub.status.idle": "2025-02-09T22:42:04.304293Z",
     "shell.execute_reply": "2025-02-09T22:42:04.303687Z",
     "shell.execute_reply.started": "2025-02-09T22:42:03.033385Z"
    },
    "trusted": true
   },
   "outputs": [
    {
     "data": {
      "text/html": [],
      "text/plain": [
       "<IPython.core.display.HTML object>"
      ]
     },
     "metadata": {},
     "output_type": "display_data"
    },
    {
     "data": {
      "text/html": [
       "<br>    <style><br>        .wandb-row {<br>            display: flex;<br>            flex-direction: row;<br>            flex-wrap: wrap;<br>            justify-content: flex-start;<br>            width: 100%;<br>        }<br>        .wandb-col {<br>            display: flex;<br>            flex-direction: column;<br>            flex-basis: 100%;<br>            flex: 1;<br>            padding: 10px;<br>        }<br>    </style><br><div class=\"wandb-row\"><div class=\"wandb-col\"><h3>Run history:</h3><br/><table class=\"wandb\"><tr><td>epoch</td><td>▁▂▃▅▆▇█</td></tr><tr><td>train_loss</td><td>█▅▄▃▂▁▁</td></tr><tr><td>val_loss</td><td>█▅▂▁▂▁▂</td></tr></table><br/></div><div class=\"wandb-col\"><h3>Run summary:</h3><br/><table class=\"wandb\"><tr><td>epoch</td><td>7</td></tr><tr><td>train_loss</td><td>0.21788</td></tr><tr><td>val_loss</td><td>0.75483</td></tr></table><br/></div></div>"
      ],
      "text/plain": [
       "<IPython.core.display.HTML object>"
      ]
     },
     "metadata": {},
     "output_type": "display_data"
    },
    {
     "data": {
      "text/html": [
       " View run <strong style=\"color:#cdcd00\">Model: Scratch variant 3, Image size: 36</strong> at: <a href='https://wandb.ai/solo_yolo/CV%20A2%20Resnet/runs/cjx1n9xf' target=\"_blank\">https://wandb.ai/solo_yolo/CV%20A2%20Resnet/runs/cjx1n9xf</a><br> View project at: <a href='https://wandb.ai/solo_yolo/CV%20A2%20Resnet' target=\"_blank\">https://wandb.ai/solo_yolo/CV%20A2%20Resnet</a><br>Synced 5 W&B file(s), 0 media file(s), 0 artifact file(s) and 0 other file(s)"
      ],
      "text/plain": [
       "<IPython.core.display.HTML object>"
      ]
     },
     "metadata": {},
     "output_type": "display_data"
    },
    {
     "data": {
      "text/html": [
       "Find logs at: <code>./wandb/run-20250209_223530-cjx1n9xf/logs</code>"
      ],
      "text/plain": [
       "<IPython.core.display.HTML object>"
      ]
     },
     "metadata": {},
     "output_type": "display_data"
    }
   ],
   "source": [
    "finish_run()"
   ]
  },
  {
   "cell_type": "markdown",
   "metadata": {},
   "source": [
    "# Variant 3: no maxpool, kernel size = 3, stride = 2"
   ]
  },
  {
   "cell_type": "code",
   "execution_count": 58,
   "metadata": {
    "execution": {
     "iopub.execute_input": "2025-02-09T22:31:59.330528Z",
     "iopub.status.busy": "2025-02-09T22:31:59.330191Z",
     "iopub.status.idle": "2025-02-09T22:35:36.966086Z",
     "shell.execute_reply": "2025-02-09T22:35:36.965378Z",
     "shell.execute_reply.started": "2025-02-09T22:31:59.330499Z"
    },
    "trusted": true
   },
   "outputs": [
    {
     "name": "stdout",
     "output_type": "stream",
     "text": [
      "Epoch 1: Train Loss = 1.3404, Train Accuracy = 0.5136, Validation Loss = 1.0653, Validation Accuracy = 0.6227\n",
      "Epoch 2: Train Loss = 0.8943, Train Accuracy = 0.6834, Validation Loss = 0.8887, Validation Accuracy = 0.6955\n",
      "Epoch 3: Train Loss = 0.6805, Train Accuracy = 0.7621, Validation Loss = 0.7497, Validation Accuracy = 0.7383\n",
      "Epoch 4: Train Loss = 0.5332, Train Accuracy = 0.8135, Validation Loss = 0.6830, Validation Accuracy = 0.7692\n",
      "Epoch 5: Train Loss = 0.3990, Train Accuracy = 0.8610, Validation Loss = 0.7366, Validation Accuracy = 0.7594\n",
      "Epoch 6: Train Loss = 0.2971, Train Accuracy = 0.8952, Validation Loss = 0.6943, Validation Accuracy = 0.7872\n",
      "Epoch 7: Train Loss = 0.2179, Train Accuracy = 0.9237, Validation Loss = 0.7548, Validation Accuracy = 0.7853\n",
      "Early stopping at epoch 7 due to no improvement in validation loss.\n"
     ]
    },
    {
     "data": {
      "text/html": [
       "Tracking run with wandb version 0.19.1"
      ],
      "text/plain": [
       "<IPython.core.display.HTML object>"
      ]
     },
     "metadata": {},
     "output_type": "display_data"
    },
    {
     "data": {
      "text/html": [
       "Run data is saved locally in <code>/kaggle/working/wandb/run-20250209_223530-cjx1n9xf</code>"
      ],
      "text/plain": [
       "<IPython.core.display.HTML object>"
      ]
     },
     "metadata": {},
     "output_type": "display_data"
    },
    {
     "data": {
      "text/html": [
       "Syncing run <strong><a href='https://wandb.ai/solo_yolo/CV%20A2%20Resnet/runs/cjx1n9xf' target=\"_blank\">Model: Scratch variant 3, Image size: 36</a></strong> to <a href='https://wandb.ai/solo_yolo/CV%20A2%20Resnet' target=\"_blank\">Weights & Biases</a> (<a href='https://wandb.me/developer-guide' target=\"_blank\">docs</a>)<br>"
      ],
      "text/plain": [
       "<IPython.core.display.HTML object>"
      ]
     },
     "metadata": {},
     "output_type": "display_data"
    },
    {
     "data": {
      "text/html": [
       " View project at <a href='https://wandb.ai/solo_yolo/CV%20A2%20Resnet' target=\"_blank\">https://wandb.ai/solo_yolo/CV%20A2%20Resnet</a>"
      ],
      "text/plain": [
       "<IPython.core.display.HTML object>"
      ]
     },
     "metadata": {},
     "output_type": "display_data"
    },
    {
     "data": {
      "text/html": [
       " View run at <a href='https://wandb.ai/solo_yolo/CV%20A2%20Resnet/runs/cjx1n9xf' target=\"_blank\">https://wandb.ai/solo_yolo/CV%20A2%20Resnet/runs/cjx1n9xf</a>"
      ],
      "text/plain": [
       "<IPython.core.display.HTML object>"
      ]
     },
     "metadata": {},
     "output_type": "display_data"
    }
   ],
   "source": [
    "train_losses, val_losses = train_model(scratch_variant_3, train_loader_1, val_loader_1, test_loader_1, epochs=20, lr=0.001, patience=3, model_name = \"Scratch variant 3\", image_size = 36)"
   ]
  },
  {
   "cell_type": "code",
   "execution_count": 61,
   "metadata": {
    "execution": {
     "iopub.execute_input": "2025-02-09T22:36:19.942977Z",
     "iopub.status.busy": "2025-02-09T22:36:19.942671Z",
     "iopub.status.idle": "2025-02-09T22:36:22.459592Z",
     "shell.execute_reply": "2025-02-09T22:36:22.458863Z",
     "shell.execute_reply.started": "2025-02-09T22:36:19.942951Z"
    },
    "trusted": true
   },
   "outputs": [
    {
     "name": "stdout",
     "output_type": "stream",
     "text": [
      "Accuracy: 0.7822, f1: 0.7812596049746289\n"
     ]
    }
   ],
   "source": [
    "accuracy, f1, confusion_matrix = evaluate_model(scratch_variant_3, test_loader_1)\n",
    "print(f\"Accuracy: {accuracy}, f1: {f1}\")"
   ]
  },
  {
   "cell_type": "code",
   "execution_count": 62,
   "metadata": {
    "execution": {
     "iopub.execute_input": "2025-02-09T22:36:23.732835Z",
     "iopub.status.busy": "2025-02-09T22:36:23.732543Z",
     "iopub.status.idle": "2025-02-09T22:36:23.739146Z",
     "shell.execute_reply": "2025-02-09T22:36:23.738340Z",
     "shell.execute_reply.started": "2025-02-09T22:36:23.732814Z"
    },
    "trusted": true
   },
   "outputs": [
    {
     "data": {
      "text/plain": [
       "array([[843,   4,  49,  11,  27,   4,  12,   7,  35,   8],\n",
       "       [ 26, 827,   6,   6,   6,   3,  10,   3,  55,  58],\n",
       "       [ 44,   3, 656,  45,  88,  63,  73,  16,   6,   6],\n",
       "       [ 34,   2,  50, 565,  74, 151,  82,  28,  10,   4],\n",
       "       [ 11,   1,  20,  34, 825,  35,  32,  35,   7,   0],\n",
       "       [ 15,   2,  25, 122,  47, 722,  36,  26,   2,   3],\n",
       "       [  4,   1,  15,  41,  36,  13, 877,   3,   9,   1],\n",
       "       [ 18,   1,   8,  31,  59,  61,   4, 808,   4,   6],\n",
       "       [ 57,   5,   7,   3,   8,   4,   3,   3, 895,  15],\n",
       "       [ 65,  41,   7,   8,   3,   6,  10,  22,  34, 804]])"
      ]
     },
     "execution_count": 62,
     "metadata": {},
     "output_type": "execute_result"
    }
   ],
   "source": [
    "confusion_matrix"
   ]
  },
  {
   "cell_type": "code",
   "execution_count": 65,
   "metadata": {
    "execution": {
     "iopub.execute_input": "2025-02-09T22:42:25.139001Z",
     "iopub.status.busy": "2025-02-09T22:42:25.138726Z",
     "iopub.status.idle": "2025-02-09T22:42:25.142458Z",
     "shell.execute_reply": "2025-02-09T22:42:25.141505Z",
     "shell.execute_reply.started": "2025-02-09T22:42:25.138981Z"
    },
    "trusted": true
   },
   "outputs": [],
   "source": [
    "finish_run()"
   ]
  },
  {
   "cell_type": "code",
   "execution_count": 66,
   "metadata": {
    "execution": {
     "iopub.execute_input": "2025-02-09T22:42:27.437666Z",
     "iopub.status.busy": "2025-02-09T22:42:27.437293Z",
     "iopub.status.idle": "2025-02-09T22:44:34.157251Z",
     "shell.execute_reply": "2025-02-09T22:44:34.156386Z",
     "shell.execute_reply.started": "2025-02-09T22:42:27.437640Z"
    },
    "trusted": true
   },
   "outputs": [
    {
     "name": "stdout",
     "output_type": "stream",
     "text": [
      "Epoch 1: Train Loss = 0.1684, Train Accuracy = 0.9437, Validation Loss = 0.6669, Validation Accuracy = 0.8200\n",
      "Epoch 2: Train Loss = 0.1259, Train Accuracy = 0.9588, Validation Loss = 0.7140, Validation Accuracy = 0.8172\n",
      "Epoch 3: Train Loss = 0.1061, Train Accuracy = 0.9641, Validation Loss = 0.7369, Validation Accuracy = 0.8196\n",
      "Epoch 4: Train Loss = 0.0848, Train Accuracy = 0.9707, Validation Loss = 0.6924, Validation Accuracy = 0.8250\n",
      "Early stopping at epoch 4 due to no improvement in validation loss.\n"
     ]
    },
    {
     "data": {
      "text/html": [
       "Tracking run with wandb version 0.19.1"
      ],
      "text/plain": [
       "<IPython.core.display.HTML object>"
      ]
     },
     "metadata": {},
     "output_type": "display_data"
    },
    {
     "data": {
      "text/html": [
       "Run data is saved locally in <code>/kaggle/working/wandb/run-20250209_224428-hwa0h4gj</code>"
      ],
      "text/plain": [
       "<IPython.core.display.HTML object>"
      ]
     },
     "metadata": {},
     "output_type": "display_data"
    },
    {
     "data": {
      "text/html": [
       "Syncing run <strong><a href='https://wandb.ai/solo_yolo/CV%20A2%20Resnet/runs/hwa0h4gj' target=\"_blank\">Model: Pretrained variant 3, Image size: 36</a></strong> to <a href='https://wandb.ai/solo_yolo/CV%20A2%20Resnet' target=\"_blank\">Weights & Biases</a> (<a href='https://wandb.me/developer-guide' target=\"_blank\">docs</a>)<br>"
      ],
      "text/plain": [
       "<IPython.core.display.HTML object>"
      ]
     },
     "metadata": {},
     "output_type": "display_data"
    },
    {
     "data": {
      "text/html": [
       " View project at <a href='https://wandb.ai/solo_yolo/CV%20A2%20Resnet' target=\"_blank\">https://wandb.ai/solo_yolo/CV%20A2%20Resnet</a>"
      ],
      "text/plain": [
       "<IPython.core.display.HTML object>"
      ]
     },
     "metadata": {},
     "output_type": "display_data"
    },
    {
     "data": {
      "text/html": [
       " View run at <a href='https://wandb.ai/solo_yolo/CV%20A2%20Resnet/runs/hwa0h4gj' target=\"_blank\">https://wandb.ai/solo_yolo/CV%20A2%20Resnet/runs/hwa0h4gj</a>"
      ],
      "text/plain": [
       "<IPython.core.display.HTML object>"
      ]
     },
     "metadata": {},
     "output_type": "display_data"
    }
   ],
   "source": [
    "train_losses, val_losses = train_model(pretrained_variant_3, train_loader_1, val_loader_1, test_loader_1, epochs=20, lr=0.001, patience=3, model_name = \"Pretrained variant 3\", image_size = 36)"
   ]
  },
  {
   "cell_type": "code",
   "execution_count": 69,
   "metadata": {
    "execution": {
     "iopub.execute_input": "2025-02-09T22:50:26.085300Z",
     "iopub.status.busy": "2025-02-09T22:50:26.084973Z",
     "iopub.status.idle": "2025-02-09T22:50:28.610907Z",
     "shell.execute_reply": "2025-02-09T22:50:28.609904Z",
     "shell.execute_reply.started": "2025-02-09T22:50:26.085277Z"
    },
    "trusted": true
   },
   "outputs": [
    {
     "name": "stdout",
     "output_type": "stream",
     "text": [
      "Accuracy: 0.8197, f1: 0.8195491458886749\n"
     ]
    }
   ],
   "source": [
    "accuracy, f1, confusion_matrix = evaluate_model(pretrained_variant_3, test_loader_1)\n",
    "print(f\"Accuracy: {accuracy}, f1: {f1}\")"
   ]
  },
  {
   "cell_type": "code",
   "execution_count": 70,
   "metadata": {
    "execution": {
     "iopub.execute_input": "2025-02-09T22:50:28.612557Z",
     "iopub.status.busy": "2025-02-09T22:50:28.612118Z",
     "iopub.status.idle": "2025-02-09T22:50:28.619240Z",
     "shell.execute_reply": "2025-02-09T22:50:28.618348Z",
     "shell.execute_reply.started": "2025-02-09T22:50:28.612507Z"
    },
    "trusted": true
   },
   "outputs": [
    {
     "data": {
      "text/plain": [
       "array([[856,  14,  35,  13,   5,   4,   6,   3,  39,  25],\n",
       "       [  9, 926,   4,   2,   1,   1,   1,   2,   6,  48],\n",
       "       [ 63,   5, 743,  58,  46,  20,  45,   9,   6,   5],\n",
       "       [ 26,   7,  41, 726,  49,  59,  50,  21,  12,   9],\n",
       "       [ 18,   3,  50,  54, 798,  10,  32,  28,   6,   1],\n",
       "       [ 18,   3,  40, 231,  32, 626,  16,  27,   4,   3],\n",
       "       [ 11,   8,  31,  40,  18,  10, 867,   1,   9,   5],\n",
       "       [ 27,   2,  14,  44,  28,  23,   1, 851,   2,   8],\n",
       "       [ 41,  24,  10,   7,   3,   1,   2,   0, 890,  22],\n",
       "       [ 21,  42,   3,   5,   1,   1,   2,   5,   6, 914]])"
      ]
     },
     "execution_count": 70,
     "metadata": {},
     "output_type": "execute_result"
    }
   ],
   "source": [
    "confusion_matrix"
   ]
  },
  {
   "cell_type": "markdown",
   "metadata": {},
   "source": [
    "### Observations\n",
    "\n",
    "1. Pretrained models perform better than those trained from scratch.\n",
    "2. Image sise 224 gives better results than image size 36.\n",
    "3. Less kernel size gives better results\n",
    "4. Maxpool removal gives better results"
   ]
  },
  {
   "cell_type": "markdown",
   "metadata": {},
   "source": [
    "### Randomly initialising the first layer"
   ]
  },
  {
   "cell_type": "code",
   "execution_count": 75,
   "metadata": {
    "execution": {
     "iopub.execute_input": "2025-02-09T22:56:47.105761Z",
     "iopub.status.busy": "2025-02-09T22:56:47.105306Z",
     "iopub.status.idle": "2025-02-09T22:56:47.112188Z",
     "shell.execute_reply": "2025-02-09T22:56:47.111299Z",
     "shell.execute_reply.started": "2025-02-09T22:56:47.105713Z"
    },
    "trusted": true
   },
   "outputs": [],
   "source": [
    "import torch.nn.init as init\n",
    "import torchvision.models as models\n",
    "import torch.nn as nn\n",
    "\n",
    "def get_resnet18(num_classes, pretrained=False):\n",
    "    model = models.resnet18(weights=models.ResNet18_Weights.IMAGENET1K_V1 if pretrained else None)\n",
    "    \n",
    "    # Randomly initialize only the first layer (conv1)\n",
    "    init.kaiming_normal_(model.conv1.weight, mode='fan_out', nonlinearity='relu')\n",
    "\n",
    "    model.fc = nn.Linear(512, num_classes)  # Modify FC layer\n",
    "    return model"
   ]
  },
  {
   "cell_type": "markdown",
   "metadata": {},
   "source": [
    "#### *Prompt: Modify this code to load model and randomly initialise first layer*"
   ]
  },
  {
   "cell_type": "code",
   "execution_count": 76,
   "metadata": {
    "execution": {
     "iopub.execute_input": "2025-02-09T22:58:59.054920Z",
     "iopub.status.busy": "2025-02-09T22:58:59.054616Z",
     "iopub.status.idle": "2025-02-09T22:59:00.366265Z",
     "shell.execute_reply": "2025-02-09T22:59:00.365348Z",
     "shell.execute_reply.started": "2025-02-09T22:58:59.054900Z"
    },
    "trusted": true
   },
   "outputs": [
    {
     "data": {
      "text/html": [],
      "text/plain": [
       "<IPython.core.display.HTML object>"
      ]
     },
     "metadata": {},
     "output_type": "display_data"
    },
    {
     "data": {
      "text/html": [
       "<br>    <style><br>        .wandb-row {<br>            display: flex;<br>            flex-direction: row;<br>            flex-wrap: wrap;<br>            justify-content: flex-start;<br>            width: 100%;<br>        }<br>        .wandb-col {<br>            display: flex;<br>            flex-direction: column;<br>            flex-basis: 100%;<br>            flex: 1;<br>            padding: 10px;<br>        }<br>    </style><br><div class=\"wandb-row\"><div class=\"wandb-col\"><h3>Run history:</h3><br/><table class=\"wandb\"><tr><td>epoch</td><td>▁▃▆█</td></tr><tr><td>train_loss</td><td>█▄▃▁</td></tr><tr><td>val_loss</td><td>▁▆█▄</td></tr></table><br/></div><div class=\"wandb-col\"><h3>Run summary:</h3><br/><table class=\"wandb\"><tr><td>epoch</td><td>4</td></tr><tr><td>train_loss</td><td>0.08483</td></tr><tr><td>val_loss</td><td>0.69238</td></tr></table><br/></div></div>"
      ],
      "text/plain": [
       "<IPython.core.display.HTML object>"
      ]
     },
     "metadata": {},
     "output_type": "display_data"
    },
    {
     "data": {
      "text/html": [
       " View run <strong style=\"color:#cdcd00\">Model: Pretrained variant 3, Image size: 36</strong> at: <a href='https://wandb.ai/solo_yolo/CV%20A2%20Resnet/runs/hwa0h4gj' target=\"_blank\">https://wandb.ai/solo_yolo/CV%20A2%20Resnet/runs/hwa0h4gj</a><br> View project at: <a href='https://wandb.ai/solo_yolo/CV%20A2%20Resnet' target=\"_blank\">https://wandb.ai/solo_yolo/CV%20A2%20Resnet</a><br>Synced 5 W&B file(s), 0 media file(s), 0 artifact file(s) and 0 other file(s)"
      ],
      "text/plain": [
       "<IPython.core.display.HTML object>"
      ]
     },
     "metadata": {},
     "output_type": "display_data"
    },
    {
     "data": {
      "text/html": [
       "Find logs at: <code>./wandb/run-20250209_224428-hwa0h4gj/logs</code>"
      ],
      "text/plain": [
       "<IPython.core.display.HTML object>"
      ]
     },
     "metadata": {},
     "output_type": "display_data"
    }
   ],
   "source": [
    "finish_run()"
   ]
  },
  {
   "cell_type": "code",
   "execution_count": 77,
   "metadata": {
    "execution": {
     "iopub.execute_input": "2025-02-09T22:59:05.478066Z",
     "iopub.status.busy": "2025-02-09T22:59:05.477779Z",
     "iopub.status.idle": "2025-02-09T23:01:46.429354Z",
     "shell.execute_reply": "2025-02-09T23:01:46.428681Z",
     "shell.execute_reply.started": "2025-02-09T22:59:05.478046Z"
    },
    "trusted": true
   },
   "outputs": [
    {
     "name": "stdout",
     "output_type": "stream",
     "text": [
      "Epoch 1: Train Loss = 1.3561, Train Accuracy = 0.5126, Validation Loss = 1.3047, Validation Accuracy = 0.5516\n",
      "Epoch 2: Train Loss = 0.9754, Train Accuracy = 0.6573, Validation Loss = 1.0035, Validation Accuracy = 0.6533\n",
      "Epoch 3: Train Loss = 0.7934, Train Accuracy = 0.7217, Validation Loss = 0.8466, Validation Accuracy = 0.7043\n",
      "Epoch 4: Train Loss = 0.6487, Train Accuracy = 0.7717, Validation Loss = 0.7801, Validation Accuracy = 0.7345\n",
      "Epoch 5: Train Loss = 0.5331, Train Accuracy = 0.8152, Validation Loss = 0.9734, Validation Accuracy = 0.6872\n",
      "Epoch 6: Train Loss = 0.4174, Train Accuracy = 0.8529, Validation Loss = 0.7876, Validation Accuracy = 0.7475\n",
      "Epoch 7: Train Loss = 0.3208, Train Accuracy = 0.8866, Validation Loss = 0.8337, Validation Accuracy = 0.7562\n",
      "Early stopping at epoch 7 due to no improvement in validation loss.\n"
     ]
    },
    {
     "data": {
      "text/html": [
       "Tracking run with wandb version 0.19.1"
      ],
      "text/plain": [
       "<IPython.core.display.HTML object>"
      ]
     },
     "metadata": {},
     "output_type": "display_data"
    },
    {
     "data": {
      "text/html": [
       "Run data is saved locally in <code>/kaggle/working/wandb/run-20250209_230140-z8hmk5e2</code>"
      ],
      "text/plain": [
       "<IPython.core.display.HTML object>"
      ]
     },
     "metadata": {},
     "output_type": "display_data"
    },
    {
     "data": {
      "text/html": [
       "Syncing run <strong><a href='https://wandb.ai/solo_yolo/CV%20A2%20Resnet/runs/z8hmk5e2' target=\"_blank\">Model: Random initialised model, Image size: 36</a></strong> to <a href='https://wandb.ai/solo_yolo/CV%20A2%20Resnet' target=\"_blank\">Weights & Biases</a> (<a href='https://wandb.me/developer-guide' target=\"_blank\">docs</a>)<br>"
      ],
      "text/plain": [
       "<IPython.core.display.HTML object>"
      ]
     },
     "metadata": {},
     "output_type": "display_data"
    },
    {
     "data": {
      "text/html": [
       " View project at <a href='https://wandb.ai/solo_yolo/CV%20A2%20Resnet' target=\"_blank\">https://wandb.ai/solo_yolo/CV%20A2%20Resnet</a>"
      ],
      "text/plain": [
       "<IPython.core.display.HTML object>"
      ]
     },
     "metadata": {},
     "output_type": "display_data"
    },
    {
     "data": {
      "text/html": [
       " View run at <a href='https://wandb.ai/solo_yolo/CV%20A2%20Resnet/runs/z8hmk5e2' target=\"_blank\">https://wandb.ai/solo_yolo/CV%20A2%20Resnet/runs/z8hmk5e2</a>"
      ],
      "text/plain": [
       "<IPython.core.display.HTML object>"
      ]
     },
     "metadata": {},
     "output_type": "display_data"
    },
    {
     "data": {
      "text/plain": [
       "([1.3560553646087647,\n",
       "  0.9753717681884766,\n",
       "  0.7933772093772888,\n",
       "  0.6487215874671936,\n",
       "  0.5331039210319519,\n",
       "  0.41737567377090456,\n",
       "  0.3208009243011475],\n",
       " [1.3047101615340846,\n",
       "  1.0035328895423063,\n",
       "  0.8466236249656435,\n",
       "  0.7801486701722358,\n",
       "  0.9734292846576423,\n",
       "  0.7876081544502526,\n",
       "  0.8337333246021513])"
      ]
     },
     "execution_count": 77,
     "metadata": {},
     "output_type": "execute_result"
    }
   ],
   "source": [
    "random_init_model = get_resnet18(num_classes, pretrained=False)\n",
    "train_model(random_init_model, train_loader_1, val_loader_1, test_loader_1, epochs=20, lr=0.001, patience=3, model_name = \"Random initialised model\", image_size = 36)"
   ]
  },
  {
   "cell_type": "markdown",
   "metadata": {},
   "source": [
    "## Observations & Explanations\n",
    "\n",
    "1. **Pretrained models perform better**  \n",
    "   - They already learned general patterns from ImageNet, making training more efficient and preventing overfitting on smaller datasets.  \n",
    "\n",
    "2. **Image size 224 is better than 36**  \n",
    "   - ResNet was originally designed for 224×224 images, so its architecture is optimized for this resolution. Using smaller images (36×36) leads to excessive downsampling in early layers, losing crucial spatial details.  \n",
    "\n",
    "3. **Smaller kernels improve performance**  \n",
    "   - Smaller kernels (e.g., 3x3 instead of 7x7) focus on finer details, improve feature extraction, and introduce more non-linearity, leading to better generalization.  \n",
    "\n",
    "4. **Removing max pooling helps**  \n",
    "   - Max pooling reduces spatial resolution too quickly for small images, causing information loss. Removing it allows deeper layers to retain more useful features.\n"
   ]
  }
 ],
 "metadata": {
  "kaggle": {
   "accelerator": "nvidiaTeslaT4",
   "dataSources": [
    {
     "datasetId": 6583648,
     "sourceId": 10633663,
     "sourceType": "datasetVersion"
    }
   ],
   "dockerImageVersionId": 30840,
   "isGpuEnabled": true,
   "isInternetEnabled": true,
   "language": "python",
   "sourceType": "notebook"
  },
  "kernelspec": {
   "display_name": "Python 3",
   "language": "python",
   "name": "python3"
  },
  "language_info": {
   "codemirror_mode": {
    "name": "ipython",
    "version": 3
   },
   "file_extension": ".py",
   "mimetype": "text/x-python",
   "name": "python",
   "nbconvert_exporter": "python",
   "pygments_lexer": "ipython3",
   "version": "3.12.7"
  }
 },
 "nbformat": 4,
 "nbformat_minor": 4
}
