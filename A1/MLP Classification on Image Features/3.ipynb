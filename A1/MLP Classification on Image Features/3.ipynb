{
  "cells": [
    {
      "cell_type": "code",
      "execution_count": 1,
      "metadata": {
        "id": "ydQVBvT_At1s"
      },
      "outputs": [],
      "source": [
        "import pandas as pd\n",
        "import numpy as np\n",
        "import matplotlib.pyplot as plt\n",
        "from sklearn.model_selection import train_test_split\n",
        "import torch\n",
        "import torch.nn as nn\n",
        "import torch.optim as optim\n",
        "from torchvision import transforms\n",
        "from sklearn.metrics import accuracy_score, precision_score, recall_score, f1_score, confusion_matrix\n",
        "import matplotlib.pyplot as plt\n",
        "import seaborn as sns\n",
        "from torch.utils.data import DataLoader, TensorDataset\n",
        "import cv2"
      ]
    },
    {
      "cell_type": "code",
      "execution_count": 2,
      "metadata": {
        "colab": {
          "base_uri": "https://localhost:8080/",
          "height": 126
        },
        "id": "LeTw0k5Ci0Yf",
        "outputId": "63fe2ce4-0791-4785-8121-cf3711d8e188"
      },
      "outputs": [
        {
          "data": {
            "application/javascript": "\n        window._wandbApiKey = new Promise((resolve, reject) => {\n            function loadScript(url) {\n            return new Promise(function(resolve, reject) {\n                let newScript = document.createElement(\"script\");\n                newScript.onerror = reject;\n                newScript.onload = resolve;\n                document.body.appendChild(newScript);\n                newScript.src = url;\n            });\n            }\n            loadScript(\"https://cdn.jsdelivr.net/npm/postmate/build/postmate.min.js\").then(() => {\n            const iframe = document.createElement('iframe')\n            iframe.style.cssText = \"width:0;height:0;border:none\"\n            document.body.appendChild(iframe)\n            const handshake = new Postmate({\n                container: iframe,\n                url: 'https://wandb.ai/authorize'\n            });\n            const timeout = setTimeout(() => reject(\"Couldn't auto authenticate\"), 5000)\n            handshake.then(function(child) {\n                child.on('authorize', data => {\n                    clearTimeout(timeout)\n                    resolve(data)\n                });\n            });\n            })\n        });\n    ",
            "text/plain": [
              "<IPython.core.display.Javascript object>"
            ]
          },
          "metadata": {},
          "output_type": "display_data"
        },
        {
          "name": "stderr",
          "output_type": "stream",
          "text": [
            "\u001b[34m\u001b[1mwandb\u001b[0m: Logging into wandb.ai. (Learn how to deploy a W&B server locally: https://wandb.me/wandb-server)\n",
            "\u001b[34m\u001b[1mwandb\u001b[0m: You can find your API key in your browser here: https://wandb.ai/authorize\n",
            "wandb: Paste an API key from your profile and hit enter, or press ctrl+c to quit:"
          ]
        },
        {
          "name": "stdout",
          "output_type": "stream",
          "text": [
            " ··········\n"
          ]
        },
        {
          "name": "stderr",
          "output_type": "stream",
          "text": [
            "\u001b[34m\u001b[1mwandb\u001b[0m: Appending key for api.wandb.ai to your netrc file: /root/.netrc\n"
          ]
        },
        {
          "data": {
            "text/plain": [
              "True"
            ]
          },
          "execution_count": 2,
          "metadata": {},
          "output_type": "execute_result"
        }
      ],
      "source": [
        "import wandb\n",
        "wandb.login()"
      ]
    },
    {
      "cell_type": "code",
      "execution_count": 2,
      "metadata": {
        "colab": {
          "base_uri": "https://localhost:8080/"
        },
        "id": "teR5suJKEZRL",
        "outputId": "7c83172d-f845-41dd-cfb8-64c8b760a268"
      },
      "outputs": [
        {
          "name": "stdout",
          "output_type": "stream",
          "text": [
            "Mounted at /content/drive\n"
          ]
        }
      ],
      "source": [
        "from google.colab import drive\n",
        "drive.mount('/content/drive')"
      ]
    },
    {
      "cell_type": "code",
      "execution_count": 3,
      "metadata": {
        "colab": {
          "base_uri": "https://localhost:8080/"
        },
        "id": "jE7VDe1UH8BU",
        "outputId": "ed6db38d-b75c-45b7-a443-3d5f23c4a639"
      },
      "outputs": [
        {
          "name": "stdout",
          "output_type": "stream",
          "text": [
            "Archive:  /content/drive/My Drive/cv-mlp.zip\n",
            "  inflating: mlp-cv/archive/train-labels  \n",
            "  inflating: mlp-cv/archive/historical-doc.png  \n",
            "  inflating: mlp-cv/archive/test-labels  \n",
            "  inflating: mlp-cv/archive/cloverleaf_interchange.png  \n",
            "  inflating: mlp-cv/archive/train-images  \n",
            "  inflating: mlp-cv/archive/test.csv  \n",
            "  inflating: mlp-cv/archive/test-images  \n",
            "  inflating: mlp-cv/archive/train.csv  \n"
          ]
        }
      ],
      "source": [
        "!unzip  '/content/drive/My Drive/cv-mlp' -d mlp-cv"
      ]
    },
    {
      "cell_type": "code",
      "execution_count": 4,
      "metadata": {
        "id": "x5ww67UEEne4"
      },
      "outputs": [],
      "source": [
        "train_file_path = 'mlp-cv/archive/train.csv'\n",
        "test_file_path = 'mlp-cv/archive/test.csv'\n",
        "\n",
        "def reshape_images(filepath):\n",
        "    data = pd.read_csv(filepath)\n",
        "    images = data.iloc[:, :-1].values.reshape(-1, 28, 28)  # Reshape to (num_samples, 28, 28)\n",
        "    labels = data['label'].values\n",
        "    return images, labels\n",
        "\n",
        "train_images, train_labels = reshape_images(train_file_path)\n",
        "test_images, test_labels = reshape_images(test_file_path)"
      ]
    },
    {
      "cell_type": "code",
      "execution_count": 5,
      "metadata": {
        "colab": {
          "base_uri": "https://localhost:8080/"
        },
        "id": "4a8-oCXjkonz",
        "outputId": "2a536dd3-6b43-45e4-d7a6-d922ce45c0a0"
      },
      "outputs": [
        {
          "data": {
            "text/plain": [
              "(28, 28)"
            ]
          },
          "execution_count": 5,
          "metadata": {},
          "output_type": "execute_result"
        }
      ],
      "source": [
        "train_images[1].shape"
      ]
    },
    {
      "cell_type": "code",
      "execution_count": 6,
      "metadata": {
        "colab": {
          "base_uri": "https://localhost:8080/"
        },
        "id": "T-kR1HohWANv",
        "outputId": "87b3f895-31ea-420a-9469-bf8787349d84"
      },
      "outputs": [
        {
          "name": "stdout",
          "output_type": "stream",
          "text": [
            "Unique labels in train set: [0 1 2 3 4 5 6 7 8 9]\n",
            "Unique labels in test set: [0 1 2 3 4 5 6 7 8 9]\n"
          ]
        }
      ],
      "source": [
        "unique_train_labels = np.unique(train_labels)\n",
        "unique_test_labels = np.unique(test_labels)\n",
        "\n",
        "print(\"Unique labels in train set:\", unique_train_labels)\n",
        "print(\"Unique labels in test set:\", unique_test_labels)"
      ]
    },
    {
      "cell_type": "code",
      "execution_count": 7,
      "metadata": {
        "colab": {
          "base_uri": "https://localhost:8080/"
        },
        "id": "aWq_cakyIaAl",
        "outputId": "f5914426-4b17-4429-e5b6-f50735419cd6"
      },
      "outputs": [
        {
          "data": {
            "text/plain": [
              "((60000, 28, 28), (60000,), (10000, 28, 28), (10000,))"
            ]
          },
          "execution_count": 7,
          "metadata": {},
          "output_type": "execute_result"
        }
      ],
      "source": [
        "train_images.shape, train_labels.shape, test_images.shape, test_labels.shape"
      ]
    },
    {
      "cell_type": "code",
      "execution_count": 8,
      "metadata": {
        "colab": {
          "base_uri": "https://localhost:8080/"
        },
        "id": "da6lSbYWIh4n",
        "outputId": "f9b8ab7c-9d1f-4a60-b975-48006971f81b"
      },
      "outputs": [
        {
          "name": "stdout",
          "output_type": "stream",
          "text": [
            "Train set: (48000, 28, 28), Validation set: (12000, 28, 28), Test set: (10000, 28, 28)\n"
          ]
        }
      ],
      "source": [
        "X_train, X_val, y_train, y_val = train_test_split(train_images, train_labels, test_size=0.2, random_state=42)\n",
        "\n",
        "print(f\"Train set: {X_train.shape}, Validation set: {X_val.shape}, Test set: {test_images.shape}\")"
      ]
    },
    {
      "cell_type": "code",
      "execution_count": 10,
      "metadata": {
        "colab": {
          "base_uri": "https://localhost:8080/",
          "height": 878
        },
        "id": "H6OEHprhIvP2",
        "outputId": "f5aafefa-3291-494a-c00a-754e636ec506"
      },
      "outputs": [
        {
          "data": {
            "image/png": "[encoded data removed]",
            "text/plain": [
              "<Figure size 1000x1000 with 24 Axes>"
            ]
          },
          "metadata": {},
          "output_type": "display_data"
        }
      ],
      "source": [
        "def visualize_images(images, labels, title, num_images=24):\n",
        "    plt.figure(figsize=(10, 10))\n",
        "    for i in range(num_images):\n",
        "        plt.subplot(4, 6, i + 1)\n",
        "        plt.imshow(images[i], cmap='gray')\n",
        "        plt.title(f\"Label: {labels[i]}\")\n",
        "        plt.axis('off')\n",
        "    plt.suptitle(title, fontsize=16)\n",
        "    plt.show()\n",
        "\n",
        "visualize_images(X_train, y_train, \"Sample Images from Training Set\")"
      ]
    },
    {
      "cell_type": "markdown",
      "metadata": {
        "id": "DFX0BycQh3_r"
      },
      "source": [
        "1.   Class 0 - T shirt\n",
        "2.   Class 1 - Pants\n",
        "3. Class 2 - sweater\n",
        "4. Class 3 - dress\n",
        "5. Class 4 - sweatshirt\n",
        "6. Class 5 - sandals\n",
        "7. Class 6 - top\n",
        "8. Class 7 - shoes\n",
        "9. Class 8 - handbag\n",
        "10. Class 9 - heels"
      ]
    },
    {
      "cell_type": "code",
      "execution_count": 11,
      "metadata": {
        "id": "WrcED9XLJXSw"
      },
      "outputs": [],
      "source": [
        "class MLP(nn.Module):\n",
        "    def __init__(self, input_size, num_classes):\n",
        "        super(MLP, self).__init__()\n",
        "        self.model = nn.Sequential(\n",
        "            nn.Linear(input_size, 512),\n",
        "            nn.ReLU(),\n",
        "            nn.Dropout(0.2),\n",
        "            nn.Linear(512, 256),\n",
        "            nn.ReLU(),\n",
        "            nn.Dropout(0.2),\n",
        "            nn.Linear(256, num_classes)\n",
        "        )\n",
        "\n",
        "    def forward(self, x):\n",
        "        return self.model(x)\n",
        "\n",
        "# Train the Model\n",
        "def train_model(model, criterion, optimizer, train_loader, val_loader, epochs=10, patience=3):\n",
        "    device = 'cuda' if torch.cuda.is_available() else 'cpu'\n",
        "    model = model.to(device)\n",
        "\n",
        "    train_losses, val_losses = [], []\n",
        "    best_val_loss = float('inf')\n",
        "    patience_counter = 0\n",
        "    best_model_state = None\n",
        "\n",
        "    for epoch in range(epochs):\n",
        "        model.train()\n",
        "        running_loss = 0\n",
        "        for X_batch, y_batch in train_loader:\n",
        "            X_batch, y_batch = X_batch.to(device), y_batch.to(device)\n",
        "\n",
        "            optimizer.zero_grad()\n",
        "            outputs = model(X_batch)\n",
        "            loss = criterion(outputs, y_batch)\n",
        "            loss.backward()\n",
        "            optimizer.step()\n",
        "            running_loss += loss.item()\n",
        "\n",
        "        train_losses.append(running_loss / len(train_loader))\n",
        "\n",
        "        # Validate\n",
        "        model.eval()\n",
        "        val_loss = 0\n",
        "        with torch.no_grad():\n",
        "            for X_val, y_val in val_loader:\n",
        "                X_val, y_val = X_val.to(device), y_val.to(device)\n",
        "                outputs = model(X_val)\n",
        "                loss = criterion(outputs, y_val)\n",
        "                val_loss += loss.item()\n",
        "\n",
        "        val_loss /= len(val_loader)\n",
        "        val_losses.append(val_loss)\n",
        "\n",
        "        print(f\"Epoch {epoch+1}/{epochs} - Train Loss: {train_losses[-1]:.4f}, Val Loss: {val_loss:.4f}\")\n",
        "\n",
        "        # Check for early stopping\n",
        "        if val_loss < best_val_loss:\n",
        "            best_val_loss = val_loss\n",
        "            patience_counter = 0\n",
        "            best_model_state = model.state_dict()  # Save the best model\n",
        "        else:\n",
        "            patience_counter += 1\n",
        "            print(f\"Validation loss did not improve. Patience counter: {patience_counter}/{patience}\")\n",
        "\n",
        "        if patience_counter >= patience:\n",
        "            print(\"Early stopping triggered.\")\n",
        "            break\n",
        "\n",
        "    # Load the best model before returning\n",
        "    if best_model_state:\n",
        "        model.load_state_dict(best_model_state)\n",
        "\n",
        "    return model, train_losses, val_losses\n",
        "\n",
        "\n",
        "def evaluate_model(model, test_loader, num_classes):\n",
        "    device = 'cuda' if torch.cuda.is_available() else 'cpu'\n",
        "    model = model.to(device)\n",
        "    model.eval()\n",
        "\n",
        "    all_preds = []\n",
        "    all_labels = []\n",
        "\n",
        "    with torch.no_grad():\n",
        "        for images, labels in test_loader:\n",
        "            images = images.to(device)\n",
        "            labels = labels.to(device)\n",
        "            outputs = model(images)\n",
        "\n",
        "            _, preds = torch.max(outputs, 1)\n",
        "            all_preds.append(preds.cpu().numpy())\n",
        "            all_labels.append(labels.cpu().numpy())\n",
        "\n",
        "    # Concatenate all predictions and labels\n",
        "    all_preds = np.concatenate(all_preds)\n",
        "    all_labels = np.concatenate(all_labels)\n",
        "\n",
        "    # Calculate metrics\n",
        "    accuracy = accuracy_score(all_labels, all_preds)\n",
        "    f1 = f1_score(all_labels, all_preds, average='weighted')  # Weighted average for imbalanced datasets\n",
        "    precision = precision_score(all_labels, all_preds, average='weighted')\n",
        "    recall = recall_score(all_labels, all_preds, average='weighted')\n",
        "    conf_matrix = confusion_matrix(all_labels, all_preds)\n",
        "\n",
        "    # Print metrics\n",
        "    print(f\"Test Accuracy: {accuracy * 100:.2f}%\")\n",
        "    print(f\"F1 Score: {f1:.4f}\")\n",
        "    print(f\"Precision: {precision:.4f}\")\n",
        "    print(f\"Recall: {recall:.4f}\")\n",
        "    print(f\"Confusion Matrix:\\n{conf_matrix}\")\n",
        "\n",
        "    return {\n",
        "        \"accuracy\": accuracy,\n",
        "        \"f1_score\": f1,\n",
        "        \"precision\": precision,\n",
        "        \"recall\": recall,\n",
        "        \"confusion_matrix\": conf_matrix\n",
        "    }\n",
        "\n"
      ]
    },
    {
      "cell_type": "markdown",
      "metadata": {
        "id": "84IUuD1hf3Y0"
      },
      "source": [
        "###  Model 1"
      ]
    },
    {
      "cell_type": "code",
      "execution_count": 12,
      "metadata": {
        "id": "RC0J24UPvu2G"
      },
      "outputs": [],
      "source": [
        "# Flatten images\n",
        "X_train_flat = X_train.reshape(X_train.shape[0], -1)\n",
        "X_val_flat = X_val.reshape(X_val.shape[0], -1)\n",
        "X_test_flat = test_images.reshape(test_images.shape[0], -1)\n",
        "\n",
        "# Convert to PyTorch tensors\n",
        "X_train_tensor = torch.tensor(X_train_flat, dtype=torch.float32)\n",
        "y_train_tensor = torch.tensor(y_train, dtype=torch.long)\n",
        "X_val_tensor = torch.tensor(X_val_flat, dtype=torch.float32)\n",
        "y_val_tensor = torch.tensor(y_val, dtype=torch.long)\n",
        "X_test_tensor = torch.tensor(X_test_flat, dtype=torch.float32)\n",
        "y_test_tensor = torch.tensor(test_labels, dtype=torch.long)\n",
        "\n",
        "train_loader = DataLoader(TensorDataset(X_train_tensor, y_train_tensor), batch_size=64, shuffle=True)\n",
        "val_loader = DataLoader(TensorDataset(X_val_tensor, y_val_tensor), batch_size=64, shuffle=False)\n",
        "test_loader = DataLoader(TensorDataset(X_test_tensor, y_test_tensor), batch_size=64, shuffle=False)\n",
        "\n",
        "# Define Model 1\n",
        "input_size = 784  # 28x28 images flattened\n",
        "num_classes = len(np.unique(train_labels))\n",
        "model1 = MLP(input_size, num_classes)\n",
        "\n",
        "# Define Loss and Optimizer\n",
        "criterion = nn.CrossEntropyLoss()\n",
        "optimizer = optim.Adam(model1.parameters(), lr=0.001)"
      ]
    },
    {
      "cell_type": "code",
      "execution_count": 24,
      "metadata": {
        "colab": {
          "base_uri": "https://localhost:8080/"
        },
        "id": "10Fz9z9omC3Z",
        "outputId": "e7dbffdd-c6e2-49f4-f7c9-a702716ceff9"
      },
      "outputs": [
        {
          "name": "stdout",
          "output_type": "stream",
          "text": [
            "Test Accuracy: 84.80%\n",
            "F1 Score: 0.8478\n",
            "Precision: 0.8562\n",
            "Recall: 0.8480\n",
            "Confusion Matrix:\n",
            "[[609   1  27  61   1   0 287   0  14   0]\n",
            " [  1 967   6  22   0   1   3   0   0   0]\n",
            " [  5   0 837  16  88   0  49   0   5   0]\n",
            " [  5   9  14 911  25   0  32   0   4   0]\n",
            " [  0   0 157  41 731   0  68   0   3   0]\n",
            " [  0   0   1   0   0 936   0  35   2  26]\n",
            " [ 36   1 135  42 113   0 654   0  19   0]\n",
            " [  0   0   0   0   0  17   0 914   0  69]\n",
            " [  1   0   7   2   2   3  13   3 969   0]\n",
            " [  0   0   0   0   0  10   0  37   1 952]]\n"
          ]
        }
      ],
      "source": [
        "metrics1 = evaluate_model(model1, test_loader, num_classes)"
      ]
    },
    {
      "cell_type": "code",
      "execution_count": null,
      "metadata": {
        "colab": {
          "base_uri": "https://localhost:8080/"
        },
        "id": "4QOK7D-txQK0",
        "outputId": "04f1f80e-cdb3-4bd0-fda4-02ec7187ed30"
      },
      "outputs": [
        {
          "data": {
            "text/plain": [
              "numpy.ndarray"
            ]
          },
          "execution_count": 56,
          "metadata": {},
          "output_type": "execute_result"
        }
      ],
      "source": [
        "type(X_train)"
      ]
    },
    {
      "cell_type": "markdown",
      "metadata": {
        "id": "7gP8eqQ3m4yP"
      },
      "source": [
        "### Hyperparameter tuning for model 1"
      ]
    },
    {
      "cell_type": "code",
      "execution_count": 19,
      "metadata": {
        "id": "71thzgsRqLAS"
      },
      "outputs": [],
      "source": [
        "import torch.optim as optim\n",
        "import wandb\n",
        "\n",
        "def hyperparameter_tuning(train_loader, val_loader, test_loader, input_size, num_classes, epochs=50, patience=3, model_name=\"Model\"):\n",
        "    learning_rates= [0.01, 0.001]\n",
        "    optimizers = [\"SGD\", \"Adam\"]\n",
        "    import wandb\n",
        "\n",
        "    results = []\n",
        "\n",
        "    for lr in learning_rates:\n",
        "        for opt_name in optimizers:\n",
        "            print(f\"Training {model_name} with Learning Rate: {lr}, Optimizer: {opt_name}\")\n",
        "\n",
        "            # Initialize WandB with a unique run name\n",
        "            run_name = f\"{model_name}_LR-{lr}_OPT-{opt_name}\"\n",
        "            wandb.init(project=\"Logs\", name=run_name, reinit=True)\n",
        "\n",
        "            # Initialize model\n",
        "            model = MLP(input_size, num_classes)\n",
        "\n",
        "            # Define criterion and optimizer\n",
        "            criterion = nn.CrossEntropyLoss()\n",
        "            if opt_name == 'SGD':\n",
        "                optimizer = torch.optim.SGD(model.parameters(), lr=lr)\n",
        "            elif opt_name == 'Adam':\n",
        "                optimizer = torch.optim.Adam(model.parameters(), lr=lr)\n",
        "            else:\n",
        "                raise ValueError(f\"Unsupported optimizer: {opt_name}\")\n",
        "\n",
        "            # Train the model\n",
        "            trained_model, train_losses, val_losses = train_model(\n",
        "                model, criterion, optimizer, train_loader, val_loader, epochs=epochs, patience=patience\n",
        "            )\n",
        "\n",
        "            # Log train and validation losses to WandB\n",
        "            for epoch, (train_loss, val_loss) in enumerate(zip(train_losses, val_losses), start=1):\n",
        "                wandb.log({\"epoch\": epoch, \"train_loss\": train_loss, \"val_loss\": val_loss})\n",
        "\n",
        "            # Evaluate the model\n",
        "            test_metrics = evaluate_model(trained_model, test_loader, num_classes)\n",
        "\n",
        "            # Save results for comparison\n",
        "            results.append({\n",
        "                \"model_name\": model_name,\n",
        "                \"learning_rate\": lr,\n",
        "                \"optimizer\": opt_name,\n",
        "                \"train_losses\": train_losses,\n",
        "                \"val_losses\": val_losses,\n",
        "                \"test_metrics\": test_metrics\n",
        "            })\n",
        "\n",
        "            # End WandB run\n",
        "            wandb.finish()\n",
        "\n",
        "    return results\n"
      ]
    },
    {
      "cell_type": "code",
      "execution_count": 20,
      "metadata": {
        "colab": {
          "base_uri": "https://localhost:8080/",
          "height": 1000
        },
        "id": "zQOYCUFE4UMw",
        "outputId": "8374d4cd-9c34-4496-fdea-4929a95a8568"
      },
      "outputs": [
        {
          "name": "stdout",
          "output_type": "stream",
          "text": [
            "Training All features with Learning Rate: 0.01, Optimizer: SGD\n"
          ]
        },
        {
          "data": {
            "text/html": [
              "Tracking run with wandb version 0.19.2"
            ],
            "text/plain": [
              "<IPython.core.display.HTML object>"
            ]
          },
          "metadata": {},
          "output_type": "display_data"
        },
        {
          "data": {
            "text/html": [
              "Run data is saved locally in <code>/content/wandb/run-20250122_073921-ic1gcof7</code>"
            ],
            "text/plain": [
              "<IPython.core.display.HTML object>"
            ]
          },
          "metadata": {},
          "output_type": "display_data"
        },
        {
          "data": {
            "text/html": [
              "Syncing run <strong><a href='https://wandb.ai/solo_yolo/Logs/runs/ic1gcof7' target=\"_blank\">All features_LR-0.01_OPT-SGD</a></strong> to <a href='https://wandb.ai/solo_yolo/Logs' target=\"_blank\">Weights & Biases</a> (<a href='https://wandb.me/developer-guide' target=\"_blank\">docs</a>)<br>"
            ],
            "text/plain": [
              "<IPython.core.display.HTML object>"
            ]
          },
          "metadata": {},
          "output_type": "display_data"
        },
        {
          "data": {
            "text/html": [
              " View project at <a href='https://wandb.ai/solo_yolo/Logs' target=\"_blank\">https://wandb.ai/solo_yolo/Logs</a>"
            ],
            "text/plain": [
              "<IPython.core.display.HTML object>"
            ]
          },
          "metadata": {},
          "output_type": "display_data"
        },
        {
          "data": {
            "text/html": [
              " View run at <a href='https://wandb.ai/solo_yolo/Logs/runs/ic1gcof7' target=\"_blank\">https://wandb.ai/solo_yolo/Logs/runs/ic1gcof7</a>"
            ],
            "text/plain": [
              "<IPython.core.display.HTML object>"
            ]
          },
          "metadata": {},
          "output_type": "display_data"
        },
        {
          "name": "stdout",
          "output_type": "stream",
          "text": [
            "Epoch 1/50 - Train Loss: nan, Val Loss: nan\n",
            "Validation loss did not improve. Patience counter: 1/3\n",
            "Epoch 2/50 - Train Loss: nan, Val Loss: nan\n",
            "Validation loss did not improve. Patience counter: 2/3\n",
            "Epoch 3/50 - Train Loss: nan, Val Loss: nan\n",
            "Validation loss did not improve. Patience counter: 3/3\n",
            "Early stopping triggered.\n",
            "Test Accuracy: 10.00%\n",
            "F1 Score: 0.0182\n",
            "Precision: 0.0100\n",
            "Recall: 0.1000\n",
            "Confusion Matrix:\n",
            "[[1000    0    0    0    0    0    0    0    0    0]\n",
            " [1000    0    0    0    0    0    0    0    0    0]\n",
            " [1000    0    0    0    0    0    0    0    0    0]\n",
            " [1000    0    0    0    0    0    0    0    0    0]\n",
            " [1000    0    0    0    0    0    0    0    0    0]\n",
            " [1000    0    0    0    0    0    0    0    0    0]\n",
            " [1000    0    0    0    0    0    0    0    0    0]\n",
            " [1000    0    0    0    0    0    0    0    0    0]\n",
            " [1000    0    0    0    0    0    0    0    0    0]\n",
            " [1000    0    0    0    0    0    0    0    0    0]]\n"
          ]
        },
        {
          "name": "stderr",
          "output_type": "stream",
          "text": [
            "/usr/local/lib/python3.11/dist-packages/sklearn/metrics/_classification.py:1565: UndefinedMetricWarning: Precision is ill-defined and being set to 0.0 in labels with no predicted samples. Use `zero_division` parameter to control this behavior.\n",
            "  _warn_prf(average, modifier, f\"{metric.capitalize()} is\", len(result))\n"
          ]
        },
        {
          "data": {
            "text/html": [],
            "text/plain": [
              "<IPython.core.display.HTML object>"
            ]
          },
          "metadata": {},
          "output_type": "display_data"
        },
        {
          "data": {
            "text/html": [
              "<br>    <style><br>        .wandb-row {<br>            display: flex;<br>            flex-direction: row;<br>            flex-wrap: wrap;<br>            justify-content: flex-start;<br>            width: 100%;<br>        }<br>        .wandb-col {<br>            display: flex;<br>            flex-direction: column;<br>            flex-basis: 100%;<br>            flex: 1;<br>            padding: 10px;<br>        }<br>    </style><br><div class=\"wandb-row\"><div class=\"wandb-col\"><h3>Run history:</h3><br/><table class=\"wandb\"><tr><td>epoch</td><td>▁▅█</td></tr></table><br/></div><div class=\"wandb-col\"><h3>Run summary:</h3><br/><table class=\"wandb\"><tr><td>epoch</td><td>3</td></tr><tr><td>train_loss</td><td>nan</td></tr><tr><td>val_loss</td><td>nan</td></tr></table><br/></div></div>"
            ],
            "text/plain": [
              "<IPython.core.display.HTML object>"
            ]
          },
          "metadata": {},
          "output_type": "display_data"
        },
        {
          "data": {
            "text/html": [
              " View run <strong style=\"color:#cdcd00\">All features_LR-0.01_OPT-SGD</strong> at: <a href='https://wandb.ai/solo_yolo/Logs/runs/ic1gcof7' target=\"_blank\">https://wandb.ai/solo_yolo/Logs/runs/ic1gcof7</a><br> View project at: <a href='https://wandb.ai/solo_yolo/Logs' target=\"_blank\">https://wandb.ai/solo_yolo/Logs</a><br>Synced 5 W&B file(s), 0 media file(s), 0 artifact file(s) and 0 other file(s)"
            ],
            "text/plain": [
              "<IPython.core.display.HTML object>"
            ]
          },
          "metadata": {},
          "output_type": "display_data"
        },
        {
          "data": {
            "text/html": [
              "Find logs at: <code>./wandb/run-20250122_073921-ic1gcof7/logs</code>"
            ],
            "text/plain": [
              "<IPython.core.display.HTML object>"
            ]
          },
          "metadata": {},
          "output_type": "display_data"
        },
        {
          "name": "stdout",
          "output_type": "stream",
          "text": [
            "Training All features with Learning Rate: 0.01, Optimizer: Adam\n"
          ]
        },
        {
          "data": {
            "text/html": [
              "Tracking run with wandb version 0.19.2"
            ],
            "text/plain": [
              "<IPython.core.display.HTML object>"
            ]
          },
          "metadata": {},
          "output_type": "display_data"
        },
        {
          "data": {
            "text/html": [
              "Run data is saved locally in <code>/content/wandb/run-20250122_073942-y0cyfvi8</code>"
            ],
            "text/plain": [
              "<IPython.core.display.HTML object>"
            ]
          },
          "metadata": {},
          "output_type": "display_data"
        },
        {
          "data": {
            "text/html": [
              "Syncing run <strong><a href='https://wandb.ai/solo_yolo/Logs/runs/y0cyfvi8' target=\"_blank\">All features_LR-0.01_OPT-Adam</a></strong> to <a href='https://wandb.ai/solo_yolo/Logs' target=\"_blank\">Weights & Biases</a> (<a href='https://wandb.me/developer-guide' target=\"_blank\">docs</a>)<br>"
            ],
            "text/plain": [
              "<IPython.core.display.HTML object>"
            ]
          },
          "metadata": {},
          "output_type": "display_data"
        },
        {
          "data": {
            "text/html": [
              " View project at <a href='https://wandb.ai/solo_yolo/Logs' target=\"_blank\">https://wandb.ai/solo_yolo/Logs</a>"
            ],
            "text/plain": [
              "<IPython.core.display.HTML object>"
            ]
          },
          "metadata": {},
          "output_type": "display_data"
        },
        {
          "data": {
            "text/html": [
              " View run at <a href='https://wandb.ai/solo_yolo/Logs/runs/y0cyfvi8' target=\"_blank\">https://wandb.ai/solo_yolo/Logs/runs/y0cyfvi8</a>"
            ],
            "text/plain": [
              "<IPython.core.display.HTML object>"
            ]
          },
          "metadata": {},
          "output_type": "display_data"
        },
        {
          "name": "stdout",
          "output_type": "stream",
          "text": [
            "Epoch 1/50 - Train Loss: 5.0402, Val Loss: 1.7696\n",
            "Epoch 2/50 - Train Loss: 2.0061, Val Loss: 1.8157\n",
            "Validation loss did not improve. Patience counter: 1/3\n",
            "Epoch 3/50 - Train Loss: 2.0732, Val Loss: 1.9233\n",
            "Validation loss did not improve. Patience counter: 2/3\n",
            "Epoch 4/50 - Train Loss: 2.0335, Val Loss: 1.8075\n",
            "Validation loss did not improve. Patience counter: 3/3\n",
            "Early stopping triggered.\n",
            "Test Accuracy: 19.99%\n",
            "F1 Score: 0.0747\n",
            "Precision: 0.0473\n",
            "Recall: 0.1999\n",
            "Confusion Matrix:\n",
            "[[   0  998    0    0    0    0    0    2    0    0]\n",
            " [   0  999    0    0    0    0    0    1    0    0]\n",
            " [   0 1000    0    0    0    0    0    0    0    0]\n",
            " [   0 1000    0    0    0    0    0    0    0    0]\n",
            " [   0 1000    0    0    0    0    0    0    0    0]\n",
            " [   0   28    0    0    0    0    0  972    0    0]\n",
            " [   0 1000    0    0    0    0    0    0    0    0]\n",
            " [   0    0    0    0    0    0    0 1000    0    0]\n",
            " [   0  939    0    0    0    0    0   61    0    0]\n",
            " [   0    5    0    0    0    0    0  995    0    0]]\n"
          ]
        },
        {
          "name": "stderr",
          "output_type": "stream",
          "text": [
            "/usr/local/lib/python3.11/dist-packages/sklearn/metrics/_classification.py:1565: UndefinedMetricWarning: Precision is ill-defined and being set to 0.0 in labels with no predicted samples. Use `zero_division` parameter to control this behavior.\n",
            "  _warn_prf(average, modifier, f\"{metric.capitalize()} is\", len(result))\n"
          ]
        },
        {
          "data": {
            "text/html": [],
            "text/plain": [
              "<IPython.core.display.HTML object>"
            ]
          },
          "metadata": {},
          "output_type": "display_data"
        },
        {
          "data": {
            "text/html": [
              "<br>    <style><br>        .wandb-row {<br>            display: flex;<br>            flex-direction: row;<br>            flex-wrap: wrap;<br>            justify-content: flex-start;<br>            width: 100%;<br>        }<br>        .wandb-col {<br>            display: flex;<br>            flex-direction: column;<br>            flex-basis: 100%;<br>            flex: 1;<br>            padding: 10px;<br>        }<br>    </style><br><div class=\"wandb-row\"><div class=\"wandb-col\"><h3>Run history:</h3><br/><table class=\"wandb\"><tr><td>epoch</td><td>▁▃▆█</td></tr><tr><td>train_loss</td><td>█▁▁▁</td></tr><tr><td>val_loss</td><td>▁▃█▃</td></tr></table><br/></div><div class=\"wandb-col\"><h3>Run summary:</h3><br/><table class=\"wandb\"><tr><td>epoch</td><td>4</td></tr><tr><td>train_loss</td><td>2.03347</td></tr><tr><td>val_loss</td><td>1.80751</td></tr></table><br/></div></div>"
            ],
            "text/plain": [
              "<IPython.core.display.HTML object>"
            ]
          },
          "metadata": {},
          "output_type": "display_data"
        },
        {
          "data": {
            "text/html": [
              " View run <strong style=\"color:#cdcd00\">All features_LR-0.01_OPT-Adam</strong> at: <a href='https://wandb.ai/solo_yolo/Logs/runs/y0cyfvi8' target=\"_blank\">https://wandb.ai/solo_yolo/Logs/runs/y0cyfvi8</a><br> View project at: <a href='https://wandb.ai/solo_yolo/Logs' target=\"_blank\">https://wandb.ai/solo_yolo/Logs</a><br>Synced 5 W&B file(s), 0 media file(s), 0 artifact file(s) and 0 other file(s)"
            ],
            "text/plain": [
              "<IPython.core.display.HTML object>"
            ]
          },
          "metadata": {},
          "output_type": "display_data"
        },
        {
          "data": {
            "text/html": [
              "Find logs at: <code>./wandb/run-20250122_073942-y0cyfvi8/logs</code>"
            ],
            "text/plain": [
              "<IPython.core.display.HTML object>"
            ]
          },
          "metadata": {},
          "output_type": "display_data"
        },
        {
          "name": "stdout",
          "output_type": "stream",
          "text": [
            "Training All features with Learning Rate: 0.001, Optimizer: SGD\n"
          ]
        },
        {
          "data": {
            "text/html": [
              "Tracking run with wandb version 0.19.2"
            ],
            "text/plain": [
              "<IPython.core.display.HTML object>"
            ]
          },
          "metadata": {},
          "output_type": "display_data"
        },
        {
          "data": {
            "text/html": [
              "Run data is saved locally in <code>/content/wandb/run-20250122_074057-01yf6id5</code>"
            ],
            "text/plain": [
              "<IPython.core.display.HTML object>"
            ]
          },
          "metadata": {},
          "output_type": "display_data"
        },
        {
          "data": {
            "text/html": [
              "Syncing run <strong><a href='https://wandb.ai/solo_yolo/Logs/runs/01yf6id5' target=\"_blank\">All features_LR-0.001_OPT-SGD</a></strong> to <a href='https://wandb.ai/solo_yolo/Logs' target=\"_blank\">Weights & Biases</a> (<a href='https://wandb.me/developer-guide' target=\"_blank\">docs</a>)<br>"
            ],
            "text/plain": [
              "<IPython.core.display.HTML object>"
            ]
          },
          "metadata": {},
          "output_type": "display_data"
        },
        {
          "data": {
            "text/html": [
              " View project at <a href='https://wandb.ai/solo_yolo/Logs' target=\"_blank\">https://wandb.ai/solo_yolo/Logs</a>"
            ],
            "text/plain": [
              "<IPython.core.display.HTML object>"
            ]
          },
          "metadata": {},
          "output_type": "display_data"
        },
        {
          "data": {
            "text/html": [
              " View run at <a href='https://wandb.ai/solo_yolo/Logs/runs/01yf6id5' target=\"_blank\">https://wandb.ai/solo_yolo/Logs/runs/01yf6id5</a>"
            ],
            "text/plain": [
              "<IPython.core.display.HTML object>"
            ]
          },
          "metadata": {},
          "output_type": "display_data"
        },
        {
          "name": "stdout",
          "output_type": "stream",
          "text": [
            "Epoch 1/50 - Train Loss: 0.9372, Val Loss: 0.4866\n",
            "Epoch 2/50 - Train Loss: 0.5483, Val Loss: 0.4425\n",
            "Epoch 3/50 - Train Loss: 0.4889, Val Loss: 0.4170\n",
            "Epoch 4/50 - Train Loss: 0.4547, Val Loss: 0.4078\n",
            "Epoch 5/50 - Train Loss: 0.4353, Val Loss: 0.3833\n",
            "Epoch 6/50 - Train Loss: 0.4121, Val Loss: 0.3753\n",
            "Epoch 7/50 - Train Loss: 0.3983, Val Loss: 0.3736\n",
            "Epoch 8/50 - Train Loss: 0.3843, Val Loss: 0.3583\n",
            "Epoch 9/50 - Train Loss: 0.3726, Val Loss: 0.3592\n",
            "Validation loss did not improve. Patience counter: 1/3\n",
            "Epoch 10/50 - Train Loss: 0.3644, Val Loss: 0.3513\n",
            "Epoch 11/50 - Train Loss: 0.3556, Val Loss: 0.3481\n",
            "Epoch 12/50 - Train Loss: 0.3494, Val Loss: 0.3428\n",
            "Epoch 13/50 - Train Loss: 0.3433, Val Loss: 0.3386\n",
            "Epoch 14/50 - Train Loss: 0.3318, Val Loss: 0.3362\n",
            "Epoch 15/50 - Train Loss: 0.3278, Val Loss: 0.3417\n",
            "Validation loss did not improve. Patience counter: 1/3\n",
            "Epoch 16/50 - Train Loss: 0.3201, Val Loss: 0.3311\n",
            "Epoch 17/50 - Train Loss: 0.3142, Val Loss: 0.3328\n",
            "Validation loss did not improve. Patience counter: 1/3\n",
            "Epoch 18/50 - Train Loss: 0.3128, Val Loss: 0.3295\n",
            "Epoch 19/50 - Train Loss: 0.3049, Val Loss: 0.3282\n",
            "Epoch 20/50 - Train Loss: 0.3021, Val Loss: 0.3251\n",
            "Epoch 21/50 - Train Loss: 0.2937, Val Loss: 0.3285\n",
            "Validation loss did not improve. Patience counter: 1/3\n",
            "Epoch 22/50 - Train Loss: 0.2904, Val Loss: 0.3214\n",
            "Epoch 23/50 - Train Loss: 0.2859, Val Loss: 0.3160\n",
            "Epoch 24/50 - Train Loss: 0.2809, Val Loss: 0.3216\n",
            "Validation loss did not improve. Patience counter: 1/3\n",
            "Epoch 25/50 - Train Loss: 0.2827, Val Loss: 0.3147\n",
            "Epoch 26/50 - Train Loss: 0.2774, Val Loss: 0.3151\n",
            "Validation loss did not improve. Patience counter: 1/3\n",
            "Epoch 27/50 - Train Loss: 0.2728, Val Loss: 0.3121\n",
            "Epoch 28/50 - Train Loss: 0.2673, Val Loss: 0.3122\n",
            "Validation loss did not improve. Patience counter: 1/3\n",
            "Epoch 29/50 - Train Loss: 0.2650, Val Loss: 0.3110\n",
            "Epoch 30/50 - Train Loss: 0.2617, Val Loss: 0.3073\n",
            "Epoch 31/50 - Train Loss: 0.2575, Val Loss: 0.3113\n",
            "Validation loss did not improve. Patience counter: 1/3\n",
            "Epoch 32/50 - Train Loss: 0.2546, Val Loss: 0.3063\n",
            "Epoch 33/50 - Train Loss: 0.2529, Val Loss: 0.3086\n",
            "Validation loss did not improve. Patience counter: 1/3\n",
            "Epoch 34/50 - Train Loss: 0.2487, Val Loss: 0.3047\n",
            "Epoch 35/50 - Train Loss: 0.2464, Val Loss: 0.3070\n",
            "Validation loss did not improve. Patience counter: 1/3\n",
            "Epoch 36/50 - Train Loss: 0.2450, Val Loss: 0.3060\n",
            "Validation loss did not improve. Patience counter: 2/3\n",
            "Epoch 37/50 - Train Loss: 0.2404, Val Loss: 0.3101\n",
            "Validation loss did not improve. Patience counter: 3/3\n",
            "Early stopping triggered.\n",
            "Test Accuracy: 89.21%\n",
            "F1 Score: 0.8910\n",
            "Precision: 0.8910\n",
            "Recall: 0.8921\n",
            "Confusion Matrix:\n",
            "[[865   1  10  22   1   1  88   0  12   0]\n",
            " [  2 982   2  12   0   1   1   0   0   0]\n",
            " [ 18   2 806  20  91   0  57   0   6   0]\n",
            " [ 21  16   7 923  17   1  13   0   2   0]\n",
            " [  0   3  62  36 848   0  46   0   5   0]\n",
            " [  0   0   0   2   0 951   1  28   4  14]\n",
            " [165   4  62  31  60   0 667   0  11   0]\n",
            " [  0   0   0   0   0  20   0 935   0  45]\n",
            " [  6   0   4   4   1   0   7   2 975   1]\n",
            " [  0   0   0   0   0   7   0  24   0 969]]\n"
          ]
        },
        {
          "data": {
            "text/html": [],
            "text/plain": [
              "<IPython.core.display.HTML object>"
            ]
          },
          "metadata": {},
          "output_type": "display_data"
        },
        {
          "data": {
            "text/html": [
              "<br>    <style><br>        .wandb-row {<br>            display: flex;<br>            flex-direction: row;<br>            flex-wrap: wrap;<br>            justify-content: flex-start;<br>            width: 100%;<br>        }<br>        .wandb-col {<br>            display: flex;<br>            flex-direction: column;<br>            flex-basis: 100%;<br>            flex: 1;<br>            padding: 10px;<br>        }<br>    </style><br><div class=\"wandb-row\"><div class=\"wandb-col\"><h3>Run history:</h3><br/><table class=\"wandb\"><tr><td>epoch</td><td>▁▁▁▂▂▂▂▂▃▃▃▃▃▄▄▄▄▄▅▅▅▅▅▅▆▆▆▆▆▇▇▇▇▇███</td></tr><tr><td>train_loss</td><td>█▄▃▃▃▃▃▂▂▂▂▂▂▂▂▂▂▂▂▂▂▂▁▁▁▁▁▁▁▁▁▁▁▁▁▁▁</td></tr><tr><td>val_loss</td><td>█▆▅▅▄▄▄▃▃▃▃▂▂▂▂▂▂▂▂▂▂▂▁▂▁▁▁▁▁▁▁▁▁▁▁▁▁</td></tr></table><br/></div><div class=\"wandb-col\"><h3>Run summary:</h3><br/><table class=\"wandb\"><tr><td>epoch</td><td>37</td></tr><tr><td>train_loss</td><td>0.24041</td></tr><tr><td>val_loss</td><td>0.31013</td></tr></table><br/></div></div>"
            ],
            "text/plain": [
              "<IPython.core.display.HTML object>"
            ]
          },
          "metadata": {},
          "output_type": "display_data"
        },
        {
          "data": {
            "text/html": [
              " View run <strong style=\"color:#cdcd00\">All features_LR-0.001_OPT-SGD</strong> at: <a href='https://wandb.ai/solo_yolo/Logs/runs/01yf6id5' target=\"_blank\">https://wandb.ai/solo_yolo/Logs/runs/01yf6id5</a><br> View project at: <a href='https://wandb.ai/solo_yolo/Logs' target=\"_blank\">https://wandb.ai/solo_yolo/Logs</a><br>Synced 5 W&B file(s), 0 media file(s), 0 artifact file(s) and 0 other file(s)"
            ],
            "text/plain": [
              "<IPython.core.display.HTML object>"
            ]
          },
          "metadata": {},
          "output_type": "display_data"
        },
        {
          "data": {
            "text/html": [
              "Find logs at: <code>./wandb/run-20250122_074057-01yf6id5/logs</code>"
            ],
            "text/plain": [
              "<IPython.core.display.HTML object>"
            ]
          },
          "metadata": {},
          "output_type": "display_data"
        },
        {
          "name": "stdout",
          "output_type": "stream",
          "text": [
            "Training All features with Learning Rate: 0.001, Optimizer: Adam\n"
          ]
        },
        {
          "data": {
            "text/html": [
              "Tracking run with wandb version 0.19.2"
            ],
            "text/plain": [
              "<IPython.core.display.HTML object>"
            ]
          },
          "metadata": {},
          "output_type": "display_data"
        },
        {
          "data": {
            "text/html": [
              "Run data is saved locally in <code>/content/wandb/run-20250122_074420-eq9tnda8</code>"
            ],
            "text/plain": [
              "<IPython.core.display.HTML object>"
            ]
          },
          "metadata": {},
          "output_type": "display_data"
        },
        {
          "data": {
            "text/html": [
              "Syncing run <strong><a href='https://wandb.ai/solo_yolo/Logs/runs/eq9tnda8' target=\"_blank\">All features_LR-0.001_OPT-Adam</a></strong> to <a href='https://wandb.ai/solo_yolo/Logs' target=\"_blank\">Weights & Biases</a> (<a href='https://wandb.me/developer-guide' target=\"_blank\">docs</a>)<br>"
            ],
            "text/plain": [
              "<IPython.core.display.HTML object>"
            ]
          },
          "metadata": {},
          "output_type": "display_data"
        },
        {
          "data": {
            "text/html": [
              " View project at <a href='https://wandb.ai/solo_yolo/Logs' target=\"_blank\">https://wandb.ai/solo_yolo/Logs</a>"
            ],
            "text/plain": [
              "<IPython.core.display.HTML object>"
            ]
          },
          "metadata": {},
          "output_type": "display_data"
        },
        {
          "data": {
            "text/html": [
              " View run at <a href='https://wandb.ai/solo_yolo/Logs/runs/eq9tnda8' target=\"_blank\">https://wandb.ai/solo_yolo/Logs/runs/eq9tnda8</a>"
            ],
            "text/plain": [
              "<IPython.core.display.HTML object>"
            ]
          },
          "metadata": {},
          "output_type": "display_data"
        },
        {
          "name": "stdout",
          "output_type": "stream",
          "text": [
            "Epoch 1/50 - Train Loss: 0.9435, Val Loss: 0.4726\n",
            "Epoch 2/50 - Train Loss: 0.5289, Val Loss: 0.4442\n",
            "Epoch 3/50 - Train Loss: 0.4998, Val Loss: 0.4354\n",
            "Epoch 4/50 - Train Loss: 0.4897, Val Loss: 0.4227\n",
            "Epoch 5/50 - Train Loss: 0.4711, Val Loss: 0.4079\n",
            "Epoch 6/50 - Train Loss: 0.4742, Val Loss: 0.3873\n",
            "Epoch 7/50 - Train Loss: 0.4693, Val Loss: 0.4034\n",
            "Validation loss did not improve. Patience counter: 1/3\n",
            "Epoch 8/50 - Train Loss: 0.4569, Val Loss: 0.4823\n",
            "Validation loss did not improve. Patience counter: 2/3\n",
            "Epoch 9/50 - Train Loss: 0.4516, Val Loss: 0.3937\n",
            "Validation loss did not improve. Patience counter: 3/3\n",
            "Early stopping triggered.\n",
            "Test Accuracy: 87.10%\n",
            "F1 Score: 0.8711\n",
            "Precision: 0.8725\n",
            "Recall: 0.8710\n",
            "Confusion Matrix:\n",
            "[[845   0   9  35   1   2 102   0   6   0]\n",
            " [  2 971   3  19   0   0   5   0   0   0]\n",
            " [ 12   0 740  13 121   0 112   0   2   0]\n",
            " [ 37   7   9 901  20   0  23   0   3   0]\n",
            " [  0   0  45  35 832   0  86   0   2   0]\n",
            " [  1   0   0   1   0 953   0  29   2  14]\n",
            " [183   0  58  18  72   0 658   0  11   0]\n",
            " [  0   0   0   0   0  39   0 933   1  27]\n",
            " [  9   0   5   2   3   4  15   4 958   0]\n",
            " [  0   0   0   0   0  34   0  46   1 919]]\n"
          ]
        },
        {
          "data": {
            "text/html": [],
            "text/plain": [
              "<IPython.core.display.HTML object>"
            ]
          },
          "metadata": {},
          "output_type": "display_data"
        },
        {
          "data": {
            "text/html": [
              "<br>    <style><br>        .wandb-row {<br>            display: flex;<br>            flex-direction: row;<br>            flex-wrap: wrap;<br>            justify-content: flex-start;<br>            width: 100%;<br>        }<br>        .wandb-col {<br>            display: flex;<br>            flex-direction: column;<br>            flex-basis: 100%;<br>            flex: 1;<br>            padding: 10px;<br>        }<br>    </style><br><div class=\"wandb-row\"><div class=\"wandb-col\"><h3>Run history:</h3><br/><table class=\"wandb\"><tr><td>epoch</td><td>▁▂▃▄▅▅▆▇█</td></tr><tr><td>train_loss</td><td>█▂▂▂▁▁▁▁▁</td></tr><tr><td>val_loss</td><td>▇▅▅▄▃▁▂█▁</td></tr></table><br/></div><div class=\"wandb-col\"><h3>Run summary:</h3><br/><table class=\"wandb\"><tr><td>epoch</td><td>9</td></tr><tr><td>train_loss</td><td>0.45156</td></tr><tr><td>val_loss</td><td>0.39367</td></tr></table><br/></div></div>"
            ],
            "text/plain": [
              "<IPython.core.display.HTML object>"
            ]
          },
          "metadata": {},
          "output_type": "display_data"
        },
        {
          "data": {
            "text/html": [
              " View run <strong style=\"color:#cdcd00\">All features_LR-0.001_OPT-Adam</strong> at: <a href='https://wandb.ai/solo_yolo/Logs/runs/eq9tnda8' target=\"_blank\">https://wandb.ai/solo_yolo/Logs/runs/eq9tnda8</a><br> View project at: <a href='https://wandb.ai/solo_yolo/Logs' target=\"_blank\">https://wandb.ai/solo_yolo/Logs</a><br>Synced 5 W&B file(s), 0 media file(s), 0 artifact file(s) and 0 other file(s)"
            ],
            "text/plain": [
              "<IPython.core.display.HTML object>"
            ]
          },
          "metadata": {},
          "output_type": "display_data"
        },
        {
          "data": {
            "text/html": [
              "Find logs at: <code>./wandb/run-20250122_074420-eq9tnda8/logs</code>"
            ],
            "text/plain": [
              "<IPython.core.display.HTML object>"
            ]
          },
          "metadata": {},
          "output_type": "display_data"
        }
      ],
      "source": [
        "results_model_1 = hyperparameter_tuning(\n",
        "    train_loader, val_loader, test_loader,\n",
        "    input_size=input_size,\n",
        "    num_classes=num_classes,\n",
        "    epochs=50,\n",
        "    patience=3,\n",
        "    model_name=\"All features\"\n",
        ")"
      ]
    },
    {
      "cell_type": "markdown",
      "metadata": {
        "id": "X2faaVPLXnYW"
      },
      "source": [
        "**Best Model**\n",
        "Learning Rate: 0.001, Optimizer: SGD\n",
        "*   Test Accuracy: 89.21%\n",
        "*   F1 Score: 0.891\n",
        "*   Precision: 0.8910\n",
        "*   Recall: 0.8921\n"
      ]
    },
    {
      "cell_type": "markdown",
      "metadata": {
        "id": "BYpe7H4wVyfP"
      },
      "source": [
        "## Model 2"
      ]
    },
    {
      "cell_type": "code",
      "execution_count": 22,
      "metadata": {
        "colab": {
          "base_uri": "https://localhost:8080/",
          "height": 878
        },
        "id": "MnsgbRMOVooX",
        "outputId": "a1005b29-db28-4623-e720-552870181654"
      },
      "outputs": [
        {
          "data": {
            "image/png": "[encoded data removed]",
            "text/plain": [
              "<Figure size 1000x1000 with 24 Axes>"
            ]
          },
          "metadata": {},
          "output_type": "display_data"
        }
      ],
      "source": [
        "def preprocess_edges(images):\n",
        "    processed_images = []\n",
        "\n",
        "    for img in images:\n",
        "      img = (img * 255).astype(np.uint8)\n",
        "      # blurred = cv2.GaussianBlur(img, (3, 3), 0)\n",
        "      edges = cv2.Canny(img, 50, 100)\n",
        "      processed_images.append(edges)\n",
        "\n",
        "    return np.array(processed_images)\n",
        "\n",
        "    # images = images.astype('float32') / 255.0\n",
        "    # edge_images = np.array([canny(img).astype('float32') for img in images])  # Convert to float32\n",
        "    # return edge_images\n",
        "\n",
        "# Apply edge detection\n",
        "X_train_edges = preprocess_edges(X_train)\n",
        "X_val_edges = preprocess_edges(X_val)\n",
        "X_test_edges = preprocess_edges(test_images)\n",
        "\n",
        "visualize_images(X_train_edges, y_train, \"images with edges\")\n",
        "\n",
        "# Flatten edge-detected images\n",
        "X_train_edges_flat = X_train_edges.reshape(X_train_edges.shape[0], -1)\n",
        "X_val_edges_flat = X_val_edges.reshape(X_val_edges.shape[0], -1)\n",
        "X_test_edges_flat = X_test_edges.reshape(X_test_edges.shape[0], -1)\n",
        "\n",
        "# Convert to PyTorch tensors\n",
        "X_train_edges_tensor = torch.tensor(X_train_edges_flat, dtype=torch.float32)\n",
        "X_val_edges_tensor = torch.tensor(X_val_edges_flat, dtype=torch.float32)\n",
        "X_test_edges_tensor = torch.tensor(X_test_edges_flat, dtype=torch.float32)\n",
        "\n",
        "# Data Loaders for Model 2\n",
        "train_loader_edges = DataLoader(TensorDataset(X_train_edges_tensor, y_train_tensor), batch_size=64, shuffle=True)\n",
        "val_loader_edges = DataLoader(TensorDataset(X_val_edges_tensor, y_val_tensor), batch_size=64, shuffle=False)\n",
        "test_loader_edges = DataLoader(TensorDataset(X_test_edges_tensor, y_test_tensor), batch_size=64, shuffle=False)"
      ]
    },
    {
      "cell_type": "markdown",
      "metadata": {
        "id": "_XbRcpn__EZF"
      },
      "source": [
        "### Hyperparameter tuning for model 2"
      ]
    },
    {
      "cell_type": "code",
      "execution_count": 23,
      "metadata": {
        "colab": {
          "base_uri": "https://localhost:8080/",
          "height": 1000
        },
        "id": "htyZIx4K9DCx",
        "outputId": "7794f4e8-3e3c-4f18-cd09-bdef03a522d5"
      },
      "outputs": [
        {
          "name": "stdout",
          "output_type": "stream",
          "text": [
            "Training Edges only with Learning Rate: 0.01, Optimizer: SGD\n"
          ]
        },
        {
          "data": {
            "text/html": [
              "Tracking run with wandb version 0.19.2"
            ],
            "text/plain": [
              "<IPython.core.display.HTML object>"
            ]
          },
          "metadata": {},
          "output_type": "display_data"
        },
        {
          "data": {
            "text/html": [
              "Run data is saved locally in <code>/content/wandb/run-20250122_074754-4rc3mnpm</code>"
            ],
            "text/plain": [
              "<IPython.core.display.HTML object>"
            ]
          },
          "metadata": {},
          "output_type": "display_data"
        },
        {
          "data": {
            "text/html": [
              "Syncing run <strong><a href='https://wandb.ai/solo_yolo/Logs/runs/4rc3mnpm' target=\"_blank\">Edges only_LR-0.01_OPT-SGD</a></strong> to <a href='https://wandb.ai/solo_yolo/Logs' target=\"_blank\">Weights & Biases</a> (<a href='https://wandb.me/developer-guide' target=\"_blank\">docs</a>)<br>"
            ],
            "text/plain": [
              "<IPython.core.display.HTML object>"
            ]
          },
          "metadata": {},
          "output_type": "display_data"
        },
        {
          "data": {
            "text/html": [
              " View project at <a href='https://wandb.ai/solo_yolo/Logs' target=\"_blank\">https://wandb.ai/solo_yolo/Logs</a>"
            ],
            "text/plain": [
              "<IPython.core.display.HTML object>"
            ]
          },
          "metadata": {},
          "output_type": "display_data"
        },
        {
          "data": {
            "text/html": [
              " View run at <a href='https://wandb.ai/solo_yolo/Logs/runs/4rc3mnpm' target=\"_blank\">https://wandb.ai/solo_yolo/Logs/runs/4rc3mnpm</a>"
            ],
            "text/plain": [
              "<IPython.core.display.HTML object>"
            ]
          },
          "metadata": {},
          "output_type": "display_data"
        },
        {
          "name": "stdout",
          "output_type": "stream",
          "text": [
            "Epoch 1/50 - Train Loss: nan, Val Loss: nan\n",
            "Validation loss did not improve. Patience counter: 1/3\n",
            "Epoch 2/50 - Train Loss: nan, Val Loss: nan\n",
            "Validation loss did not improve. Patience counter: 2/3\n",
            "Epoch 3/50 - Train Loss: nan, Val Loss: nan\n",
            "Validation loss did not improve. Patience counter: 3/3\n",
            "Early stopping triggered.\n",
            "Test Accuracy: 10.00%\n",
            "F1 Score: 0.0182\n",
            "Precision: 0.0100\n",
            "Recall: 0.1000\n",
            "Confusion Matrix:\n",
            "[[1000    0    0    0    0    0    0    0    0    0]\n",
            " [1000    0    0    0    0    0    0    0    0    0]\n",
            " [1000    0    0    0    0    0    0    0    0    0]\n",
            " [1000    0    0    0    0    0    0    0    0    0]\n",
            " [1000    0    0    0    0    0    0    0    0    0]\n",
            " [1000    0    0    0    0    0    0    0    0    0]\n",
            " [1000    0    0    0    0    0    0    0    0    0]\n",
            " [1000    0    0    0    0    0    0    0    0    0]\n",
            " [1000    0    0    0    0    0    0    0    0    0]\n",
            " [1000    0    0    0    0    0    0    0    0    0]]\n"
          ]
        },
        {
          "name": "stderr",
          "output_type": "stream",
          "text": [
            "/usr/local/lib/python3.11/dist-packages/sklearn/metrics/_classification.py:1565: UndefinedMetricWarning: Precision is ill-defined and being set to 0.0 in labels with no predicted samples. Use `zero_division` parameter to control this behavior.\n",
            "  _warn_prf(average, modifier, f\"{metric.capitalize()} is\", len(result))\n"
          ]
        },
        {
          "data": {
            "text/html": [],
            "text/plain": [
              "<IPython.core.display.HTML object>"
            ]
          },
          "metadata": {},
          "output_type": "display_data"
        },
        {
          "data": {
            "text/html": [
              "<br>    <style><br>        .wandb-row {<br>            display: flex;<br>            flex-direction: row;<br>            flex-wrap: wrap;<br>            justify-content: flex-start;<br>            width: 100%;<br>        }<br>        .wandb-col {<br>            display: flex;<br>            flex-direction: column;<br>            flex-basis: 100%;<br>            flex: 1;<br>            padding: 10px;<br>        }<br>    </style><br><div class=\"wandb-row\"><div class=\"wandb-col\"><h3>Run history:</h3><br/><table class=\"wandb\"><tr><td>epoch</td><td>▁▅█</td></tr></table><br/></div><div class=\"wandb-col\"><h3>Run summary:</h3><br/><table class=\"wandb\"><tr><td>epoch</td><td>3</td></tr><tr><td>train_loss</td><td>nan</td></tr><tr><td>val_loss</td><td>nan</td></tr></table><br/></div></div>"
            ],
            "text/plain": [
              "<IPython.core.display.HTML object>"
            ]
          },
          "metadata": {},
          "output_type": "display_data"
        },
        {
          "data": {
            "text/html": [
              " View run <strong style=\"color:#cdcd00\">Edges only_LR-0.01_OPT-SGD</strong> at: <a href='https://wandb.ai/solo_yolo/Logs/runs/4rc3mnpm' target=\"_blank\">https://wandb.ai/solo_yolo/Logs/runs/4rc3mnpm</a><br> View project at: <a href='https://wandb.ai/solo_yolo/Logs' target=\"_blank\">https://wandb.ai/solo_yolo/Logs</a><br>Synced 5 W&B file(s), 0 media file(s), 0 artifact file(s) and 0 other file(s)"
            ],
            "text/plain": [
              "<IPython.core.display.HTML object>"
            ]
          },
          "metadata": {},
          "output_type": "display_data"
        },
        {
          "data": {
            "text/html": [
              "Find logs at: <code>./wandb/run-20250122_074754-4rc3mnpm/logs</code>"
            ],
            "text/plain": [
              "<IPython.core.display.HTML object>"
            ]
          },
          "metadata": {},
          "output_type": "display_data"
        },
        {
          "name": "stdout",
          "output_type": "stream",
          "text": [
            "Training Edges only with Learning Rate: 0.01, Optimizer: Adam\n"
          ]
        },
        {
          "data": {
            "text/html": [
              "Tracking run with wandb version 0.19.2"
            ],
            "text/plain": [
              "<IPython.core.display.HTML object>"
            ]
          },
          "metadata": {},
          "output_type": "display_data"
        },
        {
          "data": {
            "text/html": [
              "Run data is saved locally in <code>/content/wandb/run-20250122_074813-zkmal0h7</code>"
            ],
            "text/plain": [
              "<IPython.core.display.HTML object>"
            ]
          },
          "metadata": {},
          "output_type": "display_data"
        },
        {
          "data": {
            "text/html": [
              "Syncing run <strong><a href='https://wandb.ai/solo_yolo/Logs/runs/zkmal0h7' target=\"_blank\">Edges only_LR-0.01_OPT-Adam</a></strong> to <a href='https://wandb.ai/solo_yolo/Logs' target=\"_blank\">Weights & Biases</a> (<a href='https://wandb.me/developer-guide' target=\"_blank\">docs</a>)<br>"
            ],
            "text/plain": [
              "<IPython.core.display.HTML object>"
            ]
          },
          "metadata": {},
          "output_type": "display_data"
        },
        {
          "data": {
            "text/html": [
              " View project at <a href='https://wandb.ai/solo_yolo/Logs' target=\"_blank\">https://wandb.ai/solo_yolo/Logs</a>"
            ],
            "text/plain": [
              "<IPython.core.display.HTML object>"
            ]
          },
          "metadata": {},
          "output_type": "display_data"
        },
        {
          "data": {
            "text/html": [
              " View run at <a href='https://wandb.ai/solo_yolo/Logs/runs/zkmal0h7' target=\"_blank\">https://wandb.ai/solo_yolo/Logs/runs/zkmal0h7</a>"
            ],
            "text/plain": [
              "<IPython.core.display.HTML object>"
            ]
          },
          "metadata": {},
          "output_type": "display_data"
        },
        {
          "name": "stdout",
          "output_type": "stream",
          "text": [
            "Epoch 1/50 - Train Loss: 3.4817, Val Loss: 1.7835\n",
            "Epoch 2/50 - Train Loss: 2.1989, Val Loss: 1.8583\n",
            "Validation loss did not improve. Patience counter: 1/3\n",
            "Epoch 3/50 - Train Loss: 2.0975, Val Loss: 1.8386\n",
            "Validation loss did not improve. Patience counter: 2/3\n",
            "Epoch 4/50 - Train Loss: 2.0239, Val Loss: 1.8287\n",
            "Validation loss did not improve. Patience counter: 3/3\n",
            "Early stopping triggered.\n",
            "Test Accuracy: 19.89%\n",
            "F1 Score: 0.0756\n",
            "Precision: 0.0484\n",
            "Recall: 0.1989\n",
            "Confusion Matrix:\n",
            "[[   0  999    0    0    0    0    0    1    0    0]\n",
            " [   0 1000    0    0    0    0    0    0    0    0]\n",
            " [   0 1000    0    0    0    0    0    0    0    0]\n",
            " [   0  999    0    0    0    0    0    1    0    0]\n",
            " [   0 1000    0    0    0    0    0    0    0    0]\n",
            " [   0   87    0    0    0    0    0  913    0    0]\n",
            " [   0 1000    0    0    0    0    0    0    0    0]\n",
            " [   0   11    0    0    0    0    0  989    0    0]\n",
            " [   0  978    0    0    0    0    0   22    0    0]\n",
            " [   0   46    0    0    0    0    0  954    0    0]]\n"
          ]
        },
        {
          "name": "stderr",
          "output_type": "stream",
          "text": [
            "/usr/local/lib/python3.11/dist-packages/sklearn/metrics/_classification.py:1565: UndefinedMetricWarning: Precision is ill-defined and being set to 0.0 in labels with no predicted samples. Use `zero_division` parameter to control this behavior.\n",
            "  _warn_prf(average, modifier, f\"{metric.capitalize()} is\", len(result))\n"
          ]
        },
        {
          "data": {
            "text/html": [],
            "text/plain": [
              "<IPython.core.display.HTML object>"
            ]
          },
          "metadata": {},
          "output_type": "display_data"
        },
        {
          "data": {
            "text/html": [
              "<br>    <style><br>        .wandb-row {<br>            display: flex;<br>            flex-direction: row;<br>            flex-wrap: wrap;<br>            justify-content: flex-start;<br>            width: 100%;<br>        }<br>        .wandb-col {<br>            display: flex;<br>            flex-direction: column;<br>            flex-basis: 100%;<br>            flex: 1;<br>            padding: 10px;<br>        }<br>    </style><br><div class=\"wandb-row\"><div class=\"wandb-col\"><h3>Run history:</h3><br/><table class=\"wandb\"><tr><td>epoch</td><td>▁▃▆█</td></tr><tr><td>train_loss</td><td>█▂▁▁</td></tr><tr><td>val_loss</td><td>▁█▆▅</td></tr></table><br/></div><div class=\"wandb-col\"><h3>Run summary:</h3><br/><table class=\"wandb\"><tr><td>epoch</td><td>4</td></tr><tr><td>train_loss</td><td>2.02391</td></tr><tr><td>val_loss</td><td>1.82869</td></tr></table><br/></div></div>"
            ],
            "text/plain": [
              "<IPython.core.display.HTML object>"
            ]
          },
          "metadata": {},
          "output_type": "display_data"
        },
        {
          "data": {
            "text/html": [
              " View run <strong style=\"color:#cdcd00\">Edges only_LR-0.01_OPT-Adam</strong> at: <a href='https://wandb.ai/solo_yolo/Logs/runs/zkmal0h7' target=\"_blank\">https://wandb.ai/solo_yolo/Logs/runs/zkmal0h7</a><br> View project at: <a href='https://wandb.ai/solo_yolo/Logs' target=\"_blank\">https://wandb.ai/solo_yolo/Logs</a><br>Synced 5 W&B file(s), 0 media file(s), 0 artifact file(s) and 0 other file(s)"
            ],
            "text/plain": [
              "<IPython.core.display.HTML object>"
            ]
          },
          "metadata": {},
          "output_type": "display_data"
        },
        {
          "data": {
            "text/html": [
              "Find logs at: <code>./wandb/run-20250122_074813-zkmal0h7/logs</code>"
            ],
            "text/plain": [
              "<IPython.core.display.HTML object>"
            ]
          },
          "metadata": {},
          "output_type": "display_data"
        },
        {
          "name": "stdout",
          "output_type": "stream",
          "text": [
            "Training Edges only with Learning Rate: 0.001, Optimizer: SGD\n"
          ]
        },
        {
          "data": {
            "text/html": [
              "Tracking run with wandb version 0.19.2"
            ],
            "text/plain": [
              "<IPython.core.display.HTML object>"
            ]
          },
          "metadata": {},
          "output_type": "display_data"
        },
        {
          "data": {
            "text/html": [
              "Run data is saved locally in <code>/content/wandb/run-20250122_074920-momw8brw</code>"
            ],
            "text/plain": [
              "<IPython.core.display.HTML object>"
            ]
          },
          "metadata": {},
          "output_type": "display_data"
        },
        {
          "data": {
            "text/html": [
              "Syncing run <strong><a href='https://wandb.ai/solo_yolo/Logs/runs/momw8brw' target=\"_blank\">Edges only_LR-0.001_OPT-SGD</a></strong> to <a href='https://wandb.ai/solo_yolo/Logs' target=\"_blank\">Weights & Biases</a> (<a href='https://wandb.me/developer-guide' target=\"_blank\">docs</a>)<br>"
            ],
            "text/plain": [
              "<IPython.core.display.HTML object>"
            ]
          },
          "metadata": {},
          "output_type": "display_data"
        },
        {
          "data": {
            "text/html": [
              " View project at <a href='https://wandb.ai/solo_yolo/Logs' target=\"_blank\">https://wandb.ai/solo_yolo/Logs</a>"
            ],
            "text/plain": [
              "<IPython.core.display.HTML object>"
            ]
          },
          "metadata": {},
          "output_type": "display_data"
        },
        {
          "data": {
            "text/html": [
              " View run at <a href='https://wandb.ai/solo_yolo/Logs/runs/momw8brw' target=\"_blank\">https://wandb.ai/solo_yolo/Logs/runs/momw8brw</a>"
            ],
            "text/plain": [
              "<IPython.core.display.HTML object>"
            ]
          },
          "metadata": {},
          "output_type": "display_data"
        },
        {
          "name": "stdout",
          "output_type": "stream",
          "text": [
            "Epoch 1/50 - Train Loss: 1.7567, Val Loss: 0.9742\n",
            "Epoch 2/50 - Train Loss: 1.0305, Val Loss: 0.8540\n",
            "Epoch 3/50 - Train Loss: 0.9115, Val Loss: 0.7668\n",
            "Epoch 4/50 - Train Loss: 0.8368, Val Loss: 0.7191\n",
            "Epoch 5/50 - Train Loss: 0.7765, Val Loss: 0.6856\n",
            "Epoch 6/50 - Train Loss: 0.7307, Val Loss: 0.6704\n",
            "Epoch 7/50 - Train Loss: 0.6945, Val Loss: 0.6292\n",
            "Epoch 8/50 - Train Loss: 0.6629, Val Loss: 0.6175\n",
            "Epoch 9/50 - Train Loss: 0.6338, Val Loss: 0.6019\n",
            "Epoch 10/50 - Train Loss: 0.6123, Val Loss: 0.5891\n",
            "Epoch 11/50 - Train Loss: 0.5886, Val Loss: 0.5786\n",
            "Epoch 12/50 - Train Loss: 0.5666, Val Loss: 0.5752\n",
            "Epoch 13/50 - Train Loss: 0.5524, Val Loss: 0.5658\n",
            "Epoch 14/50 - Train Loss: 0.5367, Val Loss: 0.5606\n",
            "Epoch 15/50 - Train Loss: 0.5170, Val Loss: 0.5561\n",
            "Epoch 16/50 - Train Loss: 0.5023, Val Loss: 0.5494\n",
            "Epoch 17/50 - Train Loss: 0.4892, Val Loss: 0.5490\n",
            "Epoch 18/50 - Train Loss: 0.4821, Val Loss: 0.5433\n",
            "Epoch 19/50 - Train Loss: 0.4682, Val Loss: 0.5461\n",
            "Validation loss did not improve. Patience counter: 1/3\n",
            "Epoch 20/50 - Train Loss: 0.4527, Val Loss: 0.5394\n",
            "Epoch 21/50 - Train Loss: 0.4363, Val Loss: 0.5398\n",
            "Validation loss did not improve. Patience counter: 1/3\n",
            "Epoch 22/50 - Train Loss: 0.4296, Val Loss: 0.5377\n",
            "Epoch 23/50 - Train Loss: 0.4120, Val Loss: 0.5399\n",
            "Validation loss did not improve. Patience counter: 1/3\n",
            "Epoch 24/50 - Train Loss: 0.4026, Val Loss: 0.5426\n",
            "Validation loss did not improve. Patience counter: 2/3\n",
            "Epoch 25/50 - Train Loss: 0.3953, Val Loss: 0.5402\n",
            "Validation loss did not improve. Patience counter: 3/3\n",
            "Early stopping triggered.\n",
            "Test Accuracy: 80.52%\n",
            "F1 Score: 0.8046\n",
            "Precision: 0.8058\n",
            "Recall: 0.8052\n",
            "Confusion Matrix:\n",
            "[[992   1   0   0   0   1   2   0   4   0]\n",
            " [  0 936   1  34  12   1  12   0   4   0]\n",
            " [  0   2 669  27 165   0 116   0  21   0]\n",
            " [  0  54   5 836  45   1  43   0  16   0]\n",
            " [  0  10  77  69 668   0 149   0  27   0]\n",
            " [  0   0   1   2   0 761   3 148  23  62]\n",
            " [  4  15  79  84 126   0 650   0  42   0]\n",
            " [  0   0   0   0   0 107   0 821   8  64]\n",
            " [  1   4   6  20  10   3  39   5 907   5]\n",
            " [  0   0   0   0   0 105   1  80   2 812]]\n"
          ]
        },
        {
          "data": {
            "text/html": [],
            "text/plain": [
              "<IPython.core.display.HTML object>"
            ]
          },
          "metadata": {},
          "output_type": "display_data"
        },
        {
          "data": {
            "text/html": [
              "<br>    <style><br>        .wandb-row {<br>            display: flex;<br>            flex-direction: row;<br>            flex-wrap: wrap;<br>            justify-content: flex-start;<br>            width: 100%;<br>        }<br>        .wandb-col {<br>            display: flex;<br>            flex-direction: column;<br>            flex-basis: 100%;<br>            flex: 1;<br>            padding: 10px;<br>        }<br>    </style><br><div class=\"wandb-row\"><div class=\"wandb-col\"><h3>Run history:</h3><br/><table class=\"wandb\"><tr><td>epoch</td><td>▁▁▂▂▂▂▃▃▃▄▄▄▅▅▅▅▆▆▆▇▇▇▇██</td></tr><tr><td>train_loss</td><td>█▄▄▃▃▃▃▂▂▂▂▂▂▂▂▂▁▁▁▁▁▁▁▁▁</td></tr><tr><td>val_loss</td><td>█▆▅▄▃▃▂▂▂▂▂▂▁▁▁▁▁▁▁▁▁▁▁▁▁</td></tr></table><br/></div><div class=\"wandb-col\"><h3>Run summary:</h3><br/><table class=\"wandb\"><tr><td>epoch</td><td>25</td></tr><tr><td>train_loss</td><td>0.39528</td></tr><tr><td>val_loss</td><td>0.54024</td></tr></table><br/></div></div>"
            ],
            "text/plain": [
              "<IPython.core.display.HTML object>"
            ]
          },
          "metadata": {},
          "output_type": "display_data"
        },
        {
          "data": {
            "text/html": [
              " View run <strong style=\"color:#cdcd00\">Edges only_LR-0.001_OPT-SGD</strong> at: <a href='https://wandb.ai/solo_yolo/Logs/runs/momw8brw' target=\"_blank\">https://wandb.ai/solo_yolo/Logs/runs/momw8brw</a><br> View project at: <a href='https://wandb.ai/solo_yolo/Logs' target=\"_blank\">https://wandb.ai/solo_yolo/Logs</a><br>Synced 5 W&B file(s), 0 media file(s), 0 artifact file(s) and 0 other file(s)"
            ],
            "text/plain": [
              "<IPython.core.display.HTML object>"
            ]
          },
          "metadata": {},
          "output_type": "display_data"
        },
        {
          "data": {
            "text/html": [
              "Find logs at: <code>./wandb/run-20250122_074920-momw8brw/logs</code>"
            ],
            "text/plain": [
              "<IPython.core.display.HTML object>"
            ]
          },
          "metadata": {},
          "output_type": "display_data"
        },
        {
          "name": "stdout",
          "output_type": "stream",
          "text": [
            "Training Edges only with Learning Rate: 0.001, Optimizer: Adam\n"
          ]
        },
        {
          "data": {
            "text/html": [
              "Tracking run with wandb version 0.19.2"
            ],
            "text/plain": [
              "<IPython.core.display.HTML object>"
            ]
          },
          "metadata": {},
          "output_type": "display_data"
        },
        {
          "data": {
            "text/html": [
              "Run data is saved locally in <code>/content/wandb/run-20250122_075137-r6c4n910</code>"
            ],
            "text/plain": [
              "<IPython.core.display.HTML object>"
            ]
          },
          "metadata": {},
          "output_type": "display_data"
        },
        {
          "data": {
            "text/html": [
              "Syncing run <strong><a href='https://wandb.ai/solo_yolo/Logs/runs/r6c4n910' target=\"_blank\">Edges only_LR-0.001_OPT-Adam</a></strong> to <a href='https://wandb.ai/solo_yolo/Logs' target=\"_blank\">Weights & Biases</a> (<a href='https://wandb.me/developer-guide' target=\"_blank\">docs</a>)<br>"
            ],
            "text/plain": [
              "<IPython.core.display.HTML object>"
            ]
          },
          "metadata": {},
          "output_type": "display_data"
        },
        {
          "data": {
            "text/html": [
              " View project at <a href='https://wandb.ai/solo_yolo/Logs' target=\"_blank\">https://wandb.ai/solo_yolo/Logs</a>"
            ],
            "text/plain": [
              "<IPython.core.display.HTML object>"
            ]
          },
          "metadata": {},
          "output_type": "display_data"
        },
        {
          "data": {
            "text/html": [
              " View run at <a href='https://wandb.ai/solo_yolo/Logs/runs/r6c4n910' target=\"_blank\">https://wandb.ai/solo_yolo/Logs/runs/r6c4n910</a>"
            ],
            "text/plain": [
              "<IPython.core.display.HTML object>"
            ]
          },
          "metadata": {},
          "output_type": "display_data"
        },
        {
          "name": "stdout",
          "output_type": "stream",
          "text": [
            "Epoch 1/50 - Train Loss: 1.2439, Val Loss: 0.6888\n",
            "Epoch 2/50 - Train Loss: 0.6996, Val Loss: 0.6084\n",
            "Epoch 3/50 - Train Loss: 0.6129, Val Loss: 0.5833\n",
            "Epoch 4/50 - Train Loss: 0.5671, Val Loss: 0.5727\n",
            "Epoch 5/50 - Train Loss: 0.5318, Val Loss: 0.5503\n",
            "Epoch 6/50 - Train Loss: 0.5162, Val Loss: 0.5481\n",
            "Epoch 7/50 - Train Loss: 0.4914, Val Loss: 0.5717\n",
            "Validation loss did not improve. Patience counter: 1/3\n",
            "Epoch 8/50 - Train Loss: 0.4598, Val Loss: 0.5679\n",
            "Validation loss did not improve. Patience counter: 2/3\n",
            "Epoch 9/50 - Train Loss: 0.4522, Val Loss: 0.5615\n",
            "Validation loss did not improve. Patience counter: 3/3\n",
            "Early stopping triggered.\n",
            "Test Accuracy: 81.21%\n",
            "F1 Score: 0.8135\n",
            "Precision: 0.8187\n",
            "Recall: 0.8121\n",
            "Confusion Matrix:\n",
            "[[989   1   0   3   2   1   1   0   3   0]\n",
            " [  0 897   2  68   7   1  23   0   2   0]\n",
            " [  1   0 653  13 160   0 159   0  14   0]\n",
            " [  0  15   8 819  64   0  63   0  31   0]\n",
            " [  0   4  69  48 708   1 150   0  20   0]\n",
            " [  0   0   0   2   0 813   0 110  10  65]\n",
            " [  2   4  49  44 166   0 697   0  38   0]\n",
            " [  0   0   0   0   0 136   0 763   1 100]\n",
            " [  1   1   7   7  14  12  42   3 913   0]\n",
            " [  0   0   0   1   0  80   2  46   2 869]]\n"
          ]
        },
        {
          "data": {
            "text/html": [],
            "text/plain": [
              "<IPython.core.display.HTML object>"
            ]
          },
          "metadata": {},
          "output_type": "display_data"
        },
        {
          "data": {
            "text/html": [
              "<br>    <style><br>        .wandb-row {<br>            display: flex;<br>            flex-direction: row;<br>            flex-wrap: wrap;<br>            justify-content: flex-start;<br>            width: 100%;<br>        }<br>        .wandb-col {<br>            display: flex;<br>            flex-direction: column;<br>            flex-basis: 100%;<br>            flex: 1;<br>            padding: 10px;<br>        }<br>    </style><br><div class=\"wandb-row\"><div class=\"wandb-col\"><h3>Run history:</h3><br/><table class=\"wandb\"><tr><td>epoch</td><td>▁▂▃▄▅▅▆▇█</td></tr><tr><td>train_loss</td><td>█▃▂▂▂▂▁▁▁</td></tr><tr><td>val_loss</td><td>█▄▃▂▁▁▂▂▂</td></tr></table><br/></div><div class=\"wandb-col\"><h3>Run summary:</h3><br/><table class=\"wandb\"><tr><td>epoch</td><td>9</td></tr><tr><td>train_loss</td><td>0.45221</td></tr><tr><td>val_loss</td><td>0.56149</td></tr></table><br/></div></div>"
            ],
            "text/plain": [
              "<IPython.core.display.HTML object>"
            ]
          },
          "metadata": {},
          "output_type": "display_data"
        },
        {
          "data": {
            "text/html": [
              " View run <strong style=\"color:#cdcd00\">Edges only_LR-0.001_OPT-Adam</strong> at: <a href='https://wandb.ai/solo_yolo/Logs/runs/r6c4n910' target=\"_blank\">https://wandb.ai/solo_yolo/Logs/runs/r6c4n910</a><br> View project at: <a href='https://wandb.ai/solo_yolo/Logs' target=\"_blank\">https://wandb.ai/solo_yolo/Logs</a><br>Synced 5 W&B file(s), 0 media file(s), 0 artifact file(s) and 0 other file(s)"
            ],
            "text/plain": [
              "<IPython.core.display.HTML object>"
            ]
          },
          "metadata": {},
          "output_type": "display_data"
        },
        {
          "data": {
            "text/html": [
              "Find logs at: <code>./wandb/run-20250122_075137-r6c4n910/logs</code>"
            ],
            "text/plain": [
              "<IPython.core.display.HTML object>"
            ]
          },
          "metadata": {},
          "output_type": "display_data"
        }
      ],
      "source": [
        "results_model_2 = hyperparameter_tuning(\n",
        "    train_loader_edges, val_loader_edges, test_loader_edges,\n",
        "    input_size=input_size,\n",
        "    num_classes=num_classes,\n",
        "    epochs=50,\n",
        "    patience=3,\n",
        "    model_name=\"Edges only\"\n",
        ")"
      ]
    },
    {
      "cell_type": "markdown",
      "metadata": {
        "id": "sIYe1IyYYgSC"
      },
      "source": [
        "**Best Model**\n",
        "Learning Rate: 0.001, optimizer: Adam\n",
        "*   Test Accuracy: 81.21%\n",
        "*   F1 Score: 0.8135\n",
        "*   Precision: 0.8187\n",
        "*   Recall: 0.8121"
      ]
    },
    {
      "cell_type": "code",
      "execution_count": 32,
      "metadata": {
        "colab": {
          "base_uri": "https://localhost:8080/"
        },
        "id": "SMeEVA8SpoRg",
        "outputId": "369075f6-504a-4a58-9b19-c4487d51b7b2"
      },
      "outputs": [
        {
          "name": "stdout",
          "output_type": "stream",
          "text": [
            "Epoch 1/10 - Train Loss: 1.2154, Val Loss: 0.6706\n",
            "Epoch 2/10 - Train Loss: 0.6912, Val Loss: 0.5835\n",
            "Epoch 3/10 - Train Loss: 0.6094, Val Loss: 0.5600\n",
            "Epoch 4/10 - Train Loss: 0.5678, Val Loss: 0.5783\n",
            "Validation loss did not improve. Patience counter: 1/3\n",
            "Epoch 5/10 - Train Loss: 0.5354, Val Loss: 0.5445\n",
            "Epoch 6/10 - Train Loss: 0.5072, Val Loss: 0.5625\n",
            "Validation loss did not improve. Patience counter: 1/3\n",
            "Epoch 7/10 - Train Loss: 0.4792, Val Loss: 0.5727\n",
            "Validation loss did not improve. Patience counter: 2/3\n",
            "Epoch 8/10 - Train Loss: 0.4681, Val Loss: 0.5756\n",
            "Validation loss did not improve. Patience counter: 3/3\n",
            "Early stopping triggered.\n"
          ]
        }
      ],
      "source": [
        "# Train Model 2\n",
        "model2 = MLP(input_size, num_classes)\n",
        "optimizer2 = optim.Adam(model2.parameters(), lr=0.001)\n",
        "model2, train_losses2, val_losses2 = train_model(model2, criterion, optimizer2, train_loader_edges, val_loader_edges, epochs=10)"
      ]
    },
    {
      "cell_type": "markdown",
      "metadata": {
        "id": "bJrXGtipVwzq"
      },
      "source": [
        "## Model 3"
      ]
    },
    {
      "cell_type": "code",
      "execution_count": 9,
      "metadata": {
        "colab": {
          "base_uri": "https://localhost:8080/",
          "height": 473
        },
        "id": "4ktHmJk0PCL3",
        "outputId": "7da10189-9396-4fe7-a4ef-a834a72155bc"
      },
      "outputs": [
        {
          "data": {
            "image/png": "[encoded data removed]",
            "text/plain": [
              "<Figure size 1000x500 with 10 Axes>"
            ]
          },
          "metadata": {},
          "output_type": "display_data"
        }
      ],
      "source": [
        "from skimage.feature import hog\n",
        "import matplotlib.pyplot as plt\n",
        "\n",
        "def preprocess_hog_with_visualization(images, visualize=False):\n",
        "    hog_features = []\n",
        "    hog_images = []  # To store HOG visualizations if visualize=True\n",
        "\n",
        "    for img in images:\n",
        "        if visualize:\n",
        "            features, hog_image = hog(\n",
        "                img,\n",
        "                pixels_per_cell=(8, 8),\n",
        "                cells_per_block=(2, 2),\n",
        "                visualize=True\n",
        "            )\n",
        "            hog_images.append(hog_image)\n",
        "        else:\n",
        "            features = hog(img, pixels_per_cell=(8, 8), cells_per_block=(2, 2), visualize=False)\n",
        "        hog_features.append(features)\n",
        "\n",
        "    if visualize:\n",
        "        return np.array(hog_features), hog_images\n",
        "    return np.array(hog_features)\n",
        "\n",
        "# Apply HOG with visualization for the training set\n",
        "X_train_hog, X_train_hog_images = preprocess_hog_with_visualization(X_train, visualize=True)\n",
        "\n",
        "# Visualize the first few HOG images\n",
        "def visualize_hog_images(original_images, hog_images, labels, num_images=5):\n",
        "    plt.figure(figsize=(10, 5))\n",
        "    for i in range(num_images):\n",
        "        # Original image\n",
        "        plt.subplot(2, num_images, i + 1)\n",
        "        plt.imshow(original_images[i], cmap='gray')\n",
        "        plt.title(f\"Label: {labels[i]}\")\n",
        "        plt.axis(\"off\")\n",
        "\n",
        "        # HOG image\n",
        "        plt.subplot(2, num_images, num_images + i + 1)\n",
        "        plt.imshow(hog_images[i], cmap='gray')\n",
        "        plt.title(\"HOG Features\")\n",
        "        plt.axis(\"off\")\n",
        "\n",
        "    plt.tight_layout()\n",
        "    plt.show()\n",
        "\n",
        "# Visualize the first 5 HOG-transformed images\n",
        "visualize_hog_images(X_train, X_train_hog_images, y_train, num_images=5)\n"
      ]
    },
    {
      "cell_type": "code",
      "execution_count": 27,
      "metadata": {
        "id": "S8ijji5GVwDz"
      },
      "outputs": [],
      "source": [
        "from skimage.feature import hog\n",
        "\n",
        "def preprocess_hog(images):\n",
        "    hog_features = [hog(img, pixels_per_cell=(8, 8), cells_per_block=(2, 2), visualize=False) for img in images]\n",
        "    return np.array(hog_features)\n",
        "\n",
        "# Apply HOG feature extraction\n",
        "X_train_hog = preprocess_hog(X_train)\n",
        "X_val_hog = preprocess_hog(X_val)\n",
        "X_test_hog = preprocess_hog(test_images)\n",
        "\n",
        "# Convert to PyTorch tensors\n",
        "X_train_hog_tensor = torch.tensor(X_train_hog, dtype=torch.float32)\n",
        "X_val_hog_tensor = torch.tensor(X_val_hog, dtype=torch.float32)\n",
        "X_test_hog_tensor = torch.tensor(X_test_hog, dtype=torch.float32)\n",
        "\n",
        "train_loader_hog = DataLoader(TensorDataset(X_train_hog_tensor, y_train_tensor), batch_size=64, shuffle=True)\n",
        "val_loader_hog = DataLoader(TensorDataset(X_val_hog_tensor, y_val_tensor), batch_size=64, shuffle=False)\n",
        "test_loader_hog = DataLoader(TensorDataset(X_test_hog_tensor, y_test_tensor), batch_size = 64, shuffle=False)\n",
        "\n",
        "input_size_hog = X_train_hog.shape[1]  # HOG feature length"
      ]
    },
    {
      "cell_type": "markdown",
      "metadata": {
        "id": "pNk3IuwanIy4"
      },
      "source": [
        "### Hyperparameter tuning for model 3"
      ]
    },
    {
      "cell_type": "code",
      "execution_count": 28,
      "metadata": {
        "colab": {
          "base_uri": "https://localhost:8080/",
          "height": 1000
        },
        "id": "nhaslT2t-JGF",
        "outputId": "c09fa2fc-8cdc-4907-a1d9-b5d67524dd5d"
      },
      "outputs": [
        {
          "name": "stdout",
          "output_type": "stream",
          "text": [
            "Training Hog features with Learning Rate: 0.01, Optimizer: SGD\n"
          ]
        },
        {
          "data": {
            "text/html": [],
            "text/plain": [
              "<IPython.core.display.HTML object>"
            ]
          },
          "metadata": {},
          "output_type": "display_data"
        },
        {
          "data": {
            "text/html": [
              " View run <strong style=\"color:#cdcd00\">Hog features_LR-0.01_OPT-SGD</strong> at: <a href='https://wandb.ai/solo_yolo/Logs/runs/8n27xlv8' target=\"_blank\">https://wandb.ai/solo_yolo/Logs/runs/8n27xlv8</a><br> View project at: <a href='https://wandb.ai/solo_yolo/Logs' target=\"_blank\">https://wandb.ai/solo_yolo/Logs</a><br>Synced 5 W&B file(s), 0 media file(s), 0 artifact file(s) and 0 other file(s)"
            ],
            "text/plain": [
              "<IPython.core.display.HTML object>"
            ]
          },
          "metadata": {},
          "output_type": "display_data"
        },
        {
          "data": {
            "text/html": [
              "Find logs at: <code>./wandb/run-20250122_075539-8n27xlv8/logs</code>"
            ],
            "text/plain": [
              "<IPython.core.display.HTML object>"
            ]
          },
          "metadata": {},
          "output_type": "display_data"
        },
        {
          "data": {
            "text/html": [
              "Tracking run with wandb version 0.19.2"
            ],
            "text/plain": [
              "<IPython.core.display.HTML object>"
            ]
          },
          "metadata": {},
          "output_type": "display_data"
        },
        {
          "data": {
            "text/html": [
              "Run data is saved locally in <code>/content/wandb/run-20250122_075657-w4qev4sg</code>"
            ],
            "text/plain": [
              "<IPython.core.display.HTML object>"
            ]
          },
          "metadata": {},
          "output_type": "display_data"
        },
        {
          "data": {
            "text/html": [
              "Syncing run <strong><a href='https://wandb.ai/solo_yolo/Logs/runs/w4qev4sg' target=\"_blank\">Hog features_LR-0.01_OPT-SGD</a></strong> to <a href='https://wandb.ai/solo_yolo/Logs' target=\"_blank\">Weights & Biases</a> (<a href='https://wandb.me/developer-guide' target=\"_blank\">docs</a>)<br>"
            ],
            "text/plain": [
              "<IPython.core.display.HTML object>"
            ]
          },
          "metadata": {},
          "output_type": "display_data"
        },
        {
          "data": {
            "text/html": [
              " View project at <a href='https://wandb.ai/solo_yolo/Logs' target=\"_blank\">https://wandb.ai/solo_yolo/Logs</a>"
            ],
            "text/plain": [
              "<IPython.core.display.HTML object>"
            ]
          },
          "metadata": {},
          "output_type": "display_data"
        },
        {
          "data": {
            "text/html": [
              " View run at <a href='https://wandb.ai/solo_yolo/Logs/runs/w4qev4sg' target=\"_blank\">https://wandb.ai/solo_yolo/Logs/runs/w4qev4sg</a>"
            ],
            "text/plain": [
              "<IPython.core.display.HTML object>"
            ]
          },
          "metadata": {},
          "output_type": "display_data"
        },
        {
          "name": "stdout",
          "output_type": "stream",
          "text": [
            "Epoch 1/50 - Train Loss: 2.2467, Val Loss: 2.1289\n",
            "Epoch 2/50 - Train Loss: 1.8279, Val Loss: 1.5145\n",
            "Epoch 3/50 - Train Loss: 1.3122, Val Loss: 1.1255\n",
            "Epoch 4/50 - Train Loss: 1.0643, Val Loss: 0.9613\n",
            "Epoch 5/50 - Train Loss: 0.9472, Val Loss: 0.8693\n",
            "Epoch 6/50 - Train Loss: 0.8795, Val Loss: 0.8151\n",
            "Epoch 7/50 - Train Loss: 0.8332, Val Loss: 0.7739\n",
            "Epoch 8/50 - Train Loss: 0.7961, Val Loss: 0.7445\n",
            "Epoch 9/50 - Train Loss: 0.7694, Val Loss: 0.7183\n",
            "Epoch 10/50 - Train Loss: 0.7438, Val Loss: 0.6961\n",
            "Epoch 11/50 - Train Loss: 0.7240, Val Loss: 0.6786\n",
            "Epoch 12/50 - Train Loss: 0.7043, Val Loss: 0.6633\n",
            "Epoch 13/50 - Train Loss: 0.6878, Val Loss: 0.6505\n",
            "Epoch 14/50 - Train Loss: 0.6754, Val Loss: 0.6391\n",
            "Epoch 15/50 - Train Loss: 0.6630, Val Loss: 0.6268\n",
            "Epoch 16/50 - Train Loss: 0.6529, Val Loss: 0.6182\n",
            "Epoch 17/50 - Train Loss: 0.6448, Val Loss: 0.6106\n",
            "Epoch 18/50 - Train Loss: 0.6351, Val Loss: 0.6029\n",
            "Epoch 19/50 - Train Loss: 0.6258, Val Loss: 0.5958\n",
            "Epoch 20/50 - Train Loss: 0.6196, Val Loss: 0.5890\n",
            "Epoch 21/50 - Train Loss: 0.6126, Val Loss: 0.5832\n",
            "Epoch 22/50 - Train Loss: 0.6051, Val Loss: 0.5787\n",
            "Epoch 23/50 - Train Loss: 0.6012, Val Loss: 0.5717\n",
            "Epoch 24/50 - Train Loss: 0.5946, Val Loss: 0.5683\n",
            "Epoch 25/50 - Train Loss: 0.5897, Val Loss: 0.5636\n",
            "Epoch 26/50 - Train Loss: 0.5835, Val Loss: 0.5603\n",
            "Epoch 27/50 - Train Loss: 0.5787, Val Loss: 0.5560\n",
            "Epoch 28/50 - Train Loss: 0.5768, Val Loss: 0.5524\n",
            "Epoch 29/50 - Train Loss: 0.5707, Val Loss: 0.5494\n",
            "Epoch 30/50 - Train Loss: 0.5682, Val Loss: 0.5455\n",
            "Epoch 31/50 - Train Loss: 0.5657, Val Loss: 0.5461\n",
            "Validation loss did not improve. Patience counter: 1/3\n",
            "Epoch 32/50 - Train Loss: 0.5621, Val Loss: 0.5398\n",
            "Epoch 33/50 - Train Loss: 0.5592, Val Loss: 0.5374\n",
            "Epoch 34/50 - Train Loss: 0.5549, Val Loss: 0.5366\n",
            "Epoch 35/50 - Train Loss: 0.5537, Val Loss: 0.5336\n",
            "Epoch 36/50 - Train Loss: 0.5507, Val Loss: 0.5312\n",
            "Epoch 37/50 - Train Loss: 0.5475, Val Loss: 0.5288\n",
            "Epoch 38/50 - Train Loss: 0.5451, Val Loss: 0.5274\n",
            "Epoch 39/50 - Train Loss: 0.5436, Val Loss: 0.5277\n",
            "Validation loss did not improve. Patience counter: 1/3\n",
            "Epoch 40/50 - Train Loss: 0.5394, Val Loss: 0.5228\n",
            "Epoch 41/50 - Train Loss: 0.5375, Val Loss: 0.5204\n",
            "Epoch 42/50 - Train Loss: 0.5371, Val Loss: 0.5192\n",
            "Epoch 43/50 - Train Loss: 0.5346, Val Loss: 0.5171\n",
            "Epoch 44/50 - Train Loss: 0.5308, Val Loss: 0.5147\n",
            "Epoch 45/50 - Train Loss: 0.5295, Val Loss: 0.5147\n",
            "Validation loss did not improve. Patience counter: 1/3\n",
            "Epoch 46/50 - Train Loss: 0.5273, Val Loss: 0.5132\n",
            "Epoch 47/50 - Train Loss: 0.5252, Val Loss: 0.5118\n",
            "Epoch 48/50 - Train Loss: 0.5239, Val Loss: 0.5093\n",
            "Epoch 49/50 - Train Loss: 0.5218, Val Loss: 0.5093\n",
            "Epoch 50/50 - Train Loss: 0.5191, Val Loss: 0.5083\n",
            "Test Accuracy: 81.86%\n",
            "F1 Score: 0.8165\n",
            "Precision: 0.8155\n",
            "Recall: 0.8186\n",
            "Confusion Matrix:\n",
            "[[788  17  33  47   4   1  98   0  12   0]\n",
            " [  1 945  15  29   2   0   6   0   2   0]\n",
            " [ 12   0 719  15 143   0 105   0   5   1]\n",
            " [ 23  60  14 826  41   0  35   0   1   0]\n",
            " [  0   2 107  37 751   1  98   0   4   0]\n",
            " [  0   0   0   0   0 899   1  83   1  16]\n",
            " [179  12 148  51 118   0 481   0  11   0]\n",
            " [  0   0   0   0   0  83   0 873   0  44]\n",
            " [  7   2   9   2   6   5   7   1 959   2]\n",
            " [  0   0   0   0   0   8   0  47   0 945]]\n"
          ]
        },
        {
          "data": {
            "text/html": [],
            "text/plain": [
              "<IPython.core.display.HTML object>"
            ]
          },
          "metadata": {},
          "output_type": "display_data"
        },
        {
          "data": {
            "text/html": [
              "<br>    <style><br>        .wandb-row {<br>            display: flex;<br>            flex-direction: row;<br>            flex-wrap: wrap;<br>            justify-content: flex-start;<br>            width: 100%;<br>        }<br>        .wandb-col {<br>            display: flex;<br>            flex-direction: column;<br>            flex-basis: 100%;<br>            flex: 1;<br>            padding: 10px;<br>        }<br>    </style><br><div class=\"wandb-row\"><div class=\"wandb-col\"><h3>Run history:</h3><br/><table class=\"wandb\"><tr><td>epoch</td><td>▁▁▁▁▂▂▂▂▂▂▃▃▃▃▃▄▄▄▄▄▅▅▅▅▅▆▆▆▆▆▆▇▇▇▇▇▇███</td></tr><tr><td>train_loss</td><td>█▆▄▃▂▂▂▂▂▂▂▂▂▁▁▁▁▁▁▁▁▁▁▁▁▁▁▁▁▁▁▁▁▁▁▁▁▁▁▁</td></tr><tr><td>val_loss</td><td>█▅▄▃▃▂▂▂▂▂▂▂▂▁▁▁▁▁▁▁▁▁▁▁▁▁▁▁▁▁▁▁▁▁▁▁▁▁▁▁</td></tr></table><br/></div><div class=\"wandb-col\"><h3>Run summary:</h3><br/><table class=\"wandb\"><tr><td>epoch</td><td>50</td></tr><tr><td>train_loss</td><td>0.5191</td></tr><tr><td>val_loss</td><td>0.50835</td></tr></table><br/></div></div>"
            ],
            "text/plain": [
              "<IPython.core.display.HTML object>"
            ]
          },
          "metadata": {},
          "output_type": "display_data"
        },
        {
          "data": {
            "text/html": [
              " View run <strong style=\"color:#cdcd00\">Hog features_LR-0.01_OPT-SGD</strong> at: <a href='https://wandb.ai/solo_yolo/Logs/runs/w4qev4sg' target=\"_blank\">https://wandb.ai/solo_yolo/Logs/runs/w4qev4sg</a><br> View project at: <a href='https://wandb.ai/solo_yolo/Logs' target=\"_blank\">https://wandb.ai/solo_yolo/Logs</a><br>Synced 5 W&B file(s), 0 media file(s), 0 artifact file(s) and 0 other file(s)"
            ],
            "text/plain": [
              "<IPython.core.display.HTML object>"
            ]
          },
          "metadata": {},
          "output_type": "display_data"
        },
        {
          "data": {
            "text/html": [
              "Find logs at: <code>./wandb/run-20250122_075657-w4qev4sg/logs</code>"
            ],
            "text/plain": [
              "<IPython.core.display.HTML object>"
            ]
          },
          "metadata": {},
          "output_type": "display_data"
        },
        {
          "name": "stdout",
          "output_type": "stream",
          "text": [
            "Training Hog features with Learning Rate: 0.01, Optimizer: Adam\n"
          ]
        },
        {
          "data": {
            "text/html": [
              "Tracking run with wandb version 0.19.2"
            ],
            "text/plain": [
              "<IPython.core.display.HTML object>"
            ]
          },
          "metadata": {},
          "output_type": "display_data"
        },
        {
          "data": {
            "text/html": [
              "Run data is saved locally in <code>/content/wandb/run-20250122_075943-kj0fmo1v</code>"
            ],
            "text/plain": [
              "<IPython.core.display.HTML object>"
            ]
          },
          "metadata": {},
          "output_type": "display_data"
        },
        {
          "data": {
            "text/html": [
              "Syncing run <strong><a href='https://wandb.ai/solo_yolo/Logs/runs/kj0fmo1v' target=\"_blank\">Hog features_LR-0.01_OPT-Adam</a></strong> to <a href='https://wandb.ai/solo_yolo/Logs' target=\"_blank\">Weights & Biases</a> (<a href='https://wandb.me/developer-guide' target=\"_blank\">docs</a>)<br>"
            ],
            "text/plain": [
              "<IPython.core.display.HTML object>"
            ]
          },
          "metadata": {},
          "output_type": "display_data"
        },
        {
          "data": {
            "text/html": [
              " View project at <a href='https://wandb.ai/solo_yolo/Logs' target=\"_blank\">https://wandb.ai/solo_yolo/Logs</a>"
            ],
            "text/plain": [
              "<IPython.core.display.HTML object>"
            ]
          },
          "metadata": {},
          "output_type": "display_data"
        },
        {
          "data": {
            "text/html": [
              " View run at <a href='https://wandb.ai/solo_yolo/Logs/runs/kj0fmo1v' target=\"_blank\">https://wandb.ai/solo_yolo/Logs/runs/kj0fmo1v</a>"
            ],
            "text/plain": [
              "<IPython.core.display.HTML object>"
            ]
          },
          "metadata": {},
          "output_type": "display_data"
        },
        {
          "name": "stdout",
          "output_type": "stream",
          "text": [
            "Epoch 1/50 - Train Loss: 0.6689, Val Loss: 0.5807\n",
            "Epoch 2/50 - Train Loss: 0.5822, Val Loss: 0.5125\n",
            "Epoch 3/50 - Train Loss: 0.5591, Val Loss: 0.5340\n",
            "Validation loss did not improve. Patience counter: 1/3\n",
            "Epoch 4/50 - Train Loss: 0.5451, Val Loss: 0.4861\n",
            "Epoch 5/50 - Train Loss: 0.5418, Val Loss: 0.4986\n",
            "Validation loss did not improve. Patience counter: 1/3\n",
            "Epoch 6/50 - Train Loss: 0.5295, Val Loss: 0.4892\n",
            "Validation loss did not improve. Patience counter: 2/3\n",
            "Epoch 7/50 - Train Loss: 0.5297, Val Loss: 0.4858\n",
            "Epoch 8/50 - Train Loss: 0.5242, Val Loss: 0.5003\n",
            "Validation loss did not improve. Patience counter: 1/3\n",
            "Epoch 9/50 - Train Loss: 0.5197, Val Loss: 0.4868\n",
            "Validation loss did not improve. Patience counter: 2/3\n",
            "Epoch 10/50 - Train Loss: 0.5139, Val Loss: 0.4896\n",
            "Validation loss did not improve. Patience counter: 3/3\n",
            "Early stopping triggered.\n",
            "Test Accuracy: 82.48%\n",
            "F1 Score: 0.8208\n",
            "Precision: 0.8225\n",
            "Recall: 0.8248\n",
            "Confusion Matrix:\n",
            "[[799  14  39  39   3   0  90   0  16   0]\n",
            " [  2 953  10  30   1   0   3   0   1   0]\n",
            " [ 10   0 744  14 170   0  56   0   6   0]\n",
            " [ 18  42  14 852  41   1  28   0   3   1]\n",
            " [  0   3 109  39 791   0  56   0   2   0]\n",
            " [  0   0   0   0   0 892   0  83   1  24]\n",
            " [170   1 167  47 169   0 431   0  15   0]\n",
            " [  0   0   0   1   0  67   0 856   0  76]\n",
            " [  3   1  11   4   1   2   9   5 963   1]\n",
            " [  0   0   0   0   0   4   0  28   1 967]]\n"
          ]
        },
        {
          "data": {
            "text/html": [],
            "text/plain": [
              "<IPython.core.display.HTML object>"
            ]
          },
          "metadata": {},
          "output_type": "display_data"
        },
        {
          "data": {
            "text/html": [
              "<br>    <style><br>        .wandb-row {<br>            display: flex;<br>            flex-direction: row;<br>            flex-wrap: wrap;<br>            justify-content: flex-start;<br>            width: 100%;<br>        }<br>        .wandb-col {<br>            display: flex;<br>            flex-direction: column;<br>            flex-basis: 100%;<br>            flex: 1;<br>            padding: 10px;<br>        }<br>    </style><br><div class=\"wandb-row\"><div class=\"wandb-col\"><h3>Run history:</h3><br/><table class=\"wandb\"><tr><td>epoch</td><td>▁▂▃▃▄▅▆▆▇█</td></tr><tr><td>train_loss</td><td>█▄▃▂▂▂▂▁▁▁</td></tr><tr><td>val_loss</td><td>█▃▅▁▂▁▁▂▁▁</td></tr></table><br/></div><div class=\"wandb-col\"><h3>Run summary:</h3><br/><table class=\"wandb\"><tr><td>epoch</td><td>10</td></tr><tr><td>train_loss</td><td>0.51395</td></tr><tr><td>val_loss</td><td>0.48956</td></tr></table><br/></div></div>"
            ],
            "text/plain": [
              "<IPython.core.display.HTML object>"
            ]
          },
          "metadata": {},
          "output_type": "display_data"
        },
        {
          "data": {
            "text/html": [
              " View run <strong style=\"color:#cdcd00\">Hog features_LR-0.01_OPT-Adam</strong> at: <a href='https://wandb.ai/solo_yolo/Logs/runs/kj0fmo1v' target=\"_blank\">https://wandb.ai/solo_yolo/Logs/runs/kj0fmo1v</a><br> View project at: <a href='https://wandb.ai/solo_yolo/Logs' target=\"_blank\">https://wandb.ai/solo_yolo/Logs</a><br>Synced 5 W&B file(s), 0 media file(s), 0 artifact file(s) and 0 other file(s)"
            ],
            "text/plain": [
              "<IPython.core.display.HTML object>"
            ]
          },
          "metadata": {},
          "output_type": "display_data"
        },
        {
          "data": {
            "text/html": [
              "Find logs at: <code>./wandb/run-20250122_075943-kj0fmo1v/logs</code>"
            ],
            "text/plain": [
              "<IPython.core.display.HTML object>"
            ]
          },
          "metadata": {},
          "output_type": "display_data"
        },
        {
          "name": "stdout",
          "output_type": "stream",
          "text": [
            "Training Hog features with Learning Rate: 0.001, Optimizer: SGD\n"
          ]
        },
        {
          "data": {
            "text/html": [
              "Tracking run with wandb version 0.19.2"
            ],
            "text/plain": [
              "<IPython.core.display.HTML object>"
            ]
          },
          "metadata": {},
          "output_type": "display_data"
        },
        {
          "data": {
            "text/html": [
              "Run data is saved locally in <code>/content/wandb/run-20250122_080057-reypvlmv</code>"
            ],
            "text/plain": [
              "<IPython.core.display.HTML object>"
            ]
          },
          "metadata": {},
          "output_type": "display_data"
        },
        {
          "data": {
            "text/html": [
              "Syncing run <strong><a href='https://wandb.ai/solo_yolo/Logs/runs/reypvlmv' target=\"_blank\">Hog features_LR-0.001_OPT-SGD</a></strong> to <a href='https://wandb.ai/solo_yolo/Logs' target=\"_blank\">Weights & Biases</a> (<a href='https://wandb.me/developer-guide' target=\"_blank\">docs</a>)<br>"
            ],
            "text/plain": [
              "<IPython.core.display.HTML object>"
            ]
          },
          "metadata": {},
          "output_type": "display_data"
        },
        {
          "data": {
            "text/html": [
              " View project at <a href='https://wandb.ai/solo_yolo/Logs' target=\"_blank\">https://wandb.ai/solo_yolo/Logs</a>"
            ],
            "text/plain": [
              "<IPython.core.display.HTML object>"
            ]
          },
          "metadata": {},
          "output_type": "display_data"
        },
        {
          "data": {
            "text/html": [
              " View run at <a href='https://wandb.ai/solo_yolo/Logs/runs/reypvlmv' target=\"_blank\">https://wandb.ai/solo_yolo/Logs/runs/reypvlmv</a>"
            ],
            "text/plain": [
              "<IPython.core.display.HTML object>"
            ]
          },
          "metadata": {},
          "output_type": "display_data"
        },
        {
          "name": "stdout",
          "output_type": "stream",
          "text": [
            "Epoch 1/50 - Train Loss: 2.3012, Val Loss: 2.2963\n",
            "Epoch 2/50 - Train Loss: 2.2930, Val Loss: 2.2877\n",
            "Epoch 3/50 - Train Loss: 2.2845, Val Loss: 2.2782\n",
            "Epoch 4/50 - Train Loss: 2.2747, Val Loss: 2.2673\n",
            "Epoch 5/50 - Train Loss: 2.2633, Val Loss: 2.2541\n",
            "Epoch 6/50 - Train Loss: 2.2492, Val Loss: 2.2378\n",
            "Epoch 7/50 - Train Loss: 2.2316, Val Loss: 2.2175\n",
            "Epoch 8/50 - Train Loss: 2.2093, Val Loss: 2.1916\n",
            "Epoch 9/50 - Train Loss: 2.1807, Val Loss: 2.1589\n",
            "Epoch 10/50 - Train Loss: 2.1447, Val Loss: 2.1179\n",
            "Epoch 11/50 - Train Loss: 2.0996, Val Loss: 2.0674\n",
            "Epoch 12/50 - Train Loss: 2.0452, Val Loss: 2.0078\n",
            "Epoch 13/50 - Train Loss: 1.9827, Val Loss: 1.9414\n",
            "Epoch 14/50 - Train Loss: 1.9143, Val Loss: 1.8721\n",
            "Epoch 15/50 - Train Loss: 1.8462, Val Loss: 1.8050\n",
            "Epoch 16/50 - Train Loss: 1.7821, Val Loss: 1.7425\n",
            "Epoch 17/50 - Train Loss: 1.7220, Val Loss: 1.6849\n",
            "Epoch 18/50 - Train Loss: 1.6666, Val Loss: 1.6309\n",
            "Epoch 19/50 - Train Loss: 1.6145, Val Loss: 1.5793\n",
            "Epoch 20/50 - Train Loss: 1.5645, Val Loss: 1.5292\n",
            "Epoch 21/50 - Train Loss: 1.5152, Val Loss: 1.4800\n",
            "Epoch 22/50 - Train Loss: 1.4678, Val Loss: 1.4321\n",
            "Epoch 23/50 - Train Loss: 1.4226, Val Loss: 1.3860\n",
            "Epoch 24/50 - Train Loss: 1.3788, Val Loss: 1.3422\n",
            "Epoch 25/50 - Train Loss: 1.3391, Val Loss: 1.3014\n",
            "Epoch 26/50 - Train Loss: 1.3019, Val Loss: 1.2640\n",
            "Epoch 27/50 - Train Loss: 1.2677, Val Loss: 1.2300\n",
            "Epoch 28/50 - Train Loss: 1.2358, Val Loss: 1.1992\n",
            "Epoch 29/50 - Train Loss: 1.2093, Val Loss: 1.1715\n",
            "Epoch 30/50 - Train Loss: 1.1823, Val Loss: 1.1466\n",
            "Epoch 31/50 - Train Loss: 1.1613, Val Loss: 1.1240\n",
            "Epoch 32/50 - Train Loss: 1.1415, Val Loss: 1.1035\n",
            "Epoch 33/50 - Train Loss: 1.1217, Val Loss: 1.0843\n",
            "Epoch 34/50 - Train Loss: 1.1049, Val Loss: 1.0668\n",
            "Epoch 35/50 - Train Loss: 1.0910, Val Loss: 1.0507\n",
            "Epoch 36/50 - Train Loss: 1.0737, Val Loss: 1.0352\n",
            "Epoch 37/50 - Train Loss: 1.0601, Val Loss: 1.0207\n",
            "Epoch 38/50 - Train Loss: 1.0457, Val Loss: 1.0069\n",
            "Epoch 39/50 - Train Loss: 1.0343, Val Loss: 0.9940\n",
            "Epoch 40/50 - Train Loss: 1.0232, Val Loss: 0.9815\n",
            "Epoch 41/50 - Train Loss: 1.0113, Val Loss: 0.9697\n",
            "Epoch 42/50 - Train Loss: 0.9992, Val Loss: 0.9582\n",
            "Epoch 43/50 - Train Loss: 0.9897, Val Loss: 0.9473\n",
            "Epoch 44/50 - Train Loss: 0.9785, Val Loss: 0.9369\n",
            "Epoch 45/50 - Train Loss: 0.9699, Val Loss: 0.9271\n",
            "Epoch 46/50 - Train Loss: 0.9605, Val Loss: 0.9174\n",
            "Epoch 47/50 - Train Loss: 0.9506, Val Loss: 0.9085\n",
            "Epoch 48/50 - Train Loss: 0.9424, Val Loss: 0.8998\n",
            "Epoch 49/50 - Train Loss: 0.9352, Val Loss: 0.8921\n",
            "Epoch 50/50 - Train Loss: 0.9276, Val Loss: 0.8840\n",
            "Test Accuracy: 68.42%\n",
            "F1 Score: 0.6724\n",
            "Precision: 0.6729\n",
            "Recall: 0.6842\n",
            "Confusion Matrix:\n",
            "[[733  24  52  92  15   2  36   0  46   0]\n",
            " [  2 909  12  55   9   0   9   0   4   0]\n",
            " [ 24   0 522  12 275   1 123   0  43   0]\n",
            " [ 60 199   6 641  48   0  31   0  14   1]\n",
            " [  7   3 273  71 570   0  59   0  17   0]\n",
            " [  0   0   1   8   0 707   1 194  34  55]\n",
            " [208  18 247  73 231   0 179   0  44   0]\n",
            " [  0   0   0   0   0  86   0 832   0  82]\n",
            " [ 17   0  24  32   4  34   6   1 878   4]\n",
            " [  0   0   0   2   0  26   0 101   0 871]]\n"
          ]
        },
        {
          "data": {
            "text/html": [],
            "text/plain": [
              "<IPython.core.display.HTML object>"
            ]
          },
          "metadata": {},
          "output_type": "display_data"
        },
        {
          "data": {
            "text/html": [
              "<br>    <style><br>        .wandb-row {<br>            display: flex;<br>            flex-direction: row;<br>            flex-wrap: wrap;<br>            justify-content: flex-start;<br>            width: 100%;<br>        }<br>        .wandb-col {<br>            display: flex;<br>            flex-direction: column;<br>            flex-basis: 100%;<br>            flex: 1;<br>            padding: 10px;<br>        }<br>    </style><br><div class=\"wandb-row\"><div class=\"wandb-col\"><h3>Run history:</h3><br/><table class=\"wandb\"><tr><td>epoch</td><td>▁▁▁▁▂▂▂▂▂▂▃▃▃▃▃▄▄▄▄▄▅▅▅▅▅▅▆▆▆▆▆▇▇▇▇▇▇███</td></tr><tr><td>train_loss</td><td>███████▇▇▇▆▆▆▅▅▄▄▄▄▃▃▃▃▂▂▂▂▂▂▂▂▂▁▁▁▁▁▁▁▁</td></tr><tr><td>val_loss</td><td>██████▇▇▇▇▆▆▆▅▅▄▄▄▄▃▃▃▃▂▂▂▂▂▂▂▂▂▁▁▁▁▁▁▁▁</td></tr></table><br/></div><div class=\"wandb-col\"><h3>Run summary:</h3><br/><table class=\"wandb\"><tr><td>epoch</td><td>50</td></tr><tr><td>train_loss</td><td>0.9276</td></tr><tr><td>val_loss</td><td>0.88399</td></tr></table><br/></div></div>"
            ],
            "text/plain": [
              "<IPython.core.display.HTML object>"
            ]
          },
          "metadata": {},
          "output_type": "display_data"
        },
        {
          "data": {
            "text/html": [
              " View run <strong style=\"color:#cdcd00\">Hog features_LR-0.001_OPT-SGD</strong> at: <a href='https://wandb.ai/solo_yolo/Logs/runs/reypvlmv' target=\"_blank\">https://wandb.ai/solo_yolo/Logs/runs/reypvlmv</a><br> View project at: <a href='https://wandb.ai/solo_yolo/Logs' target=\"_blank\">https://wandb.ai/solo_yolo/Logs</a><br>Synced 5 W&B file(s), 0 media file(s), 0 artifact file(s) and 0 other file(s)"
            ],
            "text/plain": [
              "<IPython.core.display.HTML object>"
            ]
          },
          "metadata": {},
          "output_type": "display_data"
        },
        {
          "data": {
            "text/html": [
              "Find logs at: <code>./wandb/run-20250122_080057-reypvlmv/logs</code>"
            ],
            "text/plain": [
              "<IPython.core.display.HTML object>"
            ]
          },
          "metadata": {},
          "output_type": "display_data"
        },
        {
          "name": "stdout",
          "output_type": "stream",
          "text": [
            "Training Hog features with Learning Rate: 0.001, Optimizer: Adam\n"
          ]
        },
        {
          "data": {
            "text/html": [
              "Tracking run with wandb version 0.19.2"
            ],
            "text/plain": [
              "<IPython.core.display.HTML object>"
            ]
          },
          "metadata": {},
          "output_type": "display_data"
        },
        {
          "data": {
            "text/html": [
              "Run data is saved locally in <code>/content/wandb/run-20250122_080342-y81qygba</code>"
            ],
            "text/plain": [
              "<IPython.core.display.HTML object>"
            ]
          },
          "metadata": {},
          "output_type": "display_data"
        },
        {
          "data": {
            "text/html": [
              "Syncing run <strong><a href='https://wandb.ai/solo_yolo/Logs/runs/y81qygba' target=\"_blank\">Hog features_LR-0.001_OPT-Adam</a></strong> to <a href='https://wandb.ai/solo_yolo/Logs' target=\"_blank\">Weights & Biases</a> (<a href='https://wandb.me/developer-guide' target=\"_blank\">docs</a>)<br>"
            ],
            "text/plain": [
              "<IPython.core.display.HTML object>"
            ]
          },
          "metadata": {},
          "output_type": "display_data"
        },
        {
          "data": {
            "text/html": [
              " View project at <a href='https://wandb.ai/solo_yolo/Logs' target=\"_blank\">https://wandb.ai/solo_yolo/Logs</a>"
            ],
            "text/plain": [
              "<IPython.core.display.HTML object>"
            ]
          },
          "metadata": {},
          "output_type": "display_data"
        },
        {
          "data": {
            "text/html": [
              " View run at <a href='https://wandb.ai/solo_yolo/Logs/runs/y81qygba' target=\"_blank\">https://wandb.ai/solo_yolo/Logs/runs/y81qygba</a>"
            ],
            "text/plain": [
              "<IPython.core.display.HTML object>"
            ]
          },
          "metadata": {},
          "output_type": "display_data"
        },
        {
          "name": "stdout",
          "output_type": "stream",
          "text": [
            "Epoch 1/50 - Train Loss: 0.6950, Val Loss: 0.5327\n",
            "Epoch 2/50 - Train Loss: 0.5308, Val Loss: 0.4930\n",
            "Epoch 3/50 - Train Loss: 0.4955, Val Loss: 0.4752\n",
            "Epoch 4/50 - Train Loss: 0.4687, Val Loss: 0.4546\n",
            "Epoch 5/50 - Train Loss: 0.4507, Val Loss: 0.4419\n",
            "Epoch 6/50 - Train Loss: 0.4326, Val Loss: 0.4381\n",
            "Epoch 7/50 - Train Loss: 0.4188, Val Loss: 0.4228\n",
            "Epoch 8/50 - Train Loss: 0.4092, Val Loss: 0.4215\n",
            "Epoch 9/50 - Train Loss: 0.3965, Val Loss: 0.4290\n",
            "Validation loss did not improve. Patience counter: 1/3\n",
            "Epoch 10/50 - Train Loss: 0.3856, Val Loss: 0.4175\n",
            "Epoch 11/50 - Train Loss: 0.3773, Val Loss: 0.4115\n",
            "Epoch 12/50 - Train Loss: 0.3692, Val Loss: 0.4114\n",
            "Epoch 13/50 - Train Loss: 0.3614, Val Loss: 0.4218\n",
            "Validation loss did not improve. Patience counter: 1/3\n",
            "Epoch 14/50 - Train Loss: 0.3518, Val Loss: 0.4265\n",
            "Validation loss did not improve. Patience counter: 2/3\n",
            "Epoch 15/50 - Train Loss: 0.3423, Val Loss: 0.4132\n",
            "Validation loss did not improve. Patience counter: 3/3\n",
            "Early stopping triggered.\n",
            "Test Accuracy: 85.27%\n",
            "F1 Score: 0.8491\n",
            "Precision: 0.8510\n",
            "Recall: 0.8527\n",
            "Confusion Matrix:\n",
            "[[861   5  20  39   3   0  63   0   9   0]\n",
            " [  1 947   4  42   1   0   4   0   1   0]\n",
            " [ 28   0 777  15 128   0  50   0   2   0]\n",
            " [ 18  17   6 908  30   0  20   0   0   1]\n",
            " [  0   1  77  47 811   1  62   0   1   0]\n",
            " [  0   0   0   0   0 923   0  52   1  24]\n",
            " [174   1 160  63 118   0 481   0   3   0]\n",
            " [  0   0   0   0   0  66   0 883   0  51]\n",
            " [  5   1   5   3   4   2   9   1 968   2]\n",
            " [  0   0   0   0   0   2   0  30   0 968]]\n"
          ]
        },
        {
          "data": {
            "text/html": [],
            "text/plain": [
              "<IPython.core.display.HTML object>"
            ]
          },
          "metadata": {},
          "output_type": "display_data"
        },
        {
          "data": {
            "text/html": [
              "<br>    <style><br>        .wandb-row {<br>            display: flex;<br>            flex-direction: row;<br>            flex-wrap: wrap;<br>            justify-content: flex-start;<br>            width: 100%;<br>        }<br>        .wandb-col {<br>            display: flex;<br>            flex-direction: column;<br>            flex-basis: 100%;<br>            flex: 1;<br>            padding: 10px;<br>        }<br>    </style><br><div class=\"wandb-row\"><div class=\"wandb-col\"><h3>Run history:</h3><br/><table class=\"wandb\"><tr><td>epoch</td><td>▁▁▂▃▃▃▄▅▅▅▆▇▇▇█</td></tr><tr><td>train_loss</td><td>█▅▄▄▃▃▃▂▂▂▂▂▁▁▁</td></tr><tr><td>val_loss</td><td>█▆▅▃▃▃▂▂▂▁▁▁▂▂▁</td></tr></table><br/></div><div class=\"wandb-col\"><h3>Run summary:</h3><br/><table class=\"wandb\"><tr><td>epoch</td><td>15</td></tr><tr><td>train_loss</td><td>0.34228</td></tr><tr><td>val_loss</td><td>0.41318</td></tr></table><br/></div></div>"
            ],
            "text/plain": [
              "<IPython.core.display.HTML object>"
            ]
          },
          "metadata": {},
          "output_type": "display_data"
        },
        {
          "data": {
            "text/html": [
              " View run <strong style=\"color:#cdcd00\">Hog features_LR-0.001_OPT-Adam</strong> at: <a href='https://wandb.ai/solo_yolo/Logs/runs/y81qygba' target=\"_blank\">https://wandb.ai/solo_yolo/Logs/runs/y81qygba</a><br> View project at: <a href='https://wandb.ai/solo_yolo/Logs' target=\"_blank\">https://wandb.ai/solo_yolo/Logs</a><br>Synced 5 W&B file(s), 0 media file(s), 0 artifact file(s) and 0 other file(s)"
            ],
            "text/plain": [
              "<IPython.core.display.HTML object>"
            ]
          },
          "metadata": {},
          "output_type": "display_data"
        },
        {
          "data": {
            "text/html": [
              "Find logs at: <code>./wandb/run-20250122_080342-y81qygba/logs</code>"
            ],
            "text/plain": [
              "<IPython.core.display.HTML object>"
            ]
          },
          "metadata": {},
          "output_type": "display_data"
        }
      ],
      "source": [
        "results_model_3 = hyperparameter_tuning(\n",
        "    train_loader_hog, val_loader_hog, test_loader_hog,\n",
        "    input_size=input_size_hog,\n",
        "    num_classes=num_classes,\n",
        "    epochs=50,\n",
        "    patience=3,\n",
        "    model_name=\"Hog features\"\n",
        ")"
      ]
    },
    {
      "cell_type": "markdown",
      "metadata": {
        "id": "S-kNEOPfZJ-m"
      },
      "source": [
        "**Best Model:** Learning Rate: 0.001 Optimizer: Adam\n",
        "\n",
        "*   Test Accuracy: 85.27%\n",
        "*   F1 Score: 0.8491\n",
        "*   Precision: 0.8510\n",
        "*   Recall: 0.8527\n",
        "\n"
      ]
    },
    {
      "cell_type": "markdown",
      "metadata": {
        "id": "d33rLM3zaQkD"
      },
      "source": [
        "### Comparing parameters of the 3 models"
      ]
    },
    {
      "cell_type": "code",
      "execution_count": 7,
      "metadata": {
        "colab": {
          "base_uri": "https://localhost:8080/",
          "height": 143
        },
        "id": "0A0qp2QwZfoF",
        "outputId": "8dc8327e-aab1-40cd-9872-fc1702620ac6"
      },
      "outputs": [
        {
          "data": {
            "text/markdown": [
              "\n",
              "| **Model** | **Learning Rate** | **Optimizer** | **Test Accuracy** | **F1 Score** | **Precision** | **Recall** |\n",
              "|-----------|--------------------|---------------|-------------------|--------------|---------------|------------|\n",
              "| All features model   | 0.001             | SGD           | 89.21%           | 0.891        | 0.8910        | 0.8921     |\n",
              "| Edges only | 0.001             | Adam          | 81.21%           | 0.8135       | 0.8187        | 0.8121     |\n",
              "| HOG features | 0.001             | Adam          | 85.27%           | 0.8491       | 0.8510        | 0.8527     |\n"
            ],
            "text/plain": [
              "<IPython.core.display.Markdown object>"
            ]
          },
          "metadata": {},
          "output_type": "display_data"
        }
      ],
      "source": [
        "from IPython.display import display, Markdown\n",
        "\n",
        "table_data = f\"\"\"\n",
        "| **Model** | **Learning Rate** | **Optimizer** | **Test Accuracy** | **F1 Score** | **Precision** | **Recall** |\n",
        "|-----------|--------------------|---------------|-------------------|--------------|---------------|------------|\n",
        "| All features model   | 0.001             | SGD           | 89.21%           | 0.891        | 0.8910        | 0.8921     |\n",
        "| Edges only | 0.001             | Adam          | 81.21%           | 0.8135       | 0.8187        | 0.8121     |\n",
        "| HOG features | 0.001             | Adam          | 85.27%           | 0.8491       | 0.8510        | 0.8527     |\n",
        "\"\"\"\n",
        "\n",
        "display(Markdown(table_data))"
      ]
    },
    {
      "cell_type": "markdown",
      "metadata": {
        "id": "flE4DWqDcJ51"
      },
      "source": [
        "### Observations:\n",
        "\n",
        "1. **Model 1: Raw Images** \n",
        "\n",
        "Model 1 performed the best overall, with high accuracy and well-distributed performance across most classes.\n",
        "The raw image features allow the model to leverage detailed pixel-level information, capturing both edge and texture details.\n",
        "\n",
        "However, it struggles significantly in certain cases:\n",
        "\n",
        "- Class 6 (667 correct predictions): High misclassification likely due to noise or overlapping features with other classes.\n",
        "\n",
        "- Class 7 and Class 8: Moderate confusion, indicating that the raw features lack focus on discriminative features like edges or texture.\n",
        "\n",
        "2. **Model 2: Edge Detection Features** \n",
        "\n",
        "The performance dropped significantly compared to Model 1. Edge detection features focus primarily on the shape and structure of objects, but they discard texture and intensity information.\n",
        "\n",
        "Clear strengths in classes with strong edge information:\n",
        "- Class 1 (989 correct predictions) and Class 2 (897 correct predictions): These classes benefit from the simplicity of edges as key features.\n",
        "\n",
        "Weaknesses:\n",
        "- High confusion in classes like 3, 4, and 5, where texture or finer details are essential for differentiation.\n",
        "- Class 7 and Class 8 also showed high misclassification due to missing non-edge details.\n",
        "\n",
        "3. **Model 3: HOG Features**\n",
        "\n",
        "The HOG feature-based model performed better than Model 2 but slightly worse than Model 1.\n",
        "HOG captures both edge and directional gradient information, which provides richer features than raw edge detection but less detail than the full pixel-based input.\n",
        "\n",
        "Strong performance in:\n",
        "- Class 2 and Class 9: HOG effectively captures patterns where texture and orientation gradients dominate.\n",
        "\n",
        "Weaknesses:\n",
        "- Significant misclassification in Class 6 and Class 7, likely due to overlapping directional patterns and texture reliance.\n",
        "- Classes with subtle variations (e.g., Class 4 and 5) also faced moderate confusion.\n"
      ]
    },
    {
      "cell_type": "markdown",
      "metadata": {
        "id": "_QVheyMdc2qW"
      },
      "source": [
        "### Scenarios Where Each Transformation Might Perform Better\n",
        "\n",
        "*Model 1 (Raw Images):*\n",
        "\n",
        "Suitable for datasets where fine-grained details (e.g., texture, color intensity) are crucial for classification.\n",
        "Works well when the MLP has enough capacity to handle high-dimensional inputs and the dataset size is large enough to prevent overfitting.\n",
        "\n",
        "*Model 2 (Edge Detection):*\n",
        "\n",
        "Effective for classification tasks dominated by shape and structural information, such as handwritten digit recognition or object outlines.\n",
        "Beneficial when computational efficiency is critical, as edge detection reduces feature dimensionality.\n",
        "\n",
        "M*odel 3 (HOG Features):*\n",
        "\n",
        "Best for tasks where both structure and gradient orientation are important, such as facial recognition or object detection in controlled environments.\n",
        "Offers a good balance between feature richness and dimensionality reduction."
      ]
    }
  ],
  "metadata": {
    "colab": {
      "provenance": []
    },
    "kernelspec": {
      "display_name": "Python 3",
      "name": "python3"
    },
    "language_info": {
      "name": "python"
    }
  },
  "nbformat": 4,
  "nbformat_minor": 0
}
